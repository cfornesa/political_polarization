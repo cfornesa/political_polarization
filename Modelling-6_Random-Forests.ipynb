{
 "cells": [
  {
   "cell_type": "markdown",
   "metadata": {
    "id": "tW13DTo8v5-a"
   },
   "source": [
    "# Library and Data Imports and Standardization"
   ]
  },
  {
   "cell_type": "code",
   "execution_count": 1,
   "metadata": {
    "colab": {
     "base_uri": "https://localhost:8080/"
    },
    "executionInfo": {
     "elapsed": 5304,
     "status": "ok",
     "timestamp": 1758696006058,
     "user": {
      "displayName": "Christopher Fornesa",
      "userId": "11885562963716384029"
     },
     "user_tz": 300
    },
    "id": "pA00JuuX9NPr",
    "outputId": "ff0e7836-0ffe-4feb-acee-3235df9c75b0"
   },
   "outputs": [],
   "source": [
    "# Make the imports\n",
    "import pandas as pd\n",
    "import numpy as np\n",
    "import matplotlib.pyplot as plt\n",
    "import seaborn as sns\n",
    "import warnings\n",
    "warnings.filterwarnings('ignore')\n",
    "import sklearn as sk\n",
    "\n",
    "# Import StandardScaler\n",
    "from sklearn.preprocessing import StandardScaler\n",
    "\n",
    "# Import ordinal encoder\n",
    "from sklearn.preprocessing import OrdinalEncoder\n",
    "\n",
    "# Import Logistic Regression\n",
    "from sklearn.linear_model import LogisticRegression\n",
    "from sklearn.model_selection import train_test_split\n",
    "from sklearn.metrics import accuracy_score, make_scorer, r2_score, root_mean_squared_error\n",
    "\n",
    "# Import train test split\n",
    "from sklearn.model_selection import train_test_split\n",
    "\n",
    "from sklearn.pipeline import Pipeline\n",
    "from sklearn.model_selection import GridSearchCV\n",
    "from sklearn import svm\n",
    "from sklearn.kernel_approximation import RBFSampler\n",
    "from sklearn.linear_model import SGDClassifier\n",
    "from sklearn.metrics import classification_report, accuracy_score, f1_score\n",
    "from pprint import pprint\n",
    "\n",
    "# Import Random Forest Regressor and Classifier\n",
    "from sklearn.ensemble import RandomForestRegressor\n",
    "from sklearn.ensemble import RandomForestClassifier\n",
    "\n",
    "# Import time\n",
    "import time\n",
    "\n",
    "# Import Randomized Search CV\n",
    "from sklearn.model_selection import RandomizedSearchCV\n",
    "\n",
    "# Import confusion matrix\n",
    "from sklearn.metrics import confusion_matrix\n",
    "\n",
    "# Import kfold\n",
    "from sklearn.model_selection import KFold\n",
    "\n",
    "# Import cross val score\n",
    "from sklearn.model_selection import cross_val_score\n",
    "\n",
    "# Import math\n",
    "import math\n",
    "\n",
    "# Import log2\n",
    "from math import log2\n",
    "\n",
    "# Import classification report\n",
    "from sklearn.metrics import classification_report\n",
    "\n",
    "np.random.seed(42)\n",
    "\n",
    "# from google.colab import drive\n",
    "# drive.mount('/content/drive')"
   ]
  },
  {
   "cell_type": "code",
   "execution_count": 2,
   "metadata": {
    "executionInfo": {
     "elapsed": 82,
     "status": "ok",
     "timestamp": 1758696006146,
     "user": {
      "displayName": "Christopher Fornesa",
      "userId": "11885562963716384029"
     },
     "user_tz": 300
    },
    "id": "PVpkw-tNzcCr"
   },
   "outputs": [],
   "source": [
    "# path = '/content/drive/My Drive/Online MSDS/MOD C2/Political Polarization/data/'\n",
    "path = 'data/'\n",
    "convabuse_filename = 'convabuse_final.csv'\n",
    "dghs_filename = 'dynamically_generated_hate_speech_dataset_final.csv'\n",
    "oaa_filename = 'online_abusive_attacks_final.csv'\n",
    "us2020hs_filename = 'us_elections_2020_hate_speech_final.csv'\n",
    "mlma_hate_speech_filename = 'MLMA_hate_speech_final.csv'"
   ]
  },
  {
   "cell_type": "code",
   "execution_count": 3,
   "metadata": {
    "executionInfo": {
     "elapsed": 1460,
     "status": "ok",
     "timestamp": 1758696007620,
     "user": {
      "displayName": "Christopher Fornesa",
      "userId": "11885562963716384029"
     },
     "user_tz": 300
    },
    "id": "Fx0ll_Id9yUo"
   },
   "outputs": [],
   "source": [
    "# Import the datasets\n",
    "convabuse = pd.read_csv(f'{path}{convabuse_filename}')\n",
    "dynamically_generated_hate_speech = pd.read_csv(f'{path}{dghs_filename}')\n",
    "online_abusive_attacks = pd.read_csv(f'{path}{oaa_filename}')\n",
    "us_elections_2020_hate_speech = pd.read_csv(f'{path}{us2020hs_filename}')\n",
    "mlma_hate_speech = pd.read_csv(f'{path}{mlma_hate_speech_filename}')\n",
    "mlma_hate_speech_sample = mlma_hate_speech.sample(frac=0.3, random_state=42)"
   ]
  },
  {
   "cell_type": "code",
   "execution_count": 4,
   "metadata": {
    "colab": {
     "base_uri": "https://localhost:8080/",
     "height": 206
    },
    "executionInfo": {
     "elapsed": 396,
     "status": "ok",
     "timestamp": 1758696008038,
     "user": {
      "displayName": "Christopher Fornesa",
      "userId": "11885562963716384029"
     },
     "user_tz": 300
    },
    "id": "7Q7fKHbPGQtc",
    "outputId": "3b02a610-7e96-4217-dfc6-c8dc02a957b8"
   },
   "outputs": [
    {
     "data": {
      "text/html": [
       "<div>\n",
       "<style scoped>\n",
       "    .dataframe tbody tr th:only-of-type {\n",
       "        vertical-align: middle;\n",
       "    }\n",
       "\n",
       "    .dataframe tbody tr th {\n",
       "        vertical-align: top;\n",
       "    }\n",
       "\n",
       "    .dataframe thead th {\n",
       "        text-align: right;\n",
       "    }\n",
       "</style>\n",
       "<table border=\"1\" class=\"dataframe\">\n",
       "  <thead>\n",
       "    <tr style=\"text-align: right;\">\n",
       "      <th></th>\n",
       "      <th>race_or_ethnicity</th>\n",
       "      <th>gender</th>\n",
       "      <th>religion</th>\n",
       "      <th>lgbtq</th>\n",
       "      <th>nationality</th>\n",
       "      <th>age</th>\n",
       "      <th>disability</th>\n",
       "      <th>class</th>\n",
       "      <th>none</th>\n",
       "      <th>abuse_level</th>\n",
       "    </tr>\n",
       "  </thead>\n",
       "  <tbody>\n",
       "    <tr>\n",
       "      <th>0</th>\n",
       "      <td>0</td>\n",
       "      <td>0</td>\n",
       "      <td>0</td>\n",
       "      <td>0</td>\n",
       "      <td>0</td>\n",
       "      <td>0</td>\n",
       "      <td>0</td>\n",
       "      <td>0</td>\n",
       "      <td>0</td>\n",
       "      <td>0</td>\n",
       "    </tr>\n",
       "    <tr>\n",
       "      <th>1</th>\n",
       "      <td>0</td>\n",
       "      <td>0</td>\n",
       "      <td>0</td>\n",
       "      <td>0</td>\n",
       "      <td>0</td>\n",
       "      <td>0</td>\n",
       "      <td>0</td>\n",
       "      <td>0</td>\n",
       "      <td>0</td>\n",
       "      <td>0</td>\n",
       "    </tr>\n",
       "    <tr>\n",
       "      <th>2</th>\n",
       "      <td>0</td>\n",
       "      <td>0</td>\n",
       "      <td>0</td>\n",
       "      <td>0</td>\n",
       "      <td>0</td>\n",
       "      <td>0</td>\n",
       "      <td>0</td>\n",
       "      <td>0</td>\n",
       "      <td>0</td>\n",
       "      <td>0</td>\n",
       "    </tr>\n",
       "    <tr>\n",
       "      <th>3</th>\n",
       "      <td>0</td>\n",
       "      <td>0</td>\n",
       "      <td>0</td>\n",
       "      <td>0</td>\n",
       "      <td>0</td>\n",
       "      <td>0</td>\n",
       "      <td>0</td>\n",
       "      <td>0</td>\n",
       "      <td>0</td>\n",
       "      <td>0</td>\n",
       "    </tr>\n",
       "    <tr>\n",
       "      <th>4</th>\n",
       "      <td>0</td>\n",
       "      <td>0</td>\n",
       "      <td>0</td>\n",
       "      <td>0</td>\n",
       "      <td>0</td>\n",
       "      <td>0</td>\n",
       "      <td>0</td>\n",
       "      <td>0</td>\n",
       "      <td>0</td>\n",
       "      <td>0</td>\n",
       "    </tr>\n",
       "  </tbody>\n",
       "</table>\n",
       "</div>"
      ],
      "text/plain": [
       "   race_or_ethnicity  gender  religion  lgbtq  nationality  age  disability  \\\n",
       "0                  0       0         0      0            0    0           0   \n",
       "1                  0       0         0      0            0    0           0   \n",
       "2                  0       0         0      0            0    0           0   \n",
       "3                  0       0         0      0            0    0           0   \n",
       "4                  0       0         0      0            0    0           0   \n",
       "\n",
       "   class  none  abuse_level  \n",
       "0      0     0            0  \n",
       "1      0     0            0  \n",
       "2      0     0            0  \n",
       "3      0     0            0  \n",
       "4      0     0            0  "
      ]
     },
     "execution_count": 4,
     "metadata": {},
     "output_type": "execute_result"
    }
   ],
   "source": [
    "convabuse.head()"
   ]
  },
  {
   "cell_type": "code",
   "execution_count": 5,
   "metadata": {
    "executionInfo": {
     "elapsed": 21,
     "status": "ok",
     "timestamp": 1758696008043,
     "user": {
      "displayName": "Christopher Fornesa",
      "userId": "11885562963716384029"
     },
     "user_tz": 300
    },
    "id": "TZkC0ukoGQOI"
   },
   "outputs": [],
   "source": [
    "convabuse_X = convabuse.drop(\"abuse_level\", axis=1)\n",
    "convabuse_y = convabuse[\"abuse_level\"]"
   ]
  },
  {
   "cell_type": "code",
   "execution_count": 6,
   "metadata": {
    "colab": {
     "base_uri": "https://localhost:8080/",
     "height": 206
    },
    "executionInfo": {
     "elapsed": 125,
     "status": "ok",
     "timestamp": 1758696009954,
     "user": {
      "displayName": "Christopher Fornesa",
      "userId": "11885562963716384029"
     },
     "user_tz": 300
    },
    "id": "lE9HQYXJAFNc",
    "outputId": "291912c0-1097-48b4-9e28-4cd740ff0648"
   },
   "outputs": [
    {
     "data": {
      "text/html": [
       "<div>\n",
       "<style scoped>\n",
       "    .dataframe tbody tr th:only-of-type {\n",
       "        vertical-align: middle;\n",
       "    }\n",
       "\n",
       "    .dataframe tbody tr th {\n",
       "        vertical-align: top;\n",
       "    }\n",
       "\n",
       "    .dataframe thead th {\n",
       "        text-align: right;\n",
       "    }\n",
       "</style>\n",
       "<table border=\"1\" class=\"dataframe\">\n",
       "  <thead>\n",
       "    <tr style=\"text-align: right;\">\n",
       "      <th></th>\n",
       "      <th>label</th>\n",
       "      <th>type</th>\n",
       "      <th>race_or_ethnicity</th>\n",
       "      <th>gender</th>\n",
       "      <th>religion</th>\n",
       "      <th>lgbtq</th>\n",
       "      <th>nationality</th>\n",
       "      <th>age</th>\n",
       "      <th>disability</th>\n",
       "      <th>class</th>\n",
       "      <th>none</th>\n",
       "      <th>original</th>\n",
       "    </tr>\n",
       "  </thead>\n",
       "  <tbody>\n",
       "    <tr>\n",
       "      <th>0</th>\n",
       "      <td>1.0</td>\n",
       "      <td>-1</td>\n",
       "      <td>0</td>\n",
       "      <td>0</td>\n",
       "      <td>0</td>\n",
       "      <td>1</td>\n",
       "      <td>0</td>\n",
       "      <td>0</td>\n",
       "      <td>0</td>\n",
       "      <td>0</td>\n",
       "      <td>0</td>\n",
       "      <td>0</td>\n",
       "    </tr>\n",
       "    <tr>\n",
       "      <th>1</th>\n",
       "      <td>1.0</td>\n",
       "      <td>-1</td>\n",
       "      <td>0</td>\n",
       "      <td>0</td>\n",
       "      <td>0</td>\n",
       "      <td>0</td>\n",
       "      <td>0</td>\n",
       "      <td>0</td>\n",
       "      <td>0</td>\n",
       "      <td>0</td>\n",
       "      <td>0</td>\n",
       "      <td>1</td>\n",
       "    </tr>\n",
       "    <tr>\n",
       "      <th>2</th>\n",
       "      <td>1.0</td>\n",
       "      <td>-1</td>\n",
       "      <td>0</td>\n",
       "      <td>0</td>\n",
       "      <td>0</td>\n",
       "      <td>0</td>\n",
       "      <td>0</td>\n",
       "      <td>0</td>\n",
       "      <td>0</td>\n",
       "      <td>0</td>\n",
       "      <td>0</td>\n",
       "      <td>0</td>\n",
       "    </tr>\n",
       "    <tr>\n",
       "      <th>3</th>\n",
       "      <td>1.0</td>\n",
       "      <td>0</td>\n",
       "      <td>0</td>\n",
       "      <td>0</td>\n",
       "      <td>0</td>\n",
       "      <td>0</td>\n",
       "      <td>0</td>\n",
       "      <td>0</td>\n",
       "      <td>0</td>\n",
       "      <td>0</td>\n",
       "      <td>1</td>\n",
       "      <td>1</td>\n",
       "    </tr>\n",
       "    <tr>\n",
       "      <th>4</th>\n",
       "      <td>1.0</td>\n",
       "      <td>-1</td>\n",
       "      <td>0</td>\n",
       "      <td>0</td>\n",
       "      <td>0</td>\n",
       "      <td>0</td>\n",
       "      <td>0</td>\n",
       "      <td>0</td>\n",
       "      <td>0</td>\n",
       "      <td>0</td>\n",
       "      <td>0</td>\n",
       "      <td>1</td>\n",
       "    </tr>\n",
       "  </tbody>\n",
       "</table>\n",
       "</div>"
      ],
      "text/plain": [
       "   label  type  race_or_ethnicity  gender  religion  lgbtq  nationality  age  \\\n",
       "0    1.0    -1                  0       0         0      1            0    0   \n",
       "1    1.0    -1                  0       0         0      0            0    0   \n",
       "2    1.0    -1                  0       0         0      0            0    0   \n",
       "3    1.0     0                  0       0         0      0            0    0   \n",
       "4    1.0    -1                  0       0         0      0            0    0   \n",
       "\n",
       "   disability  class  none  original  \n",
       "0           0      0     0         0  \n",
       "1           0      0     0         1  \n",
       "2           0      0     0         0  \n",
       "3           0      0     1         1  \n",
       "4           0      0     0         1  "
      ]
     },
     "execution_count": 6,
     "metadata": {},
     "output_type": "execute_result"
    }
   ],
   "source": [
    "dynamically_generated_hate_speech.head()"
   ]
  },
  {
   "cell_type": "code",
   "execution_count": 7,
   "metadata": {
    "executionInfo": {
     "elapsed": 65,
     "status": "ok",
     "timestamp": 1758696011443,
     "user": {
      "displayName": "Christopher Fornesa",
      "userId": "11885562963716384029"
     },
     "user_tz": 300
    },
    "id": "14re2BLNAkXr"
   },
   "outputs": [],
   "source": [
    "dghs_X = dynamically_generated_hate_speech.drop(\"label\", axis=1)\n",
    "dghs_y = dynamically_generated_hate_speech[\"label\"]"
   ]
  },
  {
   "cell_type": "code",
   "execution_count": 8,
   "metadata": {
    "colab": {
     "base_uri": "https://localhost:8080/",
     "height": 206
    },
    "executionInfo": {
     "elapsed": 51,
     "status": "ok",
     "timestamp": 1758696012382,
     "user": {
      "displayName": "Christopher Fornesa",
      "userId": "11885562963716384029"
     },
     "user_tz": 300
    },
    "id": "KMCnA-ZGGbqn",
    "outputId": "03145f61-b27d-4642-cf4a-f01ddda16362"
   },
   "outputs": [
    {
     "data": {
      "text/html": [
       "<div>\n",
       "<style scoped>\n",
       "    .dataframe tbody tr th:only-of-type {\n",
       "        vertical-align: middle;\n",
       "    }\n",
       "\n",
       "    .dataframe tbody tr th {\n",
       "        vertical-align: top;\n",
       "    }\n",
       "\n",
       "    .dataframe thead th {\n",
       "        text-align: right;\n",
       "    }\n",
       "</style>\n",
       "<table border=\"1\" class=\"dataframe\">\n",
       "  <thead>\n",
       "    <tr style=\"text-align: right;\">\n",
       "      <th></th>\n",
       "      <th>verified</th>\n",
       "      <th>high Identity_Attack</th>\n",
       "      <th>high Insult</th>\n",
       "      <th>high Profanity</th>\n",
       "      <th>high Threat</th>\n",
       "      <th>high other attr</th>\n",
       "      <th>Toxicity</th>\n",
       "    </tr>\n",
       "  </thead>\n",
       "  <tbody>\n",
       "    <tr>\n",
       "      <th>0</th>\n",
       "      <td>0</td>\n",
       "      <td>0.0</td>\n",
       "      <td>0.0</td>\n",
       "      <td>0.0</td>\n",
       "      <td>0.0</td>\n",
       "      <td>0.0</td>\n",
       "      <td>0.0</td>\n",
       "    </tr>\n",
       "    <tr>\n",
       "      <th>1</th>\n",
       "      <td>0</td>\n",
       "      <td>2.0</td>\n",
       "      <td>0.0</td>\n",
       "      <td>10.0</td>\n",
       "      <td>0.0</td>\n",
       "      <td>0.0</td>\n",
       "      <td>1.0</td>\n",
       "    </tr>\n",
       "    <tr>\n",
       "      <th>2</th>\n",
       "      <td>0</td>\n",
       "      <td>17.0</td>\n",
       "      <td>1.0</td>\n",
       "      <td>25.0</td>\n",
       "      <td>1.0</td>\n",
       "      <td>0.0</td>\n",
       "      <td>1.0</td>\n",
       "    </tr>\n",
       "    <tr>\n",
       "      <th>3</th>\n",
       "      <td>0</td>\n",
       "      <td>9.0</td>\n",
       "      <td>2.0</td>\n",
       "      <td>33.0</td>\n",
       "      <td>2.0</td>\n",
       "      <td>0.0</td>\n",
       "      <td>3.0</td>\n",
       "    </tr>\n",
       "    <tr>\n",
       "      <th>4</th>\n",
       "      <td>0</td>\n",
       "      <td>0.0</td>\n",
       "      <td>0.0</td>\n",
       "      <td>7.0</td>\n",
       "      <td>0.0</td>\n",
       "      <td>0.0</td>\n",
       "      <td>0.0</td>\n",
       "    </tr>\n",
       "  </tbody>\n",
       "</table>\n",
       "</div>"
      ],
      "text/plain": [
       "   verified  high Identity_Attack  high Insult  high Profanity  high Threat  \\\n",
       "0         0                   0.0          0.0             0.0          0.0   \n",
       "1         0                   2.0          0.0            10.0          0.0   \n",
       "2         0                  17.0          1.0            25.0          1.0   \n",
       "3         0                   9.0          2.0            33.0          2.0   \n",
       "4         0                   0.0          0.0             7.0          0.0   \n",
       "\n",
       "   high other attr  Toxicity  \n",
       "0              0.0       0.0  \n",
       "1              0.0       1.0  \n",
       "2              0.0       1.0  \n",
       "3              0.0       3.0  \n",
       "4              0.0       0.0  "
      ]
     },
     "execution_count": 8,
     "metadata": {},
     "output_type": "execute_result"
    }
   ],
   "source": [
    "online_abusive_attacks.head()"
   ]
  },
  {
   "cell_type": "code",
   "execution_count": 9,
   "metadata": {
    "executionInfo": {
     "elapsed": 37,
     "status": "ok",
     "timestamp": 1758696013638,
     "user": {
      "displayName": "Christopher Fornesa",
      "userId": "11885562963716384029"
     },
     "user_tz": 300
    },
    "id": "Mx3_qiUKGbNO"
   },
   "outputs": [],
   "source": [
    "online_abusive_attacks_X = online_abusive_attacks.drop(\"Toxicity\", axis=1)\n",
    "online_abusive_attacks_y = online_abusive_attacks[\"Toxicity\"]"
   ]
  },
  {
   "cell_type": "code",
   "execution_count": 10,
   "metadata": {
    "colab": {
     "base_uri": "https://localhost:8080/",
     "height": 206
    },
    "executionInfo": {
     "elapsed": 62,
     "status": "ok",
     "timestamp": 1758695959343,
     "user": {
      "displayName": "Christopher Fornesa",
      "userId": "11885562963716384029"
     },
     "user_tz": 300
    },
    "id": "6RCrhbDpAKtI",
    "outputId": "e244164f-1d8b-4a7c-e0e3-8d30c5c7ffd3"
   },
   "outputs": [
    {
     "data": {
      "text/html": [
       "<div>\n",
       "<style scoped>\n",
       "    .dataframe tbody tr th:only-of-type {\n",
       "        vertical-align: middle;\n",
       "    }\n",
       "\n",
       "    .dataframe tbody tr th {\n",
       "        vertical-align: top;\n",
       "    }\n",
       "\n",
       "    .dataframe thead th {\n",
       "        text-align: right;\n",
       "    }\n",
       "</style>\n",
       "<table border=\"1\" class=\"dataframe\">\n",
       "  <thead>\n",
       "    <tr style=\"text-align: right;\">\n",
       "      <th></th>\n",
       "      <th>Trump</th>\n",
       "      <th>Biden</th>\n",
       "      <th>HOF</th>\n",
       "    </tr>\n",
       "  </thead>\n",
       "  <tbody>\n",
       "    <tr>\n",
       "      <th>0</th>\n",
       "      <td>1.0</td>\n",
       "      <td>4.0</td>\n",
       "      <td>1</td>\n",
       "    </tr>\n",
       "    <tr>\n",
       "      <th>1</th>\n",
       "      <td>4.0</td>\n",
       "      <td>0.0</td>\n",
       "      <td>1</td>\n",
       "    </tr>\n",
       "    <tr>\n",
       "      <th>2</th>\n",
       "      <td>0.0</td>\n",
       "      <td>1.0</td>\n",
       "      <td>1</td>\n",
       "    </tr>\n",
       "    <tr>\n",
       "      <th>3</th>\n",
       "      <td>1.0</td>\n",
       "      <td>4.0</td>\n",
       "      <td>1</td>\n",
       "    </tr>\n",
       "    <tr>\n",
       "      <th>4</th>\n",
       "      <td>4.0</td>\n",
       "      <td>1.0</td>\n",
       "      <td>1</td>\n",
       "    </tr>\n",
       "  </tbody>\n",
       "</table>\n",
       "</div>"
      ],
      "text/plain": [
       "   Trump  Biden  HOF\n",
       "0    1.0    4.0    1\n",
       "1    4.0    0.0    1\n",
       "2    0.0    1.0    1\n",
       "3    1.0    4.0    1\n",
       "4    4.0    1.0    1"
      ]
     },
     "execution_count": 10,
     "metadata": {},
     "output_type": "execute_result"
    }
   ],
   "source": [
    "us_elections_2020_hate_speech.head()"
   ]
  },
  {
   "cell_type": "code",
   "execution_count": 11,
   "metadata": {
    "executionInfo": {
     "elapsed": 34,
     "status": "ok",
     "timestamp": 1758696016435,
     "user": {
      "displayName": "Christopher Fornesa",
      "userId": "11885562963716384029"
     },
     "user_tz": 300
    },
    "id": "GBckq0eiA0T7"
   },
   "outputs": [],
   "source": [
    "us2020hs_X = us_elections_2020_hate_speech.drop(\"HOF\", axis=1)\n",
    "us2020hs_y = us_elections_2020_hate_speech[\"HOF\"]"
   ]
  },
  {
   "cell_type": "code",
   "execution_count": 12,
   "metadata": {
    "colab": {
     "base_uri": "https://localhost:8080/",
     "height": 226
    },
    "executionInfo": {
     "elapsed": 81,
     "status": "ok",
     "timestamp": 1758696018279,
     "user": {
      "displayName": "Christopher Fornesa",
      "userId": "11885562963716384029"
     },
     "user_tz": 300
    },
    "id": "TlSiP2WEZRFQ",
    "outputId": "0ed5aa03-f60b-4e3f-9866-5a2b92161e00"
   },
   "outputs": [
    {
     "data": {
      "text/html": [
       "<div>\n",
       "<style scoped>\n",
       "    .dataframe tbody tr th:only-of-type {\n",
       "        vertical-align: middle;\n",
       "    }\n",
       "\n",
       "    .dataframe tbody tr th {\n",
       "        vertical-align: top;\n",
       "    }\n",
       "\n",
       "    .dataframe thead th {\n",
       "        text-align: right;\n",
       "    }\n",
       "</style>\n",
       "<table border=\"1\" class=\"dataframe\">\n",
       "  <thead>\n",
       "    <tr style=\"text-align: right;\">\n",
       "      <th></th>\n",
       "      <th>index</th>\n",
       "      <th>directness</th>\n",
       "      <th>shock_annotator_sentiment</th>\n",
       "      <th>anger_annotator_sentiment</th>\n",
       "      <th>confusion_annotator_sentiment</th>\n",
       "      <th>sadness_annotator_sentiment</th>\n",
       "      <th>indifference_annotator_sentiment</th>\n",
       "      <th>disgust_annotator_sentiment</th>\n",
       "      <th>fear_annotator_sentiment</th>\n",
       "      <th>race_or_ethnicity</th>\n",
       "      <th>gender</th>\n",
       "      <th>religion</th>\n",
       "      <th>lgbtq</th>\n",
       "      <th>nationality</th>\n",
       "      <th>age</th>\n",
       "      <th>disability</th>\n",
       "      <th>class</th>\n",
       "      <th>none</th>\n",
       "      <th>abuse_level</th>\n",
       "    </tr>\n",
       "  </thead>\n",
       "  <tbody>\n",
       "    <tr>\n",
       "      <th>0</th>\n",
       "      <td>7463</td>\n",
       "      <td>1</td>\n",
       "      <td>1</td>\n",
       "      <td>0</td>\n",
       "      <td>0</td>\n",
       "      <td>0</td>\n",
       "      <td>0</td>\n",
       "      <td>0</td>\n",
       "      <td>0</td>\n",
       "      <td>0</td>\n",
       "      <td>0</td>\n",
       "      <td>0</td>\n",
       "      <td>0</td>\n",
       "      <td>0</td>\n",
       "      <td>0</td>\n",
       "      <td>0</td>\n",
       "      <td>0</td>\n",
       "      <td>0</td>\n",
       "      <td>0</td>\n",
       "    </tr>\n",
       "    <tr>\n",
       "      <th>1</th>\n",
       "      <td>883</td>\n",
       "      <td>1</td>\n",
       "      <td>1</td>\n",
       "      <td>1</td>\n",
       "      <td>0</td>\n",
       "      <td>1</td>\n",
       "      <td>1</td>\n",
       "      <td>1</td>\n",
       "      <td>0</td>\n",
       "      <td>0</td>\n",
       "      <td>0</td>\n",
       "      <td>0</td>\n",
       "      <td>0</td>\n",
       "      <td>1</td>\n",
       "      <td>0</td>\n",
       "      <td>0</td>\n",
       "      <td>0</td>\n",
       "      <td>0</td>\n",
       "      <td>0</td>\n",
       "    </tr>\n",
       "    <tr>\n",
       "      <th>2</th>\n",
       "      <td>5524</td>\n",
       "      <td>0</td>\n",
       "      <td>1</td>\n",
       "      <td>0</td>\n",
       "      <td>0</td>\n",
       "      <td>0</td>\n",
       "      <td>0</td>\n",
       "      <td>0</td>\n",
       "      <td>0</td>\n",
       "      <td>0</td>\n",
       "      <td>0</td>\n",
       "      <td>0</td>\n",
       "      <td>0</td>\n",
       "      <td>1</td>\n",
       "      <td>0</td>\n",
       "      <td>0</td>\n",
       "      <td>0</td>\n",
       "      <td>0</td>\n",
       "      <td>0</td>\n",
       "    </tr>\n",
       "    <tr>\n",
       "      <th>3</th>\n",
       "      <td>5323</td>\n",
       "      <td>0</td>\n",
       "      <td>0</td>\n",
       "      <td>0</td>\n",
       "      <td>0</td>\n",
       "      <td>0</td>\n",
       "      <td>1</td>\n",
       "      <td>0</td>\n",
       "      <td>0</td>\n",
       "      <td>0</td>\n",
       "      <td>1</td>\n",
       "      <td>0</td>\n",
       "      <td>0</td>\n",
       "      <td>0</td>\n",
       "      <td>0</td>\n",
       "      <td>0</td>\n",
       "      <td>0</td>\n",
       "      <td>0</td>\n",
       "      <td>0</td>\n",
       "    </tr>\n",
       "    <tr>\n",
       "      <th>4</th>\n",
       "      <td>12290</td>\n",
       "      <td>0</td>\n",
       "      <td>0</td>\n",
       "      <td>0</td>\n",
       "      <td>0</td>\n",
       "      <td>1</td>\n",
       "      <td>0</td>\n",
       "      <td>0</td>\n",
       "      <td>0</td>\n",
       "      <td>0</td>\n",
       "      <td>0</td>\n",
       "      <td>0</td>\n",
       "      <td>0</td>\n",
       "      <td>0</td>\n",
       "      <td>0</td>\n",
       "      <td>0</td>\n",
       "      <td>0</td>\n",
       "      <td>0</td>\n",
       "      <td>0</td>\n",
       "    </tr>\n",
       "  </tbody>\n",
       "</table>\n",
       "</div>"
      ],
      "text/plain": [
       "   index  directness  shock_annotator_sentiment  anger_annotator_sentiment  \\\n",
       "0   7463           1                          1                          0   \n",
       "1    883           1                          1                          1   \n",
       "2   5524           0                          1                          0   \n",
       "3   5323           0                          0                          0   \n",
       "4  12290           0                          0                          0   \n",
       "\n",
       "   confusion_annotator_sentiment  sadness_annotator_sentiment  \\\n",
       "0                              0                            0   \n",
       "1                              0                            1   \n",
       "2                              0                            0   \n",
       "3                              0                            0   \n",
       "4                              0                            1   \n",
       "\n",
       "   indifference_annotator_sentiment  disgust_annotator_sentiment  \\\n",
       "0                                 0                            0   \n",
       "1                                 1                            1   \n",
       "2                                 0                            0   \n",
       "3                                 1                            0   \n",
       "4                                 0                            0   \n",
       "\n",
       "   fear_annotator_sentiment  race_or_ethnicity  gender  religion  lgbtq  \\\n",
       "0                         0                  0       0         0      0   \n",
       "1                         0                  0       0         0      0   \n",
       "2                         0                  0       0         0      0   \n",
       "3                         0                  0       1         0      0   \n",
       "4                         0                  0       0         0      0   \n",
       "\n",
       "   nationality  age  disability  class  none  abuse_level  \n",
       "0            0    0           0      0     0            0  \n",
       "1            1    0           0      0     0            0  \n",
       "2            1    0           0      0     0            0  \n",
       "3            0    0           0      0     0            0  \n",
       "4            0    0           0      0     0            0  "
      ]
     },
     "execution_count": 12,
     "metadata": {},
     "output_type": "execute_result"
    }
   ],
   "source": [
    "mlma_hate_speech.head()"
   ]
  },
  {
   "cell_type": "code",
   "execution_count": 13,
   "metadata": {
    "executionInfo": {
     "elapsed": 22,
     "status": "ok",
     "timestamp": 1758696061373,
     "user": {
      "displayName": "Christopher Fornesa",
      "userId": "11885562963716384029"
     },
     "user_tz": 300
    },
    "id": "If7zfR9hZQ39"
   },
   "outputs": [],
   "source": [
    "mlma_hate_speech_X = mlma_hate_speech.drop(\"abuse_level\", axis=1)\n",
    "mlma_hate_speech_y = mlma_hate_speech[\"abuse_level\"]\n",
    "mlma_hate_speech_X_sample = mlma_hate_speech_sample.drop(\"abuse_level\", axis=1)\n",
    "mlma_hate_speech_y_sample = mlma_hate_speech_sample[\"abuse_level\"]"
   ]
  },
  {
   "cell_type": "code",
   "execution_count": 14,
   "metadata": {
    "executionInfo": {
     "elapsed": 17,
     "status": "ok",
     "timestamp": 1758696063485,
     "user": {
      "displayName": "Christopher Fornesa",
      "userId": "11885562963716384029"
     },
     "user_tz": 300
    },
    "id": "45O1DVzwZ3fC"
   },
   "outputs": [],
   "source": [
    "# Implement KFold\n",
    "convabuse_kf = KFold(n_splits=5, shuffle=True, random_state=42)\n",
    "dghs_kf = KFold(n_splits=5, shuffle=True, random_state=42)\n",
    "online_abusive_attacks_kf = KFold(n_splits=5, shuffle=True, random_state=42)\n",
    "us2020hs_kf = KFold(n_splits=5, shuffle=True, random_state=42)\n",
    "mlma_hate_speech_kf = KFold(n_splits=5, shuffle=True, random_state=42)"
   ]
  },
  {
   "cell_type": "markdown",
   "metadata": {
    "id": "9B4u16U3v05L"
   },
   "source": [
    "# Linear Modeling"
   ]
  },
  {
   "cell_type": "code",
   "execution_count": 15,
   "metadata": {
    "executionInfo": {
     "elapsed": 135,
     "status": "ok",
     "timestamp": 1758696076481,
     "user": {
      "displayName": "Christopher Fornesa",
      "userId": "11885562963716384029"
     },
     "user_tz": 300
    },
    "id": "VeHxe12JDeUn"
   },
   "outputs": [],
   "source": [
    "# Get only the numeric features for each dataset\n",
    "convabuse_X_numeric = convabuse_X.select_dtypes(include=np.number)\n",
    "dghs_X_numeric = dghs_X.select_dtypes(include=np.number)\n",
    "online_abusive_attacks_X_numeric = online_abusive_attacks_X.select_dtypes(include=np.number)\n",
    "us2020hs_X_numeric = us2020hs_X.select_dtypes(include=np.number)\n",
    "mlma_hate_speech_X_numeric = mlma_hate_speech_X.select_dtypes(include=np.number)\n",
    "mlma_hate_speech_X_numeric_sample = mlma_hate_speech_X_sample.select_dtypes(include=np.number)"
   ]
  },
  {
   "cell_type": "code",
   "execution_count": 16,
   "metadata": {
    "executionInfo": {
     "elapsed": 48,
     "status": "ok",
     "timestamp": 1758696078458,
     "user": {
      "displayName": "Christopher Fornesa",
      "userId": "11885562963716384029"
     },
     "user_tz": 300
    },
    "id": "fEdA0shJGyWk"
   },
   "outputs": [],
   "source": [
    "# Use standard scaler on the Convabuse X data\n",
    "convabuse_scaler = StandardScaler()\n",
    "convabuse_X_scaled = convabuse_scaler.fit_transform(convabuse_X_numeric)\n",
    "convabuse_X_scaled = pd.DataFrame(convabuse_X_scaled, columns=convabuse_X_numeric.columns)"
   ]
  },
  {
   "cell_type": "code",
   "execution_count": 17,
   "metadata": {
    "executionInfo": {
     "elapsed": 44,
     "status": "ok",
     "timestamp": 1758696079223,
     "user": {
      "displayName": "Christopher Fornesa",
      "userId": "11885562963716384029"
     },
     "user_tz": 300
    },
    "id": "eg-yqVgIuoHZ"
   },
   "outputs": [],
   "source": [
    "# Use standard scaler on the Dynamically Generated Hate Speech X data\n",
    "dghs_scaler = StandardScaler()\n",
    "dghs_X_scaled = dghs_scaler.fit_transform(dghs_X_numeric)\n",
    "dghs_X_scaled = pd.DataFrame(dghs_X_scaled, columns=dghs_X_numeric.columns)"
   ]
  },
  {
   "cell_type": "code",
   "execution_count": 18,
   "metadata": {
    "executionInfo": {
     "elapsed": 59,
     "status": "ok",
     "timestamp": 1758696080063,
     "user": {
      "displayName": "Christopher Fornesa",
      "userId": "11885562963716384029"
     },
     "user_tz": 300
    },
    "id": "4qmkVG4iGzsv"
   },
   "outputs": [],
   "source": [
    "# Use standard scaler on the online abusive attacks X data\n",
    "oaa_scaler = StandardScaler()\n",
    "online_abusive_attacks_X_scaled = oaa_scaler.fit_transform(online_abusive_attacks_X_numeric)\n",
    "online_abusive_attacks_X_scaled = pd.DataFrame(online_abusive_attacks_X_scaled, columns=online_abusive_attacks_X_numeric.columns)"
   ]
  },
  {
   "cell_type": "code",
   "execution_count": 19,
   "metadata": {
    "executionInfo": {
     "elapsed": 49,
     "status": "ok",
     "timestamp": 1758696081620,
     "user": {
      "displayName": "Christopher Fornesa",
      "userId": "11885562963716384029"
     },
     "user_tz": 300
    },
    "id": "JVns2m_5vc9l"
   },
   "outputs": [],
   "source": [
    "# Use standard scaler on the US elections 2020 hate speech X data\n",
    "us2020hs_scaler = StandardScaler()\n",
    "us2020hs_X_scaled = us2020hs_scaler.fit_transform(us2020hs_X_numeric)\n",
    "us2020hs_X_scaled = pd.DataFrame(us2020hs_X_scaled, columns=us2020hs_X_numeric.columns)"
   ]
  },
  {
   "cell_type": "code",
   "execution_count": 20,
   "metadata": {
    "executionInfo": {
     "elapsed": 62,
     "status": "ok",
     "timestamp": 1758696093854,
     "user": {
      "displayName": "Christopher Fornesa",
      "userId": "11885562963716384029"
     },
     "user_tz": 300
    },
    "id": "NWl5Opa6Zk0Z"
   },
   "outputs": [],
   "source": [
    "# Use standard scaler on the MLMA hate speech X data\n",
    "mlma_hate_speech_scaler = StandardScaler()\n",
    "mlma_hate_speech_X_scaled = mlma_hate_speech_scaler.fit_transform(mlma_hate_speech_X_numeric)\n",
    "mlma_hate_speech_X_scaled = pd.DataFrame(mlma_hate_speech_X_scaled, columns=mlma_hate_speech_X_numeric.columns)"
   ]
  },
  {
   "cell_type": "code",
   "execution_count": 21,
   "metadata": {
    "executionInfo": {
     "elapsed": 29,
     "status": "ok",
     "timestamp": 1758696132364,
     "user": {
      "displayName": "Christopher Fornesa",
      "userId": "11885562963716384029"
     },
     "user_tz": 300
    },
    "id": "pl5uTYaydL_h"
   },
   "outputs": [],
   "source": [
    "# Use standard scaler on the MLMA hate speech X sample data\n",
    "mlma_hate_speech_sample_scaler = StandardScaler()\n",
    "mlma_hate_speech_X_sample_scaled = mlma_hate_speech_sample_scaler.fit_transform(mlma_hate_speech_X_numeric_sample)\n",
    "mlma_hate_speech_X_sample_scaled = pd.DataFrame(mlma_hate_speech_X_sample_scaled, columns=mlma_hate_speech_X_numeric_sample.columns)"
   ]
  },
  {
   "cell_type": "code",
   "execution_count": 22,
   "metadata": {
    "colab": {
     "base_uri": "https://localhost:8080/"
    },
    "executionInfo": {
     "elapsed": 40,
     "status": "ok",
     "timestamp": 1758696134946,
     "user": {
      "displayName": "Christopher Fornesa",
      "userId": "11885562963716384029"
     },
     "user_tz": 300
    },
    "id": "5LiRHThNElcI",
    "outputId": "44a86608-1f90-4e34-a4d5-0b67416395bd"
   },
   "outputs": [
    {
     "name": "stdout",
     "output_type": "stream",
     "text": [
      "Index(['race_or_ethnicity', 'gender', 'religion', 'lgbtq', 'nationality',\n",
      "       'age', 'disability', 'class', 'none'],\n",
      "      dtype='object')\n",
      "Index(['type', 'race_or_ethnicity', 'gender', 'religion', 'lgbtq',\n",
      "       'nationality', 'age', 'disability', 'class', 'none', 'original'],\n",
      "      dtype='object')\n",
      "Index(['verified', 'high Identity_Attack', 'high Insult', 'high Profanity',\n",
      "       'high Threat', 'high other attr'],\n",
      "      dtype='object')\n",
      "Index(['Trump', 'Biden'], dtype='object')\n",
      "Index(['index', 'directness', 'shock_annotator_sentiment',\n",
      "       'anger_annotator_sentiment', 'confusion_annotator_sentiment',\n",
      "       'sadness_annotator_sentiment', 'indifference_annotator_sentiment',\n",
      "       'disgust_annotator_sentiment', 'fear_annotator_sentiment',\n",
      "       'race_or_ethnicity', 'gender', 'religion', 'lgbtq', 'nationality',\n",
      "       'age', 'disability', 'class', 'none'],\n",
      "      dtype='object')\n"
     ]
    }
   ],
   "source": [
    "for columns in [convabuse_X_numeric.columns, dghs_X_numeric.columns, online_abusive_attacks_X_numeric.columns, us2020hs_X_numeric.columns, mlma_hate_speech_X_numeric.columns]:\n",
    "  print(columns)"
   ]
  },
  {
   "cell_type": "code",
   "execution_count": 23,
   "metadata": {
    "executionInfo": {
     "elapsed": 110,
     "status": "ok",
     "timestamp": 1758696181898,
     "user": {
      "displayName": "Christopher Fornesa",
      "userId": "11885562963716384029"
     },
     "user_tz": 300
    },
    "id": "cdjqnEV1_kpR"
   },
   "outputs": [],
   "source": [
    "# Train test split for each dataset\n",
    "convabuse_X_train, convabuse_X_test, convabuse_y_train, convabuse_y_test = train_test_split(convabuse_X_scaled, convabuse_y, test_size=0.2, random_state=42)\n",
    "dghs_X_train, dghs_X_test, dghs_y_train, dghs_y_test = train_test_split(dghs_X_scaled, dghs_y, test_size=0.2, random_state=42)\n",
    "online_abusive_attacks_X_train, online_abusive_attacks_X_test, online_abusive_attacks_y_train, online_abusive_attacks_y_test = train_test_split(online_abusive_attacks_X_scaled, online_abusive_attacks_y, test_size=0.2, random_state=42)\n",
    "us2020hs_X_train, us2020hs_X_test, us2020hs_y_train, us2020hs_y_test = train_test_split(us2020hs_X_scaled, us2020hs_y, test_size=0.2, random_state=42)\n",
    "mlma_hate_speech_X_train, mlma_hate_speech_X_test, mlma_hate_speech_y_train, mlma_hate_speech_y_test = train_test_split(mlma_hate_speech_X_scaled, mlma_hate_speech_y, test_size=0.2, random_state=42)\n",
    "mlma_hate_speech_X_train_sample, mlma_hate_speech_X_test_sample, mlma_hate_speech_y_train_sample, mlma_hate_speech_y_test_sample = train_test_split(mlma_hate_speech_X_sample_scaled, mlma_hate_speech_y_sample, test_size=0.2, random_state=42)"
   ]
  },
  {
   "cell_type": "code",
   "execution_count": 24,
   "metadata": {
    "executionInfo": {
     "elapsed": 78,
     "status": "ok",
     "timestamp": 1758696191325,
     "user": {
      "displayName": "Christopher Fornesa",
      "userId": "11885562963716384029"
     },
     "user_tz": 300
    },
    "id": "x5rgjLz_adYU"
   },
   "outputs": [],
   "source": [
    "# Get the length of each dataset\n",
    "convabuse_length = len(convabuse_X_train)\n",
    "dghs_length = len(dghs_X_train)\n",
    "online_abusive_attacks_length = len(online_abusive_attacks_X_train)\n",
    "us2020hs_length = len(us2020hs_X_train)\n",
    "mlma_hate_speech_length = len(mlma_hate_speech_X_train)\n",
    "mlma_hate_speech_sample_length = len(mlma_hate_speech_X_train_sample)"
   ]
  },
  {
   "cell_type": "code",
   "execution_count": 25,
   "metadata": {
    "colab": {
     "base_uri": "https://localhost:8080/"
    },
    "executionInfo": {
     "elapsed": 75,
     "status": "ok",
     "timestamp": 1758696193722,
     "user": {
      "displayName": "Christopher Fornesa",
      "userId": "11885562963716384029"
     },
     "user_tz": 300
    },
    "id": "hVmzhoBpaq81",
    "outputId": "852b6a86-175f-4bd1-e52e-23fbb3bb13cf"
   },
   "outputs": [
    {
     "data": {
      "text/plain": [
       "(40272, 16, 403)"
      ]
     },
     "execution_count": 25,
     "metadata": {},
     "output_type": "execute_result"
    }
   ],
   "source": [
    "convabuse_log2 = math.ceil(log2(convabuse_length))\n",
    "convabuse_1_percent = math.ceil(convabuse_length * 0.01)\n",
    "convabuse_length, convabuse_log2, convabuse_1_percent"
   ]
  },
  {
   "cell_type": "code",
   "execution_count": 26,
   "metadata": {
    "colab": {
     "base_uri": "https://localhost:8080/"
    },
    "executionInfo": {
     "elapsed": 81,
     "status": "ok",
     "timestamp": 1758696195010,
     "user": {
      "displayName": "Christopher Fornesa",
      "userId": "11885562963716384029"
     },
     "user_tz": 300
    },
    "id": "cJjJ7ZKJbUL1",
    "outputId": "1aa81431-9a84-4197-e41a-fdaf1f156147"
   },
   "outputs": [
    {
     "data": {
      "text/plain": [
       "(30350, 15, 304)"
      ]
     },
     "execution_count": 26,
     "metadata": {},
     "output_type": "execute_result"
    }
   ],
   "source": [
    "dghs_log2 = math.ceil(log2(dghs_length))\n",
    "dghs_1_percent = math.ceil(dghs_length * 0.01)\n",
    "dghs_length, dghs_log2, dghs_1_percent"
   ]
  },
  {
   "cell_type": "code",
   "execution_count": 27,
   "metadata": {
    "colab": {
     "base_uri": "https://localhost:8080/"
    },
    "executionInfo": {
     "elapsed": 80,
     "status": "ok",
     "timestamp": 1758696196215,
     "user": {
      "displayName": "Christopher Fornesa",
      "userId": "11885562963716384029"
     },
     "user_tz": 300
    },
    "id": "4nE37RuebbbB",
    "outputId": "8d71c539-6038-479b-ef21-f02c236b5774"
   },
   "outputs": [
    {
     "data": {
      "text/plain": [
       "(1892, 11, 19)"
      ]
     },
     "execution_count": 27,
     "metadata": {},
     "output_type": "execute_result"
    }
   ],
   "source": [
    "online_abusive_attacks_log2 = math.ceil(log2(online_abusive_attacks_length))\n",
    "online_abusive_attacks_1_percent = math.ceil(online_abusive_attacks_length * 0.01)\n",
    "online_abusive_attacks_length, online_abusive_attacks_log2, online_abusive_attacks_1_percent"
   ]
  },
  {
   "cell_type": "code",
   "execution_count": 28,
   "metadata": {
    "colab": {
     "base_uri": "https://localhost:8080/"
    },
    "executionInfo": {
     "elapsed": 71,
     "status": "ok",
     "timestamp": 1758696197180,
     "user": {
      "displayName": "Christopher Fornesa",
      "userId": "11885562963716384029"
     },
     "user_tz": 300
    },
    "id": "rwNym9JUbdmN",
    "outputId": "f943d318-afef-498a-80bf-eb3db9c908c0"
   },
   "outputs": [
    {
     "data": {
      "text/plain": [
       "(4236, 13, 43)"
      ]
     },
     "execution_count": 28,
     "metadata": {},
     "output_type": "execute_result"
    }
   ],
   "source": [
    "us2020hs_log2 = math.ceil(log2(us2020hs_length))\n",
    "us2020hs_1_percent = math.ceil(us2020hs_length * 0.01)\n",
    "us2020hs_length, us2020hs_log2, us2020hs_1_percent"
   ]
  },
  {
   "cell_type": "code",
   "execution_count": 29,
   "metadata": {
    "colab": {
     "base_uri": "https://localhost:8080/"
    },
    "executionInfo": {
     "elapsed": 90,
     "status": "ok",
     "timestamp": 1758696257786,
     "user": {
      "displayName": "Christopher Fornesa",
      "userId": "11885562963716384029"
     },
     "user_tz": 300
    },
    "id": "odBtJ30XdlQM",
    "outputId": "d712b14d-7a9b-452b-ac1a-a7a3e6314fc6"
   },
   "outputs": [
    {
     "data": {
      "text/plain": [
       "(42684, 16, 427)"
      ]
     },
     "execution_count": 29,
     "metadata": {},
     "output_type": "execute_result"
    }
   ],
   "source": [
    "mlma_hate_speech_log2 = math.ceil(log2(mlma_hate_speech_length))\n",
    "mlma_hate_speech_1_percent = math.ceil(mlma_hate_speech_length * 0.01)\n",
    "mlma_hate_speech_length, mlma_hate_speech_log2, mlma_hate_speech_1_percent"
   ]
  },
  {
   "cell_type": "code",
   "execution_count": 30,
   "metadata": {
    "colab": {
     "base_uri": "https://localhost:8080/"
    },
    "executionInfo": {
     "elapsed": 32,
     "status": "ok",
     "timestamp": 1758696267846,
     "user": {
      "displayName": "Christopher Fornesa",
      "userId": "11885562963716384029"
     },
     "user_tz": 300
    },
    "id": "_dKaGzS0dpHa",
    "outputId": "84ff3f86-dea8-4689-cdd8-3003a2432973"
   },
   "outputs": [
    {
     "data": {
      "text/plain": [
       "(12805, 14, 129)"
      ]
     },
     "execution_count": 30,
     "metadata": {},
     "output_type": "execute_result"
    }
   ],
   "source": [
    "mlma_hate_speech_sample_log2 = math.ceil(log2(mlma_hate_speech_sample_length))\n",
    "mlma_hate_speech_sample_1_percent = math.ceil(mlma_hate_speech_sample_length * 0.01)\n",
    "mlma_hate_speech_sample_length, mlma_hate_speech_sample_log2, mlma_hate_speech_sample_1_percent"
   ]
  },
  {
   "cell_type": "code",
   "execution_count": 31,
   "metadata": {
    "executionInfo": {
     "elapsed": 38,
     "status": "ok",
     "timestamp": 1758696272020,
     "user": {
      "displayName": "Christopher Fornesa",
      "userId": "11885562963716384029"
     },
     "user_tz": 300
    },
    "id": "nGRzuO701GSj"
   },
   "outputs": [],
   "source": [
    "rf_regression_results_list = []"
   ]
  },
  {
   "cell_type": "code",
   "execution_count": 32,
   "metadata": {
    "executionInfo": {
     "elapsed": 15,
     "status": "ok",
     "timestamp": 1758696272736,
     "user": {
      "displayName": "Christopher Fornesa",
      "userId": "11885562963716384029"
     },
     "user_tz": 300
    },
    "id": "ybv_CVjb6IO6"
   },
   "outputs": [],
   "source": [
    "rf_classification_results_list = []"
   ]
  },
  {
   "cell_type": "markdown",
   "metadata": {
    "id": "uuljl5kAOIed"
   },
   "source": [
    "## Convabuse Decision Tree"
   ]
  },
  {
   "cell_type": "code",
   "execution_count": 33,
   "metadata": {
    "colab": {
     "base_uri": "https://localhost:8080/",
     "height": 272
    },
    "executionInfo": {
     "elapsed": 100,
     "status": "ok",
     "timestamp": 1758696277376,
     "user": {
      "displayName": "Christopher Fornesa",
      "userId": "11885562963716384029"
     },
     "user_tz": 300
    },
    "id": "0Ymtd8iRRL2X",
    "outputId": "e8444bdb-840a-4940-8b9e-d4142ee9875d"
   },
   "outputs": [
    {
     "data": {
      "text/plain": [
       "abuse_level\n",
       "0    2067\n",
       "2    2058\n",
       "3    2000\n",
       "1    1972\n",
       "4    1971\n",
       "Name: count, dtype: int64"
      ]
     },
     "execution_count": 33,
     "metadata": {},
     "output_type": "execute_result"
    }
   ],
   "source": [
    "convabuse_y_test.value_counts()"
   ]
  },
  {
   "cell_type": "code",
   "execution_count": 34,
   "metadata": {},
   "outputs": [
    {
     "data": {
      "text/plain": [
       "403"
      ]
     },
     "execution_count": 34,
     "metadata": {},
     "output_type": "execute_result"
    }
   ],
   "source": [
    "convabuse_1_percent"
   ]
  },
  {
   "cell_type": "code",
   "execution_count": 35,
   "metadata": {
    "executionInfo": {
     "elapsed": 57,
     "status": "ok",
     "timestamp": 1758696278969,
     "user": {
      "displayName": "Christopher Fornesa",
      "userId": "11885562963716384029"
     },
     "user_tz": 300
    },
    "id": "dvw-csO-N0XB"
   },
   "outputs": [],
   "source": [
    "# Random Forest Classifier pipeline for Convabuse dataset\n",
    "convabuse_rf_pipeline = Pipeline([\n",
    "    ('rf_classifier', RandomForestClassifier(random_state=42))\n",
    "])\n",
    "\n",
    "# Set the parameters for Randomized Search for Random Forest Classifier on the Convabuse dataset\n",
    "convabuse_rf_param_grid = {\n",
    "    'rf_classifier__n_estimators': range(1000),\n",
    "    'rf_classifier__max_depth': range(1, convabuse_log2),\n",
    "    'rf_classifier__min_samples_split': [convabuse_1_percent * i for i in range(2, 6)],\n",
    "    'rf_classifier__min_samples_leaf': [convabuse_1_percent * i for i in range(1, 6)],\n",
    "    'rf_classifier__criterion': ['gini']\n",
    "}"
   ]
  },
  {
   "cell_type": "code",
   "execution_count": 36,
   "metadata": {
    "colab": {
     "base_uri": "https://localhost:8080/"
    },
    "executionInfo": {
     "elapsed": 2846,
     "status": "ok",
     "timestamp": 1758696282995,
     "user": {
      "displayName": "Christopher Fornesa",
      "userId": "11885562963716384029"
     },
     "user_tz": 300
    },
    "id": "aBX9qAEdN0XE",
    "outputId": "984a54b7-67a9-483a-a9a4-674c5c78ab61"
   },
   "outputs": [
    {
     "name": "stdout",
     "output_type": "stream",
     "text": [
      "Best parameters for Convabuse Random Forest Classifier: {'rf_classifier__n_estimators': 958, 'rf_classifier__min_samples_split': 1209, 'rf_classifier__min_samples_leaf': 403, 'rf_classifier__max_depth': 7, 'rf_classifier__criterion': 'gini'}\n",
      "Best score for Convabuse Random Forest Classifier: 0.33882105841436233\n",
      "Time taken for Convabuse Random Forest Classifier Randomized Search: 91.75154829025269\n"
     ]
    }
   ],
   "source": [
    "start_time = time.time()\n",
    "convabuse_class_scorer = make_scorer(accuracy_score, greater_is_better=True)\n",
    "\n",
    "convabuse_rf_random_search = RandomizedSearchCV(convabuse_rf_pipeline,\n",
    "                                                   param_distributions=convabuse_rf_param_grid,\n",
    "                                                   n_iter=10,\n",
    "                                                   cv=convabuse_kf,\n",
    "                                                   scoring=convabuse_class_scorer,\n",
    "                                                   random_state=42)\n",
    "convabuse_rf_random_search.fit(convabuse_X_train, convabuse_y_train)\n",
    "end_time = time.time()\n",
    "print(\"Best parameters for Convabuse Random Forest Classifier:\", convabuse_rf_random_search.best_params_)\n",
    "print(\"Best score for Convabuse Random Forest Classifier:\", convabuse_rf_random_search.best_score_)\n",
    "print(\"Time taken for Convabuse Random Forest Classifier Randomized Search:\", end_time - start_time)"
   ]
  },
  {
   "cell_type": "code",
   "execution_count": 37,
   "metadata": {
    "colab": {
     "base_uri": "https://localhost:8080/",
     "height": 564
    },
    "executionInfo": {
     "elapsed": 411,
     "status": "ok",
     "timestamp": 1758696283408,
     "user": {
      "displayName": "Christopher Fornesa",
      "userId": "11885562963716384029"
     },
     "user_tz": 300
    },
    "id": "HBD2Z1ZuJkZj",
    "outputId": "13d2c7b2-c6c5-49af-e61c-2b2ccc518b07"
   },
   "outputs": [
    {
     "data": {
      "image/png": "[encoded data removed]",
      "text/plain": [
       "<Figure size 1000x600 with 1 Axes>"
      ]
     },
     "metadata": {},
     "output_type": "display_data"
    }
   ],
   "source": [
    "# Plot the accuracy scores for the Random Forest Classifier on the US Accidents dataset for all iterations\n",
    "plt.figure(figsize=(10, 6))\n",
    "plt.plot(convabuse_rf_random_search.cv_results_['mean_test_score'], marker='o', label='Mean Test Score')\n",
    "\n",
    "# Plot the best score as a red x\n",
    "convabuse_rf_best_score_index = np.argmax(convabuse_rf_random_search.cv_results_['mean_test_score'])\n",
    "plt.scatter(convabuse_rf_best_score_index, convabuse_rf_random_search.cv_results_['mean_test_score'][convabuse_rf_best_score_index], color='red', s=100, label='Best Score')\n",
    "\n",
    "plt.title('Random Forest Classifier - Convabuse Dataset')\n",
    "plt.xlabel('Iteration')\n",
    "plt.ylabel('Mean Test Score')\n",
    "plt.xticks(range(len(convabuse_rf_random_search.cv_results_['mean_test_score'])),\n",
    "           [f\"Iter {i+1}\" for i in range(len(convabuse_rf_random_search.cv_results_['mean_test_score']))])\n",
    "plt.legend()\n",
    "plt.grid()\n",
    "plt.show()"
   ]
  },
  {
   "cell_type": "code",
   "execution_count": 38,
   "metadata": {
    "executionInfo": {
     "elapsed": 56,
     "status": "ok",
     "timestamp": 1758696283485,
     "user": {
      "displayName": "Christopher Fornesa",
      "userId": "11885562963716384029"
     },
     "user_tz": 300
    },
    "id": "n7fDeICjJ-km"
   },
   "outputs": [],
   "source": [
    "# Predict on the test set\n",
    "convabuse_rf_y_pred = convabuse_rf_random_search.predict(convabuse_X_test)"
   ]
  },
  {
   "cell_type": "code",
   "execution_count": 39,
   "metadata": {
    "colab": {
     "base_uri": "https://localhost:8080/"
    },
    "executionInfo": {
     "elapsed": 20,
     "status": "ok",
     "timestamp": 1758696284390,
     "user": {
      "displayName": "Christopher Fornesa",
      "userId": "11885562963716384029"
     },
     "user_tz": 300
    },
    "id": "QVeBxw2bKL-z",
    "outputId": "1f81fdf8-9926-4e7c-c379-641dc314619d"
   },
   "outputs": [
    {
     "name": "stdout",
     "output_type": "stream",
     "text": [
      "Convabuse Random Forest Classifier:\n",
      "Best Parameters: {'rf_classifier__n_estimators': 958, 'rf_classifier__min_samples_split': 1209, 'rf_classifier__min_samples_leaf': 403, 'rf_classifier__max_depth': 7, 'rf_classifier__criterion': 'gini'}\n",
      "Accuracy: 0.3323\n",
      "F1 Score: 0.2378\n"
     ]
    }
   ],
   "source": [
    "# Evaluate the model\n",
    "convabuse_rf_accuracy = accuracy_score(convabuse_y_test, convabuse_rf_y_pred)\n",
    "convabuse_rf_f1 = f1_score(convabuse_y_test, convabuse_rf_y_pred, average='weighted')\n",
    "\n",
    "print(\"Convabuse Random Forest Classifier:\")\n",
    "print(f\"Best Parameters: {convabuse_rf_random_search.best_params_}\")\n",
    "print(f\"Accuracy: {convabuse_rf_accuracy:.4f}\")\n",
    "print(f\"F1 Score: {convabuse_rf_f1:.4f}\")"
   ]
  },
  {
   "cell_type": "code",
   "execution_count": 40,
   "metadata": {
    "colab": {
     "base_uri": "https://localhost:8080/",
     "height": 564
    },
    "executionInfo": {
     "elapsed": 324,
     "status": "ok",
     "timestamp": 1758696285694,
     "user": {
      "displayName": "Christopher Fornesa",
      "userId": "11885562963716384029"
     },
     "user_tz": 300
    },
    "id": "2uqIfDFAKg9h",
    "outputId": "dc3076bd-72c1-4408-8b09-934d83cb9d4a"
   },
   "outputs": [
    {
     "data": {
      "image/png": "[encoded data removed]",
      "text/plain": [
       "<Figure size 1000x600 with 2 Axes>"
      ]
     },
     "metadata": {},
     "output_type": "display_data"
    }
   ],
   "source": [
    "# Plot the confusion matrix using seaborn\n",
    "plt.figure(figsize=(10, 6))\n",
    "sns.heatmap(pd.crosstab(convabuse_y_test, convabuse_rf_y_pred, rownames=['Actual'], colnames=['Predicted']), annot=True, fmt='d', cmap='Blues')\n",
    "plt.title('Confusion Matrix - Convabuse Random Forest Classifier')\n",
    "plt.xlabel('Predicted')\n",
    "plt.ylabel('Actual')\n",
    "plt.show()"
   ]
  },
  {
   "cell_type": "code",
   "execution_count": 41,
   "metadata": {
    "colab": {
     "base_uri": "https://localhost:8080/"
    },
    "executionInfo": {
     "elapsed": 48,
     "status": "ok",
     "timestamp": 1758696287023,
     "user": {
      "displayName": "Christopher Fornesa",
      "userId": "11885562963716384029"
     },
     "user_tz": 300
    },
    "id": "fDftHes5K4B2",
    "outputId": "97958bb7-4ecc-4539-8622-2ffcdb5fda3a"
   },
   "outputs": [
    {
     "name": "stdout",
     "output_type": "stream",
     "text": [
      "Classification Report for Convabuse Random Forest Classifier:\n",
      "              precision    recall  f1-score   support\n",
      "\n",
      "           0       0.00      0.00      0.00      2067\n",
      "           1       0.28      0.99      0.44      1972\n",
      "           2       0.57      0.25      0.34      2058\n",
      "           3       0.00      0.00      0.00      2000\n",
      "           4       0.39      0.45      0.41      1971\n",
      "\n",
      "    accuracy                           0.33     10068\n",
      "   macro avg       0.25      0.34      0.24     10068\n",
      "weighted avg       0.25      0.33      0.24     10068\n",
      "\n"
     ]
    }
   ],
   "source": [
    "# Generate a classification report for the Random Forest Classifier on the Convabuse dataset\n",
    "convabuse_rf_report = classification_report(convabuse_y_test, convabuse_rf_y_pred)\n",
    "print(\"Classification Report for Convabuse Random Forest Classifier:\")\n",
    "print(convabuse_rf_report)"
   ]
  },
  {
   "cell_type": "code",
   "execution_count": 42,
   "metadata": {
    "executionInfo": {
     "elapsed": 28,
     "status": "ok",
     "timestamp": 1758696288485,
     "user": {
      "displayName": "Christopher Fornesa",
      "userId": "11885562963716384029"
     },
     "user_tz": 300
    },
    "id": "hSZ9HcYqOW4P"
   },
   "outputs": [],
   "source": [
    "# Append details to the results list\n",
    "rf_classification_results_list.append((\n",
    "    \"Random Forest\",\n",
    "    \"Convabuse\",\n",
    "    \"NA\",\n",
    "    \"NA\",\n",
    "    convabuse_rf_accuracy,\n",
    "    convabuse_rf_f1,\n",
    "    0.0,\n",
    "    convabuse_rf_random_search.best_params_\n",
    "))"
   ]
  },
  {
   "cell_type": "markdown",
   "metadata": {
    "id": "GpmF5j71NsQL"
   },
   "source": [
    "## Dynamically Generated Hate Speech Decision Tree"
   ]
  },
  {
   "cell_type": "code",
   "execution_count": 43,
   "metadata": {
    "colab": {
     "base_uri": "https://localhost:8080/",
     "height": 178
    },
    "executionInfo": {
     "elapsed": 61,
     "status": "ok",
     "timestamp": 1758696291672,
     "user": {
      "displayName": "Christopher Fornesa",
      "userId": "11885562963716384029"
     },
     "user_tz": 300
    },
    "id": "yDEDqnAbRXfQ",
    "outputId": "9bba2958-8ba0-4e83-fed4-1ce06f04c0b2"
   },
   "outputs": [
    {
     "data": {
      "text/plain": [
       "label\n",
       "1.0    3800\n",
       "0.0    3788\n",
       "Name: count, dtype: int64"
      ]
     },
     "execution_count": 43,
     "metadata": {},
     "output_type": "execute_result"
    }
   ],
   "source": [
    "dghs_y_test.value_counts()"
   ]
  },
  {
   "cell_type": "code",
   "execution_count": 44,
   "metadata": {
    "executionInfo": {
     "elapsed": 38,
     "status": "ok",
     "timestamp": 1758696292685,
     "user": {
      "displayName": "Christopher Fornesa",
      "userId": "11885562963716384029"
     },
     "user_tz": 300
    },
    "id": "13c-xuZp356u"
   },
   "outputs": [],
   "source": [
    "# Random Forest Classifier pipeline for DGHS dataset\n",
    "dghs_rf_pipeline = Pipeline([\n",
    "    ('rf_classifier', RandomForestClassifier(random_state=42))\n",
    "])\n",
    "\n",
    "# Set the parameters for Randomized Search for Random Forest Classifier on the DGHS dataset\n",
    "dghs_rf_param_grid = {\n",
    "    'rf_classifier__n_estimators': range(1000),\n",
    "    'rf_classifier__max_depth': range(1, dghs_log2),\n",
    "    'rf_classifier__min_samples_split': [dghs_1_percent * i for i in range(2, 6)],\n",
    "    'rf_classifier__min_samples_leaf': [dghs_1_percent * i for i in range(1, 6)],\n",
    "    'rf_classifier__criterion': ['gini', 'entropy']\n",
    "}"
   ]
  },
  {
   "cell_type": "code",
   "execution_count": 45,
   "metadata": {
    "colab": {
     "base_uri": "https://localhost:8080/"
    },
    "executionInfo": {
     "elapsed": 1216,
     "status": "ok",
     "timestamp": 1758696295891,
     "user": {
      "displayName": "Christopher Fornesa",
      "userId": "11885562963716384029"
     },
     "user_tz": 300
    },
    "id": "tPfCfIjEImRD",
    "outputId": "b1369b65-4e3e-45f3-e4be-4b58c9519d0e"
   },
   "outputs": [
    {
     "name": "stdout",
     "output_type": "stream",
     "text": [
      "Best parameters for Dynamically Generated Hate Speech Random Forest Classifier: {'rf_classifier__n_estimators': 958, 'rf_classifier__min_samples_split': 912, 'rf_classifier__min_samples_leaf': 304, 'rf_classifier__max_depth': 7, 'rf_classifier__criterion': 'gini'}\n",
      "Best score for Dynamically Generated Hate Speech Random Forest Classifier: 0.8376606260296541\n",
      "Time taken for Dynamically Generated Hate Speech Random Forest Classifier Randomized Search: 60.16563892364502\n"
     ]
    }
   ],
   "source": [
    "start_time = time.time()\n",
    "dghs_class_scorer = make_scorer(accuracy_score, greater_is_better=True)\n",
    "\n",
    "dghs_rf_random_search = RandomizedSearchCV(dghs_rf_pipeline,\n",
    "                                           param_distributions=dghs_rf_param_grid,\n",
    "                                           n_iter=10,\n",
    "                                           cv=dghs_kf,\n",
    "                                           scoring=dghs_class_scorer,\n",
    "                                           random_state=42)\n",
    "dghs_rf_random_search.fit(dghs_X_train, dghs_y_train)\n",
    "end_time = time.time()\n",
    "print(\"Best parameters for Dynamically Generated Hate Speech Random Forest Classifier:\", dghs_rf_random_search.best_params_)\n",
    "print(\"Best score for Dynamically Generated Hate Speech Random Forest Classifier:\", dghs_rf_random_search.best_score_)\n",
    "print(\"Time taken for Dynamically Generated Hate Speech Random Forest Classifier Randomized Search:\", end_time - start_time)"
   ]
  },
  {
   "cell_type": "code",
   "execution_count": 46,
   "metadata": {
    "colab": {
     "base_uri": "https://localhost:8080/",
     "height": 564
    },
    "executionInfo": {
     "elapsed": 352,
     "status": "ok",
     "timestamp": 1758696296272,
     "user": {
      "displayName": "Christopher Fornesa",
      "userId": "11885562963716384029"
     },
     "user_tz": 300
    },
    "id": "OaAQJetqN0XF",
    "outputId": "7f78de08-d325-44f0-f63d-a28ba6a205ea"
   },
   "outputs": [
    {
     "data": {
      "image/png": "[encoded data removed]",
      "text/plain": [
       "<Figure size 1000x600 with 1 Axes>"
      ]
     },
     "metadata": {},
     "output_type": "display_data"
    }
   ],
   "source": [
    "# Plot the accuracy scores for the Random Forest Classifier on the US Accidents dataset for all iterations\n",
    "plt.figure(figsize=(10, 6))\n",
    "plt.plot(dghs_rf_random_search.cv_results_['mean_test_score'], marker='o', label='Mean Test Score')\n",
    "\n",
    "# Plot the best score as a red x\n",
    "dghs_rf_best_score_index = np.argmax(dghs_rf_random_search.cv_results_['mean_test_score'])\n",
    "plt.scatter(dghs_rf_best_score_index, dghs_rf_random_search.cv_results_['mean_test_score'][dghs_rf_best_score_index], color='red', s=100, label='Best Score')\n",
    "\n",
    "plt.title('Random Forest Classifier - Dynamically Generated Hate Speech Dataset')\n",
    "plt.xlabel('Iteration')\n",
    "plt.ylabel('Mean Test Score')\n",
    "plt.xticks(range(len(dghs_rf_random_search.cv_results_['mean_test_score'])),\n",
    "           [f\"Iter {i+1}\" for i in range(len(dghs_rf_random_search.cv_results_['mean_test_score']))])\n",
    "plt.legend()\n",
    "plt.grid()\n",
    "plt.show()"
   ]
  },
  {
   "cell_type": "code",
   "execution_count": 47,
   "metadata": {
    "executionInfo": {
     "elapsed": 41,
     "status": "ok",
     "timestamp": 1758696298462,
     "user": {
      "displayName": "Christopher Fornesa",
      "userId": "11885562963716384029"
     },
     "user_tz": 300
    },
    "id": "zwifdNvMN0XF"
   },
   "outputs": [],
   "source": [
    "# Predict on the test set\n",
    "dghs_rf_y_pred = dghs_rf_random_search.predict(dghs_X_test)"
   ]
  },
  {
   "cell_type": "code",
   "execution_count": 48,
   "metadata": {
    "colab": {
     "base_uri": "https://localhost:8080/"
    },
    "executionInfo": {
     "elapsed": 99,
     "status": "ok",
     "timestamp": 1758696299548,
     "user": {
      "displayName": "Christopher Fornesa",
      "userId": "11885562963716384029"
     },
     "user_tz": 300
    },
    "id": "OezTW_WqN0XF",
    "outputId": "af3d9096-de42-479d-f79e-ab86f4be8131"
   },
   "outputs": [
    {
     "name": "stdout",
     "output_type": "stream",
     "text": [
      "Dynamically Generated Hate Speech Random Forest Classifier:\n",
      "Best Parameters: {'rf_classifier__n_estimators': 958, 'rf_classifier__min_samples_split': 912, 'rf_classifier__min_samples_leaf': 304, 'rf_classifier__max_depth': 7, 'rf_classifier__criterion': 'gini'}\n",
      "Accuracy: 0.8349\n",
      "F1 Score: 0.8303\n"
     ]
    }
   ],
   "source": [
    "# Evaluate the model\n",
    "dghs_rf_accuracy = accuracy_score(dghs_y_test, dghs_rf_y_pred)\n",
    "dghs_rf_f1 = f1_score(dghs_y_test, dghs_rf_y_pred, average='weighted')\n",
    "\n",
    "print(\"Dynamically Generated Hate Speech Random Forest Classifier:\")\n",
    "print(f\"Best Parameters: {dghs_rf_random_search.best_params_}\")\n",
    "print(f\"Accuracy: {dghs_rf_accuracy:.4f}\")\n",
    "print(f\"F1 Score: {dghs_rf_f1:.4f}\")"
   ]
  },
  {
   "cell_type": "code",
   "execution_count": 49,
   "metadata": {
    "colab": {
     "base_uri": "https://localhost:8080/",
     "height": 564
    },
    "executionInfo": {
     "elapsed": 231,
     "status": "ok",
     "timestamp": 1758696301046,
     "user": {
      "displayName": "Christopher Fornesa",
      "userId": "11885562963716384029"
     },
     "user_tz": 300
    },
    "id": "HG8O_oABN0XF",
    "outputId": "513007a7-ce01-430d-e1cc-a0ffe1fad3fe"
   },
   "outputs": [
    {
     "data": {
      "image/png": "[encoded data removed]",
      "text/plain": [
       "<Figure size 1000x600 with 2 Axes>"
      ]
     },
     "metadata": {},
     "output_type": "display_data"
    }
   ],
   "source": [
    "# Plot the confusion matrix using seaborn\n",
    "plt.figure(figsize=(10, 6))\n",
    "sns.heatmap(pd.crosstab(dghs_y_test, dghs_rf_y_pred, rownames=['Actual'], colnames=['Predicted']), annot=True, fmt='d', cmap='Blues')\n",
    "plt.title('Confusion Matrix - Dynamically Generated Hate Speech Random Forest Classifier')\n",
    "plt.xlabel('Predicted')\n",
    "plt.ylabel('Actual')\n",
    "plt.show()"
   ]
  },
  {
   "cell_type": "code",
   "execution_count": 50,
   "metadata": {
    "colab": {
     "base_uri": "https://localhost:8080/"
    },
    "executionInfo": {
     "elapsed": 29,
     "status": "ok",
     "timestamp": 1758696304056,
     "user": {
      "displayName": "Christopher Fornesa",
      "userId": "11885562963716384029"
     },
     "user_tz": 300
    },
    "id": "yO4LSyV2N0XF",
    "outputId": "3eb9e417-61b8-4755-a01d-5273adf7ac07"
   },
   "outputs": [
    {
     "name": "stdout",
     "output_type": "stream",
     "text": [
      "Classification Report for Dynamically Generated Hate Speech Random Forest Classifier:\n",
      "              precision    recall  f1-score   support\n",
      "\n",
      "         0.0       0.75      1.00      0.86      3788\n",
      "         1.0       1.00      0.67      0.80      3800\n",
      "\n",
      "    accuracy                           0.83      7588\n",
      "   macro avg       0.88      0.84      0.83      7588\n",
      "weighted avg       0.88      0.83      0.83      7588\n",
      "\n"
     ]
    }
   ],
   "source": [
    "# Generate a classification report for the Random Forest Classifier on the Dynamically Generated Hate Speech dataset\n",
    "dghs_rf_report = classification_report(dghs_y_test, dghs_rf_y_pred)\n",
    "print(\"Classification Report for Dynamically Generated Hate Speech Random Forest Classifier:\")\n",
    "print(dghs_rf_report)"
   ]
  },
  {
   "cell_type": "code",
   "execution_count": 51,
   "metadata": {
    "executionInfo": {
     "elapsed": 38,
     "status": "ok",
     "timestamp": 1758696306269,
     "user": {
      "displayName": "Christopher Fornesa",
      "userId": "11885562963716384029"
     },
     "user_tz": 300
    },
    "id": "2HiVDl76PBuh"
   },
   "outputs": [],
   "source": [
    "# Append details to the results list\n",
    "rf_classification_results_list.append((\n",
    "    \"Random Forest\",\n",
    "    \"Dynamically Generated Hate Speech\",\n",
    "    \"NA\",\n",
    "    \"NA\",\n",
    "    dghs_rf_accuracy,\n",
    "    dghs_rf_f1,\n",
    "    0.0,\n",
    "    dghs_rf_random_search.best_params_\n",
    "))"
   ]
  },
  {
   "cell_type": "markdown",
   "metadata": {
    "id": "9u39wuV3N6zV"
   },
   "source": []
  },
  {
   "cell_type": "code",
   "execution_count": 52,
   "metadata": {
    "colab": {
     "base_uri": "https://localhost:8080/",
     "height": 1000
    },
    "executionInfo": {
     "elapsed": 61,
     "status": "ok",
     "timestamp": 1758696310317,
     "user": {
      "displayName": "Christopher Fornesa",
      "userId": "11885562963716384029"
     },
     "user_tz": 300
    },
    "id": "hVNT_iI1Rfz-",
    "outputId": "5e00b1e3-9d3c-420a-fa46-847e56c1a163"
   },
   "outputs": [
    {
     "data": {
      "text/plain": [
       "Toxicity\n",
       "0.0      437\n",
       "1.0       14\n",
       "2.0        6\n",
       "3.0        4\n",
       "10.0       1\n",
       "7.0        1\n",
       "45.0       1\n",
       "18.0       1\n",
       "5.0        1\n",
       "9.0        1\n",
       "190.0      1\n",
       "4.0        1\n",
       "12.0       1\n",
       "178.0      1\n",
       "66.0       1\n",
       "197.0      1\n",
       "Name: count, dtype: int64"
      ]
     },
     "execution_count": 52,
     "metadata": {},
     "output_type": "execute_result"
    }
   ],
   "source": [
    "online_abusive_attacks_y_test.value_counts()"
   ]
  },
  {
   "cell_type": "code",
   "execution_count": 55,
   "metadata": {
    "executionInfo": {
     "elapsed": 39,
     "status": "ok",
     "timestamp": 1758696312761,
     "user": {
      "displayName": "Christopher Fornesa",
      "userId": "11885562963716384029"
     },
     "user_tz": 300
    },
    "id": "kfKD09a9N7YA"
   },
   "outputs": [],
   "source": [
    "# Random Forest Regressor pipeline for online_abusive_attacks dataset\n",
    "online_abusive_attacks_rf_pipeline = Pipeline([\n",
    "    ('rf_regressor', RandomForestRegressor(random_state=42))\n",
    "])\n",
    "\n",
    "# Set the parameters for Randomized Search for Random Forest Regressor on the online_abusive_attacks dataset\n",
    "online_abusive_attacks_rf_param_grid = {\n",
    "    'rf_regressor__n_estimators': range(1000),\n",
    "    'rf_regressor__max_depth': range(1, online_abusive_attacks_log2),\n",
    "    'rf_regressor__min_samples_split': [online_abusive_attacks_1_percent * i for i in range(2, 6)],\n",
    "    'rf_regressor__min_samples_leaf': [online_abusive_attacks_1_percent * i for i in range(1, 6)],\n",
    "    'rf_regressor__criterion': ['squared_error', 'absolute_error', 'friedman_mse', 'poisson']\n",
    "}"
   ]
  },
  {
   "cell_type": "code",
   "execution_count": 56,
   "metadata": {
    "colab": {
     "base_uri": "https://localhost:8080/"
    },
    "executionInfo": {
     "elapsed": 396,
     "status": "ok",
     "timestamp": 1758696314317,
     "user": {
      "displayName": "Christopher Fornesa",
      "userId": "11885562963716384029"
     },
     "user_tz": 300
    },
    "id": "gdqf-_PwN7YB",
    "outputId": "80435991-8fa1-4b32-a6ef-f7b056605ad1"
   },
   "outputs": [
    {
     "name": "stdout",
     "output_type": "stream",
     "text": [
      "Best parameters for Online Abusive Attacks Random Forest Regressor: {'rf_regressor__n_estimators': 958, 'rf_regressor__min_samples_split': 57, 'rf_regressor__min_samples_leaf': 19, 'rf_regressor__max_depth': 7, 'rf_regressor__criterion': 'squared_error'}\n",
      "Best score for Online Abusive Attacks Random Forest Regressor: 0.5657636025894014\n",
      "Time taken for Online Abusive Attacks Random Forest Regressor Randomized Search: 31.614983797073364\n"
     ]
    }
   ],
   "source": [
    "start_time = time.time()\n",
    "online_abusive_attacks_r2_scorer = make_scorer(r2_score, greater_is_better=True)\n",
    "\n",
    "online_abusive_attacks_rf_random_search = RandomizedSearchCV(online_abusive_attacks_rf_pipeline,\n",
    "                                                   param_distributions=online_abusive_attacks_rf_param_grid,\n",
    "                                                   n_iter=10,\n",
    "                                                   cv=online_abusive_attacks_kf,\n",
    "                                                   scoring=online_abusive_attacks_r2_scorer,\n",
    "                                                   random_state=42)\n",
    "online_abusive_attacks_rf_random_search.fit(online_abusive_attacks_X_train, online_abusive_attacks_y_train)\n",
    "end_time = time.time()\n",
    "print(\"Best parameters for Online Abusive Attacks Random Forest Regressor:\", online_abusive_attacks_rf_random_search.best_params_)\n",
    "print(\"Best score for Online Abusive Attacks Random Forest Regressor:\", online_abusive_attacks_rf_random_search.best_score_)\n",
    "print(\"Time taken for Online Abusive Attacks Random Forest Regressor Randomized Search:\", end_time - start_time)"
   ]
  },
  {
   "cell_type": "code",
   "execution_count": 57,
   "metadata": {
    "colab": {
     "base_uri": "https://localhost:8080/",
     "height": 564
    },
    "executionInfo": {
     "elapsed": 294,
     "status": "ok",
     "timestamp": 1758696317282,
     "user": {
      "displayName": "Christopher Fornesa",
      "userId": "11885562963716384029"
     },
     "user_tz": 300
    },
    "id": "mncPZQXrN7YC",
    "outputId": "fe01ca56-683a-4ed4-f1c2-1b632eeea68a"
   },
   "outputs": [
    {
     "data": {
      "image/png": "[encoded data removed]",
      "text/plain": [
       "<Figure size 1000x600 with 1 Axes>"
      ]
     },
     "metadata": {},
     "output_type": "display_data"
    }
   ],
   "source": [
    "# Plot the accuracy scores for the Random Forest Regressor on the Online Abusive Attacks dataset for all iterations\n",
    "plt.figure(figsize=(10, 6))\n",
    "plt.plot(online_abusive_attacks_rf_random_search.cv_results_['mean_test_score'], marker='o', label='Mean Test Score')\n",
    "\n",
    "# Plot the best score as a red x\n",
    "online_abusive_attacks_rf_best_score_index = np.argmax(online_abusive_attacks_rf_random_search.cv_results_['mean_test_score'])\n",
    "plt.scatter(online_abusive_attacks_rf_best_score_index, online_abusive_attacks_rf_random_search.cv_results_['mean_test_score'][online_abusive_attacks_rf_best_score_index], color='red', s=100, label='Best Score')\n",
    "\n",
    "plt.title('Random Forest Regressor - Online Abusive Attacks Dataset')\n",
    "plt.xlabel('Iteration')\n",
    "plt.ylabel('Mean Test Score')\n",
    "plt.xticks(range(len(online_abusive_attacks_rf_random_search.cv_results_['mean_test_score'])),\n",
    "           [f\"Iter {i+1}\" for i in range(len(online_abusive_attacks_rf_random_search.cv_results_['mean_test_score']))])\n",
    "plt.legend()\n",
    "plt.grid()\n",
    "plt.show()"
   ]
  },
  {
   "cell_type": "code",
   "execution_count": 58,
   "metadata": {
    "executionInfo": {
     "elapsed": 33,
     "status": "ok",
     "timestamp": 1758696319158,
     "user": {
      "displayName": "Christopher Fornesa",
      "userId": "11885562963716384029"
     },
     "user_tz": 300
    },
    "id": "c1nSm3H1N7YD"
   },
   "outputs": [],
   "source": [
    "# Predict on the test set\n",
    "online_abusive_attacks_rf_y_pred = online_abusive_attacks_rf_random_search.predict(online_abusive_attacks_X_test)"
   ]
  },
  {
   "cell_type": "code",
   "execution_count": 59,
   "metadata": {
    "colab": {
     "base_uri": "https://localhost:8080/"
    },
    "executionInfo": {
     "elapsed": 51,
     "status": "ok",
     "timestamp": 1758696320380,
     "user": {
      "displayName": "Christopher Fornesa",
      "userId": "11885562963716384029"
     },
     "user_tz": 300
    },
    "id": "HGWX5TyNN7YE",
    "outputId": "cc9eb82f-700f-4205-cf3d-c0f252f541d3"
   },
   "outputs": [
    {
     "name": "stdout",
     "output_type": "stream",
     "text": [
      "Dynamically Generated Hate Speech Random Forest Regressor:\n",
      "Best Parameters: {'rf_regressor__n_estimators': 958, 'rf_regressor__min_samples_split': 57, 'rf_regressor__min_samples_leaf': 19, 'rf_regressor__max_depth': 7, 'rf_regressor__criterion': 'squared_error'}\n",
      "R-squared Score: 0.3063\n",
      "RMSE Score: 12.8451\n"
     ]
    }
   ],
   "source": [
    "# Evaluate the model\n",
    "online_abusive_attacks_rf_r2 = r2_score(online_abusive_attacks_y_test, online_abusive_attacks_rf_y_pred)\n",
    "online_abusive_attacks_rf_rmse = root_mean_squared_error(online_abusive_attacks_y_test, online_abusive_attacks_rf_y_pred)\n",
    "\n",
    "print(\"Dynamically Generated Hate Speech Random Forest Regressor:\")\n",
    "print(f\"Best Parameters: {online_abusive_attacks_rf_random_search.best_params_}\")\n",
    "print(f\"R-squared Score: {online_abusive_attacks_rf_r2:.4f}\")\n",
    "print(f\"RMSE Score: {online_abusive_attacks_rf_rmse:.4f}\")"
   ]
  },
  {
   "cell_type": "code",
   "execution_count": 60,
   "metadata": {
    "executionInfo": {
     "elapsed": 53,
     "status": "ok",
     "timestamp": 1758696324596,
     "user": {
      "displayName": "Christopher Fornesa",
      "userId": "11885562963716384029"
     },
     "user_tz": 300
    },
    "id": "OcCpfhhkPFAZ"
   },
   "outputs": [],
   "source": [
    "# Append details to the results list\n",
    "rf_regression_results_list.append((\n",
    "    \"Random Forest\",\n",
    "    \"Online Abusive Attacks\",\n",
    "    online_abusive_attacks_rf_rmse,\n",
    "    online_abusive_attacks_rf_r2,\n",
    "    online_abusive_attacks_rf_random_search.best_params_\n",
    "))"
   ]
  },
  {
   "cell_type": "markdown",
   "metadata": {
    "id": "RdURyKnhN8oQ"
   },
   "source": []
  },
  {
   "cell_type": "code",
   "execution_count": 61,
   "metadata": {
    "colab": {
     "base_uri": "https://localhost:8080/",
     "height": 178
    },
    "executionInfo": {
     "elapsed": 46,
     "status": "ok",
     "timestamp": 1758696328165,
     "user": {
      "displayName": "Christopher Fornesa",
      "userId": "11885562963716384029"
     },
     "user_tz": 300
    },
    "id": "cYtKCDKWRqM7",
    "outputId": "f5d1e45d-17af-4331-91df-f8fdd8370514"
   },
   "outputs": [
    {
     "data": {
      "text/plain": [
       "HOF\n",
       "1    545\n",
       "0    515\n",
       "Name: count, dtype: int64"
      ]
     },
     "execution_count": 61,
     "metadata": {},
     "output_type": "execute_result"
    }
   ],
   "source": [
    "us2020hs_y_test.value_counts()"
   ]
  },
  {
   "cell_type": "code",
   "execution_count": 62,
   "metadata": {
    "executionInfo": {
     "elapsed": 27,
     "status": "ok",
     "timestamp": 1758696329292,
     "user": {
      "displayName": "Christopher Fornesa",
      "userId": "11885562963716384029"
     },
     "user_tz": 300
    },
    "id": "umgqUMl6N-jf"
   },
   "outputs": [],
   "source": [
    "# Random Forest Classifier pipeline for us2020hs dataset\n",
    "us2020hs_rf_pipeline = Pipeline([\n",
    "    ('rf_classifier', RandomForestClassifier(random_state=42))\n",
    "])\n",
    "\n",
    "# Set the parameters for Randomized Search for Random Forest Classifier on the us2020hs dataset\n",
    "us2020hs_rf_param_grid = {\n",
    "    'rf_classifier__n_estimators': range(1000),\n",
    "    'rf_classifier__max_depth': [us2020hs_log2],\n",
    "    'rf_classifier__min_samples_split': [us2020hs_1_percent * i for i in range(2, 6)],\n",
    "    'rf_classifier__min_samples_leaf': [us2020hs_1_percent * i for i in range(1, 6)],\n",
    "    'rf_classifier__criterion': ['gini', 'entropy']\n",
    "}"
   ]
  },
  {
   "cell_type": "code",
   "execution_count": 63,
   "metadata": {
    "colab": {
     "base_uri": "https://localhost:8080/"
    },
    "executionInfo": {
     "elapsed": 528,
     "status": "ok",
     "timestamp": 1758696331992,
     "user": {
      "displayName": "Christopher Fornesa",
      "userId": "11885562963716384029"
     },
     "user_tz": 300
    },
    "id": "LvJzduv9N-jg",
    "outputId": "3fe92bb5-4009-46d6-c5e1-05358ea42952"
   },
   "outputs": [
    {
     "name": "stdout",
     "output_type": "stream",
     "text": [
      "Best parameters for US Elections 2020 Hate Speech Random Forest Classifier: {'rf_classifier__n_estimators': 860, 'rf_classifier__min_samples_split': 86, 'rf_classifier__min_samples_leaf': 43, 'rf_classifier__max_depth': 13, 'rf_classifier__criterion': 'gini'}\n",
      "Best score for US Elections 2020 Hate Speech Random Forest Classifier: 0.6798910137889556\n",
      "Time taken for US Elections 2020 Hate Speech Random Forest Classifier Randomized Search: 20.748568058013916\n"
     ]
    }
   ],
   "source": [
    "start_time = time.time()\n",
    "us2020hs_class_scorer = make_scorer(accuracy_score, greater_is_better=True)\n",
    "\n",
    "us2020hs_rf_random_search = RandomizedSearchCV(us2020hs_rf_pipeline,\n",
    "                                                   param_distributions=us2020hs_rf_param_grid,\n",
    "                                                   n_iter=10,\n",
    "                                                   cv=us2020hs_kf,\n",
    "                                                   scoring=us2020hs_class_scorer,\n",
    "                                                   random_state=42)\n",
    "us2020hs_rf_random_search.fit(us2020hs_X_train, us2020hs_y_train)\n",
    "end_time = time.time()\n",
    "print(\"Best parameters for US Elections 2020 Hate Speech Random Forest Classifier:\", us2020hs_rf_random_search.best_params_)\n",
    "print(\"Best score for US Elections 2020 Hate Speech Random Forest Classifier:\", us2020hs_rf_random_search.best_score_)\n",
    "print(\"Time taken for US Elections 2020 Hate Speech Random Forest Classifier Randomized Search:\", end_time - start_time)"
   ]
  },
  {
   "cell_type": "code",
   "execution_count": 64,
   "metadata": {
    "colab": {
     "base_uri": "https://localhost:8080/",
     "height": 564
    },
    "executionInfo": {
     "elapsed": 968,
     "status": "ok",
     "timestamp": 1758696334284,
     "user": {
      "displayName": "Christopher Fornesa",
      "userId": "11885562963716384029"
     },
     "user_tz": 300
    },
    "id": "TYFhPnIcN-jg",
    "outputId": "03f4d652-a456-44c4-f88c-10155a8d63c9"
   },
   "outputs": [
    {
     "data": {
      "image/png": "[encoded data removed]",
      "text/plain": [
       "<Figure size 1000x600 with 1 Axes>"
      ]
     },
     "metadata": {},
     "output_type": "display_data"
    }
   ],
   "source": [
    "# Plot the accuracy scores for the Random Forest Classifier on the US Elections 2020 Hate Speech dataset for all iterations\n",
    "plt.figure(figsize=(10, 6))\n",
    "plt.plot(us2020hs_rf_random_search.cv_results_['mean_test_score'], marker='o', label='Mean Test Score')\n",
    "\n",
    "# Plot the best score as a red x\n",
    "us2020hs_rf_best_score_index = np.argmax(us2020hs_rf_random_search.cv_results_['mean_test_score'])\n",
    "plt.scatter(us2020hs_rf_best_score_index, us2020hs_rf_random_search.cv_results_['mean_test_score'][us2020hs_rf_best_score_index], color='red', s=100, label='Best Score')\n",
    "\n",
    "plt.title('Random Forest Classifier - US Elections 2020 Hate Speech Dataset')\n",
    "plt.xlabel('Iteration')\n",
    "plt.ylabel('Mean Test Score')\n",
    "plt.xticks(range(len(us2020hs_rf_random_search.cv_results_['mean_test_score'])),\n",
    "           [f\"Iter {i+1}\" for i in range(len(us2020hs_rf_random_search.cv_results_['mean_test_score']))])\n",
    "plt.legend()\n",
    "plt.grid()\n",
    "plt.show()"
   ]
  },
  {
   "cell_type": "code",
   "execution_count": 65,
   "metadata": {
    "executionInfo": {
     "elapsed": 60,
     "status": "ok",
     "timestamp": 1758696335613,
     "user": {
      "displayName": "Christopher Fornesa",
      "userId": "11885562963716384029"
     },
     "user_tz": 300
    },
    "id": "25tIiu2wN-jg"
   },
   "outputs": [],
   "source": [
    "# Predict on the test set\n",
    "us2020hs_rf_y_pred = us2020hs_rf_random_search.predict(us2020hs_X_test)"
   ]
  },
  {
   "cell_type": "code",
   "execution_count": 66,
   "metadata": {
    "colab": {
     "base_uri": "https://localhost:8080/"
    },
    "executionInfo": {
     "elapsed": 57,
     "status": "ok",
     "timestamp": 1758696336746,
     "user": {
      "displayName": "Christopher Fornesa",
      "userId": "11885562963716384029"
     },
     "user_tz": 300
    },
    "id": "zgMQt6rpN-jg",
    "outputId": "e422923a-98c6-44d8-c069-72de28b5c126"
   },
   "outputs": [
    {
     "name": "stdout",
     "output_type": "stream",
     "text": [
      "US Elections 2020 Hate Speech Random Forest Classifier:\n",
      "Best Parameters: {'rf_classifier__n_estimators': 860, 'rf_classifier__min_samples_split': 86, 'rf_classifier__min_samples_leaf': 43, 'rf_classifier__max_depth': 13, 'rf_classifier__criterion': 'gini'}\n",
      "Accuracy: 0.6708\n",
      "F1 Score: 0.6704\n"
     ]
    }
   ],
   "source": [
    "# Evaluate the model\n",
    "us2020hs_rf_accuracy = accuracy_score(us2020hs_y_test, us2020hs_rf_y_pred)\n",
    "us2020hs_rf_f1 = f1_score(us2020hs_y_test, us2020hs_rf_y_pred, average='weighted')\n",
    "\n",
    "print(\"US Elections 2020 Hate Speech Random Forest Classifier:\")\n",
    "print(f\"Best Parameters: {us2020hs_rf_random_search.best_params_}\")\n",
    "print(f\"Accuracy: {us2020hs_rf_accuracy:.4f}\")\n",
    "print(f\"F1 Score: {us2020hs_rf_f1:.4f}\")"
   ]
  },
  {
   "cell_type": "code",
   "execution_count": 67,
   "metadata": {
    "colab": {
     "base_uri": "https://localhost:8080/",
     "height": 564
    },
    "executionInfo": {
     "elapsed": 257,
     "status": "ok",
     "timestamp": 1758696339248,
     "user": {
      "displayName": "Christopher Fornesa",
      "userId": "11885562963716384029"
     },
     "user_tz": 300
    },
    "id": "EC-2AkuhN-jg",
    "outputId": "a4203313-7039-4320-b889-ef7b652224f2"
   },
   "outputs": [
    {
     "data": {
      "image/png": "[encoded data removed]",
      "text/plain": [
       "<Figure size 1000x600 with 2 Axes>"
      ]
     },
     "metadata": {},
     "output_type": "display_data"
    }
   ],
   "source": [
    "# Plot the confusion matrix using seaborn\n",
    "plt.figure(figsize=(10, 6))\n",
    "sns.heatmap(pd.crosstab(us2020hs_y_test, us2020hs_rf_y_pred, rownames=['Actual'], colnames=['Predicted']), annot=True, fmt='d', cmap='Blues')\n",
    "plt.title('Confusion Matrix - US Elections 2020 Hate Speech Random Forest Classifier')\n",
    "plt.xlabel('Predicted')\n",
    "plt.ylabel('Actual')\n",
    "plt.show()"
   ]
  },
  {
   "cell_type": "code",
   "execution_count": 68,
   "metadata": {
    "colab": {
     "base_uri": "https://localhost:8080/"
    },
    "executionInfo": {
     "elapsed": 29,
     "status": "ok",
     "timestamp": 1758696342817,
     "user": {
      "displayName": "Christopher Fornesa",
      "userId": "11885562963716384029"
     },
     "user_tz": 300
    },
    "id": "cfbWghYCN-jh",
    "outputId": "91876b7c-78e7-45b3-841e-024170532f08"
   },
   "outputs": [
    {
     "name": "stdout",
     "output_type": "stream",
     "text": [
      "Classification Report for US Elections 2020 Hate Speech Random Forest Classifier:\n",
      "              precision    recall  f1-score   support\n",
      "\n",
      "           0       0.67      0.64      0.65       515\n",
      "           1       0.67      0.70      0.69       545\n",
      "\n",
      "    accuracy                           0.67      1060\n",
      "   macro avg       0.67      0.67      0.67      1060\n",
      "weighted avg       0.67      0.67      0.67      1060\n",
      "\n"
     ]
    }
   ],
   "source": [
    "# Generate a classification report for the Random Forest Classifier on the US Elections 2020 Hate Speech\n",
    "us2020hs_rf_report = classification_report(us2020hs_y_test, us2020hs_rf_y_pred)\n",
    "print(\"Classification Report for US Elections 2020 Hate Speech Random Forest Classifier:\")\n",
    "print(us2020hs_rf_report)"
   ]
  },
  {
   "cell_type": "code",
   "execution_count": 69,
   "metadata": {
    "executionInfo": {
     "elapsed": 64,
     "status": "ok",
     "timestamp": 1758696361093,
     "user": {
      "displayName": "Christopher Fornesa",
      "userId": "11885562963716384029"
     },
     "user_tz": 300
    },
    "id": "TD7HB7NPPGyZ"
   },
   "outputs": [],
   "source": [
    "# Append details to the results list\n",
    "rf_classification_results_list.append((\n",
    "    \"Random Forest\",\n",
    "    \"US Elections 2020 Hate Speech\",\n",
    "    \"NA\",\n",
    "    \"NA\",\n",
    "    us2020hs_rf_accuracy,\n",
    "    us2020hs_rf_f1,\n",
    "    0.0,\n",
    "    us2020hs_rf_random_search.best_params_\n",
    "))"
   ]
  },
  {
   "cell_type": "markdown",
   "metadata": {
    "id": "oUGZ0hfleWFE"
   },
   "source": []
  },
  {
   "cell_type": "code",
   "execution_count": 70,
   "metadata": {
    "colab": {
     "base_uri": "https://localhost:8080/",
     "height": 489
    },
    "executionInfo": {
     "elapsed": 79,
     "status": "ok",
     "timestamp": 1758696653234,
     "user": {
      "displayName": "Christopher Fornesa",
      "userId": "11885562963716384029"
     },
     "user_tz": 300
    },
    "id": "AKQAY3GeeWpH",
    "outputId": "f9905e83-1962-4f1c-8f7a-fa72350c4672"
   },
   "outputs": [
    {
     "data": {
      "text/plain": [
       "abuse_level\n",
       "4    2695\n",
       "0    2690\n",
       "3    2680\n",
       "2    2607\n",
       "Name: count, dtype: int64"
      ]
     },
     "execution_count": 70,
     "metadata": {},
     "output_type": "execute_result"
    }
   ],
   "source": [
    "mlma_hate_speech_y_test.value_counts()"
   ]
  },
  {
   "cell_type": "code",
   "execution_count": 71,
   "metadata": {
    "executionInfo": {
     "elapsed": 15,
     "status": "ok",
     "timestamp": 1758696680613,
     "user": {
      "displayName": "Christopher Fornesa",
      "userId": "11885562963716384029"
     },
     "user_tz": 300
    },
    "id": "6itPm7egeWpH"
   },
   "outputs": [],
   "source": [
    "# Random Forest Classifier pipeline for mlma_hate_speech dataset\n",
    "mlma_hate_speech_rf_pipeline = Pipeline([\n",
    "    ('rf_classifier', RandomForestClassifier(random_state=42))\n",
    "])\n",
    "\n",
    "# Set the parameters for Randomized Search for Random Forest Classifier on the mlma_hate_speech dataset\n",
    "mlma_hate_speech_rf_param_grid = {\n",
    "    'rf_classifier__n_estimators': range(1000),\n",
    "    'rf_classifier__max_depth': [mlma_hate_speech_sample_log2],\n",
    "    'rf_classifier__min_samples_split': [mlma_hate_speech_sample_1_percent * i for i in range(2, 6)],\n",
    "    'rf_classifier__min_samples_leaf': [mlma_hate_speech_sample_1_percent * i for i in range(1, 6)],\n",
    "    'rf_classifier__criterion': ['gini', 'entropy']\n",
    "}"
   ]
  },
  {
   "cell_type": "code",
   "execution_count": 72,
   "metadata": {
    "colab": {
     "base_uri": "https://localhost:8080/"
    },
    "executionInfo": {
     "elapsed": 52746,
     "status": "ok",
     "timestamp": 1758696781219,
     "user": {
      "displayName": "Christopher Fornesa",
      "userId": "11885562963716384029"
     },
     "user_tz": 300
    },
    "id": "fr63JIvQeWpH",
    "outputId": "06d6ce1f-1e01-4e05-cf67-4e0d2f3418c6"
   },
   "outputs": [
    {
     "name": "stdout",
     "output_type": "stream",
     "text": [
      "Best parameters for US Elections 2020 Hate Speech Random Forest Classifier: {'rf_classifier__n_estimators': 795, 'rf_classifier__min_samples_split': 645, 'rf_classifier__min_samples_leaf': 516, 'rf_classifier__max_depth': 14, 'rf_classifier__criterion': 'gini'}\n",
      "Best score for US Elections 2020 Hate Speech Random Forest Classifier: 0.9996876220226476\n",
      "Time taken for US Elections 2020 Hate Speech Random Forest Classifier Randomized Search: 58.48391675949097\n"
     ]
    }
   ],
   "source": [
    "start_time = time.time()\n",
    "mlma_hate_speech_class_scorer = make_scorer(accuracy_score, greater_is_better=True)\n",
    "\n",
    "mlma_hate_speech_rf_random_search = RandomizedSearchCV(mlma_hate_speech_rf_pipeline,\n",
    "                                                   param_distributions=mlma_hate_speech_rf_param_grid,\n",
    "                                                   n_iter=10,\n",
    "                                                   cv=mlma_hate_speech_kf,\n",
    "                                                   scoring=mlma_hate_speech_class_scorer,\n",
    "                                                   random_state=42)\n",
    "mlma_hate_speech_rf_random_search.fit(mlma_hate_speech_X_train_sample, mlma_hate_speech_y_train_sample)\n",
    "end_time = time.time()\n",
    "print(\"Best parameters for US Elections 2020 Hate Speech Random Forest Classifier:\", mlma_hate_speech_rf_random_search.best_params_)\n",
    "print(\"Best score for US Elections 2020 Hate Speech Random Forest Classifier:\", mlma_hate_speech_rf_random_search.best_score_)\n",
    "print(\"Time taken for US Elections 2020 Hate Speech Random Forest Classifier Randomized Search:\", end_time - start_time)"
   ]
  },
  {
   "cell_type": "code",
   "execution_count": 73,
   "metadata": {
    "colab": {
     "base_uri": "https://localhost:8080/",
     "height": 564
    },
    "executionInfo": {
     "elapsed": 235,
     "status": "ok",
     "timestamp": 1758696819914,
     "user": {
      "displayName": "Christopher Fornesa",
      "userId": "11885562963716384029"
     },
     "user_tz": 300
    },
    "id": "Y7qIOPmWeWpH",
    "outputId": "4b23f678-db67-4fb6-e6a0-1ea3ff7323b9"
   },
   "outputs": [
    {
     "data": {
      "image/png": "[encoded data removed]",
      "text/plain": [
       "<Figure size 1000x600 with 1 Axes>"
      ]
     },
     "metadata": {},
     "output_type": "display_data"
    }
   ],
   "source": [
    "# Plot the accuracy scores for the Random Forest Classifier on the MLMA Hate Speech dataset for all iterations\n",
    "plt.figure(figsize=(10, 6))\n",
    "plt.plot(mlma_hate_speech_rf_random_search.cv_results_['mean_test_score'], marker='o', label='Mean Test Score')\n",
    "\n",
    "# Plot the best score as a red x\n",
    "mlma_hate_speech_rf_best_score_index = np.argmax(mlma_hate_speech_rf_random_search.cv_results_['mean_test_score'])\n",
    "plt.scatter(mlma_hate_speech_rf_best_score_index, mlma_hate_speech_rf_random_search.cv_results_['mean_test_score'][mlma_hate_speech_rf_best_score_index], color='red', s=100, label='Best Score')\n",
    "\n",
    "plt.title('Random Forest Classifier - MLMA Hate Speech Dataset')\n",
    "plt.xlabel('Iteration')\n",
    "plt.ylabel('Mean Test Score')\n",
    "plt.xticks(range(len(mlma_hate_speech_rf_random_search.cv_results_['mean_test_score'])),\n",
    "           [f\"Iter {i+1}\" for i in range(len(mlma_hate_speech_rf_random_search.cv_results_['mean_test_score']))])\n",
    "plt.legend()\n",
    "plt.grid()\n",
    "plt.show()"
   ]
  },
  {
   "cell_type": "code",
   "execution_count": 74,
   "metadata": {
    "executionInfo": {
     "elapsed": 43,
     "status": "ok",
     "timestamp": 1758696832602,
     "user": {
      "displayName": "Christopher Fornesa",
      "userId": "11885562963716384029"
     },
     "user_tz": 300
    },
    "id": "kHSv1iVoeWpH"
   },
   "outputs": [],
   "source": [
    "# Predict on the test set\n",
    "mlma_hate_speech_rf_y_pred = mlma_hate_speech_rf_random_search.predict(mlma_hate_speech_X_test)"
   ]
  },
  {
   "cell_type": "code",
   "execution_count": 75,
   "metadata": {
    "colab": {
     "base_uri": "https://localhost:8080/"
    },
    "executionInfo": {
     "elapsed": 63,
     "status": "ok",
     "timestamp": 1758696873700,
     "user": {
      "displayName": "Christopher Fornesa",
      "userId": "11885562963716384029"
     },
     "user_tz": 300
    },
    "id": "A2DfeZFkeWpI",
    "outputId": "0b8772cc-d0fa-4eb0-df5c-fe988085b4a4"
   },
   "outputs": [
    {
     "name": "stdout",
     "output_type": "stream",
     "text": [
      "MLMA Hate Speech Random Forest Classifier:\n",
      "Best Parameters: {'rf_classifier__n_estimators': 795, 'rf_classifier__min_samples_split': 645, 'rf_classifier__min_samples_leaf': 516, 'rf_classifier__max_depth': 14, 'rf_classifier__criterion': 'gini'}\n",
      "Accuracy: 0.9966\n",
      "F1 Score: 0.9966\n"
     ]
    }
   ],
   "source": [
    "# Evaluate the model\n",
    "mlma_hate_speech_rf_accuracy = accuracy_score(mlma_hate_speech_y_test, mlma_hate_speech_rf_y_pred)\n",
    "mlma_hate_speech_rf_f1 = f1_score(mlma_hate_speech_y_test, mlma_hate_speech_rf_y_pred, average='weighted')\n",
    "\n",
    "print(\"MLMA Hate Speech Random Forest Classifier:\")\n",
    "print(f\"Best Parameters: {mlma_hate_speech_rf_random_search.best_params_}\")\n",
    "print(f\"Accuracy: {mlma_hate_speech_rf_accuracy:.4f}\")\n",
    "print(f\"F1 Score: {mlma_hate_speech_rf_f1:.4f}\")"
   ]
  },
  {
   "cell_type": "code",
   "execution_count": 76,
   "metadata": {
    "colab": {
     "base_uri": "https://localhost:8080/",
     "height": 564
    },
    "executionInfo": {
     "elapsed": 5173,
     "status": "ok",
     "timestamp": 1758696910167,
     "user": {
      "displayName": "Christopher Fornesa",
      "userId": "11885562963716384029"
     },
     "user_tz": 300
    },
    "id": "RFNPMZnjeWpI",
    "outputId": "58db1a0a-35f8-49b3-c8e7-506e8e6936c0"
   },
   "outputs": [
    {
     "data": {
      "image/png": "[encoded data removed]",
      "text/plain": [
       "<Figure size 1000x600 with 2 Axes>"
      ]
     },
     "metadata": {},
     "output_type": "display_data"
    }
   ],
   "source": [
    "# Plot the confusion matrix using seaborn\n",
    "plt.figure(figsize=(10, 6))\n",
    "sns.heatmap(pd.crosstab(mlma_hate_speech_y_test, mlma_hate_speech_rf_y_pred, rownames=['Actual'], colnames=['Predicted']), annot=True, fmt='d', cmap='Blues')\n",
    "plt.title('Confusion Matrix - MLMA Hate Speech Random Forest Classifier')\n",
    "plt.xlabel('Predicted')\n",
    "plt.ylabel('Actual')\n",
    "plt.show()"
   ]
  },
  {
   "cell_type": "code",
   "execution_count": 77,
   "metadata": {
    "colab": {
     "base_uri": "https://localhost:8080/"
    },
    "executionInfo": {
     "elapsed": 88,
     "status": "ok",
     "timestamp": 1758696934566,
     "user": {
      "displayName": "Christopher Fornesa",
      "userId": "11885562963716384029"
     },
     "user_tz": 300
    },
    "id": "ced5RGrTeWpI",
    "outputId": "29128130-72fe-4af2-f381-b3c06c80e077"
   },
   "outputs": [
    {
     "name": "stdout",
     "output_type": "stream",
     "text": [
      "Classification Report for MLMA Hate Speech Random Forest Classifier:\n",
      "              precision    recall  f1-score   support\n",
      "\n",
      "           0       1.00      1.00      1.00      2690\n",
      "           2       1.00      1.00      1.00      2607\n",
      "           3       1.00      1.00      1.00      2680\n",
      "           4       1.00      1.00      1.00      2695\n",
      "\n",
      "    accuracy                           1.00     10672\n",
      "   macro avg       1.00      1.00      1.00     10672\n",
      "weighted avg       1.00      1.00      1.00     10672\n",
      "\n"
     ]
    }
   ],
   "source": [
    "# Generate a classification report for the Random Forest Classifier on the MLMA Hate Speech\n",
    "mlma_hate_speech_rf_report = classification_report(mlma_hate_speech_y_test, mlma_hate_speech_rf_y_pred)\n",
    "print(\"Classification Report for MLMA Hate Speech Random Forest Classifier:\")\n",
    "print(mlma_hate_speech_rf_report)"
   ]
  },
  {
   "cell_type": "code",
   "execution_count": 78,
   "metadata": {
    "executionInfo": {
     "elapsed": 65,
     "status": "ok",
     "timestamp": 1758696980983,
     "user": {
      "displayName": "Christopher Fornesa",
      "userId": "11885562963716384029"
     },
     "user_tz": 300
    },
    "id": "vGt-aXBweWpI"
   },
   "outputs": [],
   "source": [
    "# Append details to the results list\n",
    "rf_classification_results_list.append((\n",
    "    \"Random Forest\",\n",
    "    \"MLMA Hate Speech\",\n",
    "    \"NA\",\n",
    "    \"NA\",\n",
    "    mlma_hate_speech_rf_accuracy,\n",
    "    mlma_hate_speech_rf_f1,\n",
    "    0.0,\n",
    "    mlma_hate_speech_rf_random_search.best_params_\n",
    "))"
   ]
  },
  {
   "cell_type": "markdown",
   "metadata": {
    "id": "IkUH-1Sam5l_"
   },
   "source": [
    "## Support Vector Machine Conclusions"
   ]
  },
  {
   "cell_type": "code",
   "execution_count": 79,
   "metadata": {
    "colab": {
     "base_uri": "https://localhost:8080/"
    },
    "executionInfo": {
     "elapsed": 85,
     "status": "ok",
     "timestamp": 1758696985245,
     "user": {
      "displayName": "Christopher Fornesa",
      "userId": "11885562963716384029"
     },
     "user_tz": 300
    },
    "id": "FNwlLZ8P0X7n",
    "outputId": "70db6202-b297-4aee-baf8-18912642f122"
   },
   "outputs": [
    {
     "data": {
      "text/plain": [
       "[('Random Forest',\n",
       "  'Online Abusive Attacks',\n",
       "  12.845114053807931,\n",
       "  0.3063043683548343,\n",
       "  {'rf_regressor__n_estimators': 958,\n",
       "   'rf_regressor__min_samples_split': 57,\n",
       "   'rf_regressor__min_samples_leaf': 19,\n",
       "   'rf_regressor__max_depth': 7,\n",
       "   'rf_regressor__criterion': 'squared_error'})]"
      ]
     },
     "execution_count": 79,
     "metadata": {},
     "output_type": "execute_result"
    }
   ],
   "source": [
    "rf_regression_results_list"
   ]
  },
  {
   "cell_type": "code",
   "execution_count": 80,
   "metadata": {
    "colab": {
     "base_uri": "https://localhost:8080/"
    },
    "executionInfo": {
     "elapsed": 47,
     "status": "ok",
     "timestamp": 1758696987888,
     "user": {
      "displayName": "Christopher Fornesa",
      "userId": "11885562963716384029"
     },
     "user_tz": 300
    },
    "id": "CDAeIA8avla2",
    "outputId": "11c9d573-2a7b-40e7-fac7-3ccddb6978a1"
   },
   "outputs": [
    {
     "data": {
      "text/plain": [
       "[('Random Forest',\n",
       "  'Convabuse',\n",
       "  'NA',\n",
       "  'NA',\n",
       "  0.33234008740564164,\n",
       "  0.2378010774143733,\n",
       "  0.0,\n",
       "  {'rf_classifier__n_estimators': 958,\n",
       "   'rf_classifier__min_samples_split': 1209,\n",
       "   'rf_classifier__min_samples_leaf': 403,\n",
       "   'rf_classifier__max_depth': 7,\n",
       "   'rf_classifier__criterion': 'gini'}),\n",
       " ('Random Forest',\n",
       "  'Dynamically Generated Hate Speech',\n",
       "  'NA',\n",
       "  'NA',\n",
       "  0.834870848708487,\n",
       "  0.8302887273632195,\n",
       "  0.0,\n",
       "  {'rf_classifier__n_estimators': 958,\n",
       "   'rf_classifier__min_samples_split': 912,\n",
       "   'rf_classifier__min_samples_leaf': 304,\n",
       "   'rf_classifier__max_depth': 7,\n",
       "   'rf_classifier__criterion': 'gini'}),\n",
       " ('Random Forest',\n",
       "  'US Elections 2020 Hate Speech',\n",
       "  'NA',\n",
       "  'NA',\n",
       "  0.6707547169811321,\n",
       "  0.6703507170131237,\n",
       "  0.0,\n",
       "  {'rf_classifier__n_estimators': 860,\n",
       "   'rf_classifier__min_samples_split': 86,\n",
       "   'rf_classifier__min_samples_leaf': 43,\n",
       "   'rf_classifier__max_depth': 13,\n",
       "   'rf_classifier__criterion': 'gini'}),\n",
       " ('Random Forest',\n",
       "  'MLMA Hate Speech',\n",
       "  'NA',\n",
       "  'NA',\n",
       "  0.9966266866566716,\n",
       "  0.9966266833994746,\n",
       "  0.0,\n",
       "  {'rf_classifier__n_estimators': 795,\n",
       "   'rf_classifier__min_samples_split': 645,\n",
       "   'rf_classifier__min_samples_leaf': 516,\n",
       "   'rf_classifier__max_depth': 14,\n",
       "   'rf_classifier__criterion': 'gini'})]"
      ]
     },
     "execution_count": 80,
     "metadata": {},
     "output_type": "execute_result"
    }
   ],
   "source": [
    "rf_classification_results_list"
   ]
  },
  {
   "cell_type": "code",
   "execution_count": 81,
   "metadata": {
    "colab": {
     "base_uri": "https://localhost:8080/",
     "height": 174
    },
    "executionInfo": {
     "elapsed": 62,
     "status": "ok",
     "timestamp": 1758696993887,
     "user": {
      "displayName": "Christopher Fornesa",
      "userId": "11885562963716384029"
     },
     "user_tz": 300
    },
    "id": "STCGZaiwOYLo",
    "outputId": "ab6e67a4-1de2-4748-a830-47a67a096d19"
   },
   "outputs": [
    {
     "data": {
      "text/html": [
       "<div>\n",
       "<style scoped>\n",
       "    .dataframe tbody tr th:only-of-type {\n",
       "        vertical-align: middle;\n",
       "    }\n",
       "\n",
       "    .dataframe tbody tr th {\n",
       "        vertical-align: top;\n",
       "    }\n",
       "\n",
       "    .dataframe thead th {\n",
       "        text-align: right;\n",
       "    }\n",
       "</style>\n",
       "<table border=\"1\" class=\"dataframe\">\n",
       "  <thead>\n",
       "    <tr style=\"text-align: right;\">\n",
       "      <th></th>\n",
       "      <th>Model</th>\n",
       "      <th>Dataset</th>\n",
       "      <th>Kernel</th>\n",
       "      <th>Regularization</th>\n",
       "      <th>Accuracy</th>\n",
       "      <th>F1-score</th>\n",
       "      <th>Ratio</th>\n",
       "      <th>Best Parameters</th>\n",
       "    </tr>\n",
       "  </thead>\n",
       "  <tbody>\n",
       "    <tr>\n",
       "      <th>0</th>\n",
       "      <td>Random Forest</td>\n",
       "      <td>Convabuse</td>\n",
       "      <td>NA</td>\n",
       "      <td>NA</td>\n",
       "      <td>0.332340</td>\n",
       "      <td>0.237801</td>\n",
       "      <td>0.0</td>\n",
       "      <td>{'rf_classifier__n_estimators': 958, 'rf_class...</td>\n",
       "    </tr>\n",
       "    <tr>\n",
       "      <th>1</th>\n",
       "      <td>Random Forest</td>\n",
       "      <td>Dynamically Generated Hate Speech</td>\n",
       "      <td>NA</td>\n",
       "      <td>NA</td>\n",
       "      <td>0.834871</td>\n",
       "      <td>0.830289</td>\n",
       "      <td>0.0</td>\n",
       "      <td>{'rf_classifier__n_estimators': 958, 'rf_class...</td>\n",
       "    </tr>\n",
       "    <tr>\n",
       "      <th>2</th>\n",
       "      <td>Random Forest</td>\n",
       "      <td>US Elections 2020 Hate Speech</td>\n",
       "      <td>NA</td>\n",
       "      <td>NA</td>\n",
       "      <td>0.670755</td>\n",
       "      <td>0.670351</td>\n",
       "      <td>0.0</td>\n",
       "      <td>{'rf_classifier__n_estimators': 860, 'rf_class...</td>\n",
       "    </tr>\n",
       "    <tr>\n",
       "      <th>3</th>\n",
       "      <td>Random Forest</td>\n",
       "      <td>MLMA Hate Speech</td>\n",
       "      <td>NA</td>\n",
       "      <td>NA</td>\n",
       "      <td>0.996627</td>\n",
       "      <td>0.996627</td>\n",
       "      <td>0.0</td>\n",
       "      <td>{'rf_classifier__n_estimators': 795, 'rf_class...</td>\n",
       "    </tr>\n",
       "  </tbody>\n",
       "</table>\n",
       "</div>"
      ],
      "text/plain": [
       "           Model                            Dataset Kernel Regularization  \\\n",
       "0  Random Forest                          Convabuse     NA             NA   \n",
       "1  Random Forest  Dynamically Generated Hate Speech     NA             NA   \n",
       "2  Random Forest      US Elections 2020 Hate Speech     NA             NA   \n",
       "3  Random Forest                   MLMA Hate Speech     NA             NA   \n",
       "\n",
       "   Accuracy  F1-score  Ratio  \\\n",
       "0  0.332340  0.237801    0.0   \n",
       "1  0.834871  0.830289    0.0   \n",
       "2  0.670755  0.670351    0.0   \n",
       "3  0.996627  0.996627    0.0   \n",
       "\n",
       "                                     Best Parameters  \n",
       "0  {'rf_classifier__n_estimators': 958, 'rf_class...  \n",
       "1  {'rf_classifier__n_estimators': 958, 'rf_class...  \n",
       "2  {'rf_classifier__n_estimators': 860, 'rf_class...  \n",
       "3  {'rf_classifier__n_estimators': 795, 'rf_class...  "
      ]
     },
     "execution_count": 81,
     "metadata": {},
     "output_type": "execute_result"
    }
   ],
   "source": [
    "# Convert the rf_classification_results_list to a DataFrame\n",
    "rf_classification_summary = pd.DataFrame(rf_classification_results_list, columns=[\"Model\", \"Dataset\", \"Kernel\", \"Regularization\", \"Accuracy\", \"F1-score\", \"Ratio\", \"Best Parameters\"])\n",
    "rf_classification_summary"
   ]
  },
  {
   "cell_type": "code",
   "execution_count": 82,
   "metadata": {
    "colab": {
     "base_uri": "https://localhost:8080/",
     "height": 89
    },
    "executionInfo": {
     "elapsed": 63,
     "status": "ok",
     "timestamp": 1758697000548,
     "user": {
      "displayName": "Christopher Fornesa",
      "userId": "11885562963716384029"
     },
     "user_tz": 300
    },
    "id": "_BlKXU7R2FfB",
    "outputId": "0a15d526-6123-4cc1-e8ab-4006f6f7671b"
   },
   "outputs": [
    {
     "data": {
      "text/html": [
       "<div>\n",
       "<style scoped>\n",
       "    .dataframe tbody tr th:only-of-type {\n",
       "        vertical-align: middle;\n",
       "    }\n",
       "\n",
       "    .dataframe tbody tr th {\n",
       "        vertical-align: top;\n",
       "    }\n",
       "\n",
       "    .dataframe thead th {\n",
       "        text-align: right;\n",
       "    }\n",
       "</style>\n",
       "<table border=\"1\" class=\"dataframe\">\n",
       "  <thead>\n",
       "    <tr style=\"text-align: right;\">\n",
       "      <th></th>\n",
       "      <th>Model</th>\n",
       "      <th>Dataset</th>\n",
       "      <th>RMSE</th>\n",
       "      <th>R2</th>\n",
       "      <th>Best Parameters</th>\n",
       "    </tr>\n",
       "  </thead>\n",
       "  <tbody>\n",
       "    <tr>\n",
       "      <th>0</th>\n",
       "      <td>Random Forest</td>\n",
       "      <td>Online Abusive Attacks</td>\n",
       "      <td>12.845114</td>\n",
       "      <td>0.306304</td>\n",
       "      <td>{'rf_regressor__n_estimators': 958, 'rf_regres...</td>\n",
       "    </tr>\n",
       "  </tbody>\n",
       "</table>\n",
       "</div>"
      ],
      "text/plain": [
       "           Model                 Dataset       RMSE        R2  \\\n",
       "0  Random Forest  Online Abusive Attacks  12.845114  0.306304   \n",
       "\n",
       "                                     Best Parameters  \n",
       "0  {'rf_regressor__n_estimators': 958, 'rf_regres...  "
      ]
     },
     "execution_count": 82,
     "metadata": {},
     "output_type": "execute_result"
    }
   ],
   "source": [
    "# Convert the rf_regression_results_list to a DataFrame\n",
    "rf_regression_summary = pd.DataFrame(rf_regression_results_list, columns=[\"Model\", \"Dataset\", \"RMSE\", \"R2\", \"Best Parameters\"])\n",
    "rf_regression_summary"
   ]
  },
  {
   "cell_type": "code",
   "execution_count": 83,
   "metadata": {
    "executionInfo": {
     "elapsed": 658,
     "status": "ok",
     "timestamp": 1758697008010,
     "user": {
      "displayName": "Christopher Fornesa",
      "userId": "11885562963716384029"
     },
     "user_tz": 300
    },
    "id": "4cFmILjTOjLn"
   },
   "outputs": [],
   "source": [
    "output_path = 'results/'\n",
    "rf_classification_summary.to_csv(f\"{output_path}/model6_rf-classification-summary.csv\", index=False)\n",
    "rf_regression_summary.to_csv(f\"{output_path}/model6_rf-regression-summary.csv\", index=False)"
   ]
  }
 ],
 "metadata": {
  "colab": {
   "authorship_tag": "ABX9TyP3biAIa/j66AJZR+Mv8fmI",
   "provenance": []
  },
  "kernelspec": {
   "display_name": "Python 3",
   "name": "python3"
  },
  "language_info": {
   "codemirror_mode": {
    "name": "ipython",
    "version": 3
   },
   "file_extension": ".py",
   "mimetype": "text/x-python",
   "name": "python",
   "nbconvert_exporter": "python",
   "pygments_lexer": "ipython3",
   "version": "3.13.3"
  }
 },
 "nbformat": 4,
 "nbformat_minor": 0
}
