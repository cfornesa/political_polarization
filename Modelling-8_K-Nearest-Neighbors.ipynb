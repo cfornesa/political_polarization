{
 "cells": [
  {
   "cell_type": "markdown",
   "metadata": {
    "id": "tW13DTo8v5-a"
   },
   "source": [
    "# Library and Data Imports and Standardization"
   ]
  },
  {
   "cell_type": "code",
   "execution_count": 1,
   "metadata": {
    "colab": {
     "base_uri": "https://localhost:8080/"
    },
    "executionInfo": {
     "elapsed": 5304,
     "status": "ok",
     "timestamp": 1758696006058,
     "user": {
      "displayName": "Christopher Fornesa",
      "userId": "11885562963716384029"
     },
     "user_tz": 300
    },
    "id": "pA00JuuX9NPr",
    "outputId": "ff0e7836-0ffe-4feb-acee-3235df9c75b0"
   },
   "outputs": [],
   "source": [
    "# Make the imports\n",
    "import pandas as pd\n",
    "import numpy as np\n",
    "import matplotlib.pyplot as plt\n",
    "import seaborn as sns\n",
    "import warnings\n",
    "warnings.filterwarnings('ignore')\n",
    "import sklearn as sk\n",
    "\n",
    "# Import StandardScaler\n",
    "from sklearn.preprocessing import StandardScaler\n",
    "\n",
    "# Import ordinal encoder\n",
    "from sklearn.preprocessing import OrdinalEncoder\n",
    "\n",
    "# Import Logistic Regression\n",
    "from sklearn.linear_model import LogisticRegression\n",
    "from sklearn.model_selection import train_test_split\n",
    "from sklearn.metrics import accuracy_score, make_scorer, r2_score, root_mean_squared_error\n",
    "\n",
    "# Import train test split\n",
    "from sklearn.model_selection import train_test_split\n",
    "\n",
    "from sklearn.pipeline import Pipeline\n",
    "from sklearn.model_selection import GridSearchCV\n",
    "from sklearn import svm\n",
    "from sklearn.kernel_approximation import RBFSampler\n",
    "from sklearn.linear_model import SGDClassifier\n",
    "from sklearn.metrics import classification_report, accuracy_score, f1_score\n",
    "from pprint import pprint\n",
    "\n",
    "# Import KNeighbors Regressor and Classifier\n",
    "from sklearn.neighbors import KNeighborsRegressor\n",
    "from sklearn.neighbors import KNeighborsClassifier\n",
    "\n",
    "# Import time\n",
    "import time\n",
    "\n",
    "# Import Randomized Search CV\n",
    "from sklearn.model_selection import GridSearchCV\n",
    "from sklearn.model_selection import RandomizedSearchCV\n",
    "\n",
    "# Import confusion matrix\n",
    "from sklearn.metrics import confusion_matrix\n",
    "\n",
    "# Import kfold\n",
    "from sklearn.model_selection import KFold\n",
    "\n",
    "# Import cross val score\n",
    "from sklearn.model_selection import cross_val_score\n",
    "\n",
    "# Import math\n",
    "import math\n",
    "\n",
    "# Import log2\n",
    "from math import log2\n",
    "\n",
    "# Import classification report\n",
    "from sklearn.metrics import classification_report\n",
    "\n",
    "# Import pickle\n",
    "import pickle\n",
    "\n",
    "np.random.seed(42)\n",
    "\n",
    "# Analyze using permutation importance\n",
    "from sklearn.inspection import permutation_importance\n",
    "\n",
    "# from google.colab import drive\n",
    "# drive.mount('/content/drive')"
   ]
  },
  {
   "cell_type": "code",
   "execution_count": 2,
   "metadata": {
    "executionInfo": {
     "elapsed": 82,
     "status": "ok",
     "timestamp": 1758696006146,
     "user": {
      "displayName": "Christopher Fornesa",
      "userId": "11885562963716384029"
     },
     "user_tz": 300
    },
    "id": "PVpkw-tNzcCr"
   },
   "outputs": [],
   "source": [
    "# path = '/content/drive/My Drive/Online MSDS/MOD C2/Political Polarization/data/'\n",
    "path = 'data/'\n",
    "pickle_path = 'pickle/'\n",
    "results_path = 'results/'\n",
    "\n",
    "convabuse_filename = 'convabuse_final.csv'\n",
    "dghs_filename = 'dynamically_generated_hate_speech_dataset_final.csv'\n",
    "oaa_filename = 'online_abusive_attacks_final.csv'\n",
    "us2020hs_filename = 'us_elections_2020_hate_speech_final.csv'\n",
    "mlma_hate_speech_filename = 'MLMA_hate_speech_final.csv'"
   ]
  },
  {
   "cell_type": "code",
   "execution_count": 3,
   "metadata": {
    "executionInfo": {
     "elapsed": 1460,
     "status": "ok",
     "timestamp": 1758696007620,
     "user": {
      "displayName": "Christopher Fornesa",
      "userId": "11885562963716384029"
     },
     "user_tz": 300
    },
    "id": "Fx0ll_Id9yUo"
   },
   "outputs": [],
   "source": [
    "# Import the datasets\n",
    "convabuse = pd.read_csv(f'{path}{convabuse_filename}')\n",
    "convabuse_sample = convabuse.sample(frac=0.3, random_state=42)\n",
    "dynamically_generated_hate_speech = pd.read_csv(f'{path}{dghs_filename}')\n",
    "dghs_sample = dynamically_generated_hate_speech.sample(frac=0.3, random_state=42)\n",
    "online_abusive_attacks = pd.read_csv(f'{path}{oaa_filename}')\n",
    "online_abusive_attacks_sample = online_abusive_attacks.sample(frac=0.3, random_state=42)\n",
    "us_elections_2020_hate_speech = pd.read_csv(f'{path}{us2020hs_filename}')\n",
    "us2020hs_sample = us_elections_2020_hate_speech.sample(frac=0.3, random_state=42)\n",
    "mlma_hate_speech = pd.read_csv(f'{path}{mlma_hate_speech_filename}')\n",
    "mlma_hate_speech_sample = mlma_hate_speech.sample(frac=0.3, random_state=42)"
   ]
  },
  {
   "cell_type": "code",
   "execution_count": 4,
   "metadata": {
    "colab": {
     "base_uri": "https://localhost:8080/",
     "height": 206
    },
    "executionInfo": {
     "elapsed": 396,
     "status": "ok",
     "timestamp": 1758696008038,
     "user": {
      "displayName": "Christopher Fornesa",
      "userId": "11885562963716384029"
     },
     "user_tz": 300
    },
    "id": "7Q7fKHbPGQtc",
    "outputId": "3b02a610-7e96-4217-dfc6-c8dc02a957b8"
   },
   "outputs": [
    {
     "data": {
      "text/html": [
       "<div>\n",
       "<style scoped>\n",
       "    .dataframe tbody tr th:only-of-type {\n",
       "        vertical-align: middle;\n",
       "    }\n",
       "\n",
       "    .dataframe tbody tr th {\n",
       "        vertical-align: top;\n",
       "    }\n",
       "\n",
       "    .dataframe thead th {\n",
       "        text-align: right;\n",
       "    }\n",
       "</style>\n",
       "<table border=\"1\" class=\"dataframe\">\n",
       "  <thead>\n",
       "    <tr style=\"text-align: right;\">\n",
       "      <th></th>\n",
       "      <th>annotator_id</th>\n",
       "      <th>bot</th>\n",
       "      <th>generalised</th>\n",
       "      <th>individual</th>\n",
       "      <th>system</th>\n",
       "      <th>explicit</th>\n",
       "      <th>implicit</th>\n",
       "      <th>abuse_level</th>\n",
       "      <th>target_groups</th>\n",
       "    </tr>\n",
       "  </thead>\n",
       "  <tbody>\n",
       "    <tr>\n",
       "      <th>0</th>\n",
       "      <td>2</td>\n",
       "      <td>1</td>\n",
       "      <td>0</td>\n",
       "      <td>0</td>\n",
       "      <td>0</td>\n",
       "      <td>0</td>\n",
       "      <td>0</td>\n",
       "      <td>0</td>\n",
       "      <td>0</td>\n",
       "    </tr>\n",
       "    <tr>\n",
       "      <th>1</th>\n",
       "      <td>7</td>\n",
       "      <td>1</td>\n",
       "      <td>0</td>\n",
       "      <td>0</td>\n",
       "      <td>0</td>\n",
       "      <td>0</td>\n",
       "      <td>0</td>\n",
       "      <td>0</td>\n",
       "      <td>0</td>\n",
       "    </tr>\n",
       "    <tr>\n",
       "      <th>2</th>\n",
       "      <td>5</td>\n",
       "      <td>0</td>\n",
       "      <td>0</td>\n",
       "      <td>0</td>\n",
       "      <td>0</td>\n",
       "      <td>0</td>\n",
       "      <td>0</td>\n",
       "      <td>0</td>\n",
       "      <td>0</td>\n",
       "    </tr>\n",
       "    <tr>\n",
       "      <th>3</th>\n",
       "      <td>5</td>\n",
       "      <td>0</td>\n",
       "      <td>0</td>\n",
       "      <td>0</td>\n",
       "      <td>0</td>\n",
       "      <td>0</td>\n",
       "      <td>0</td>\n",
       "      <td>0</td>\n",
       "      <td>0</td>\n",
       "    </tr>\n",
       "    <tr>\n",
       "      <th>4</th>\n",
       "      <td>3</td>\n",
       "      <td>1</td>\n",
       "      <td>0</td>\n",
       "      <td>0</td>\n",
       "      <td>0</td>\n",
       "      <td>0</td>\n",
       "      <td>0</td>\n",
       "      <td>0</td>\n",
       "      <td>0</td>\n",
       "    </tr>\n",
       "  </tbody>\n",
       "</table>\n",
       "</div>"
      ],
      "text/plain": [
       "   annotator_id  bot  generalised  individual  system  explicit  implicit  \\\n",
       "0             2    1            0           0       0         0         0   \n",
       "1             7    1            0           0       0         0         0   \n",
       "2             5    0            0           0       0         0         0   \n",
       "3             5    0            0           0       0         0         0   \n",
       "4             3    1            0           0       0         0         0   \n",
       "\n",
       "   abuse_level  target_groups  \n",
       "0            0              0  \n",
       "1            0              0  \n",
       "2            0              0  \n",
       "3            0              0  \n",
       "4            0              0  "
      ]
     },
     "execution_count": 4,
     "metadata": {},
     "output_type": "execute_result"
    }
   ],
   "source": [
    "convabuse.head()"
   ]
  },
  {
   "cell_type": "code",
   "execution_count": 5,
   "metadata": {
    "executionInfo": {
     "elapsed": 21,
     "status": "ok",
     "timestamp": 1758696008043,
     "user": {
      "displayName": "Christopher Fornesa",
      "userId": "11885562963716384029"
     },
     "user_tz": 300
    },
    "id": "TZkC0ukoGQOI"
   },
   "outputs": [],
   "source": [
    "convabuse_X = convabuse.drop(\"abuse_level\", axis=1)\n",
    "convabuse_y = convabuse[\"abuse_level\"]\n",
    "convabuse_X_sample = convabuse_sample.drop(\"abuse_level\", axis=1)\n",
    "convabuse_y_sample = convabuse_sample[\"abuse_level\"]"
   ]
  },
  {
   "cell_type": "code",
   "execution_count": 6,
   "metadata": {
    "colab": {
     "base_uri": "https://localhost:8080/",
     "height": 206
    },
    "executionInfo": {
     "elapsed": 125,
     "status": "ok",
     "timestamp": 1758696009954,
     "user": {
      "displayName": "Christopher Fornesa",
      "userId": "11885562963716384029"
     },
     "user_tz": 300
    },
    "id": "lE9HQYXJAFNc",
    "outputId": "291912c0-1097-48b4-9e28-4cd740ff0648"
   },
   "outputs": [
    {
     "data": {
      "text/html": [
       "<div>\n",
       "<style scoped>\n",
       "    .dataframe tbody tr th:only-of-type {\n",
       "        vertical-align: middle;\n",
       "    }\n",
       "\n",
       "    .dataframe tbody tr th {\n",
       "        vertical-align: top;\n",
       "    }\n",
       "\n",
       "    .dataframe thead th {\n",
       "        text-align: right;\n",
       "    }\n",
       "</style>\n",
       "<table border=\"1\" class=\"dataframe\">\n",
       "  <thead>\n",
       "    <tr style=\"text-align: right;\">\n",
       "      <th></th>\n",
       "      <th>label</th>\n",
       "      <th>type</th>\n",
       "      <th>annotator</th>\n",
       "      <th>target_groups</th>\n",
       "      <th>original</th>\n",
       "    </tr>\n",
       "  </thead>\n",
       "  <tbody>\n",
       "    <tr>\n",
       "      <th>0</th>\n",
       "      <td>1.0</td>\n",
       "      <td>-1</td>\n",
       "      <td>4</td>\n",
       "      <td>0</td>\n",
       "      <td>1</td>\n",
       "    </tr>\n",
       "    <tr>\n",
       "      <th>1</th>\n",
       "      <td>1.0</td>\n",
       "      <td>-1</td>\n",
       "      <td>9</td>\n",
       "      <td>1</td>\n",
       "      <td>1</td>\n",
       "    </tr>\n",
       "    <tr>\n",
       "      <th>2</th>\n",
       "      <td>1.0</td>\n",
       "      <td>-1</td>\n",
       "      <td>16</td>\n",
       "      <td>1</td>\n",
       "      <td>0</td>\n",
       "    </tr>\n",
       "    <tr>\n",
       "      <th>3</th>\n",
       "      <td>1.0</td>\n",
       "      <td>0</td>\n",
       "      <td>2</td>\n",
       "      <td>0</td>\n",
       "      <td>1</td>\n",
       "    </tr>\n",
       "    <tr>\n",
       "      <th>4</th>\n",
       "      <td>1.0</td>\n",
       "      <td>-1</td>\n",
       "      <td>15</td>\n",
       "      <td>0</td>\n",
       "      <td>1</td>\n",
       "    </tr>\n",
       "  </tbody>\n",
       "</table>\n",
       "</div>"
      ],
      "text/plain": [
       "   label  type  annotator  target_groups  original\n",
       "0    1.0    -1          4              0         1\n",
       "1    1.0    -1          9              1         1\n",
       "2    1.0    -1         16              1         0\n",
       "3    1.0     0          2              0         1\n",
       "4    1.0    -1         15              0         1"
      ]
     },
     "execution_count": 6,
     "metadata": {},
     "output_type": "execute_result"
    }
   ],
   "source": [
    "dynamically_generated_hate_speech.head()"
   ]
  },
  {
   "cell_type": "code",
   "execution_count": 7,
   "metadata": {
    "executionInfo": {
     "elapsed": 65,
     "status": "ok",
     "timestamp": 1758696011443,
     "user": {
      "displayName": "Christopher Fornesa",
      "userId": "11885562963716384029"
     },
     "user_tz": 300
    },
    "id": "14re2BLNAkXr"
   },
   "outputs": [],
   "source": [
    "dghs_X = dynamically_generated_hate_speech.drop(\"label\", axis=1)\n",
    "dghs_y = dynamically_generated_hate_speech[\"label\"]\n",
    "dghs_X_sample = dghs_sample.drop(\"label\", axis=1)\n",
    "dghs_y_sample = dghs_sample[\"label\"]"
   ]
  },
  {
   "cell_type": "code",
   "execution_count": 8,
   "metadata": {
    "colab": {
     "base_uri": "https://localhost:8080/",
     "height": 206
    },
    "executionInfo": {
     "elapsed": 51,
     "status": "ok",
     "timestamp": 1758696012382,
     "user": {
      "displayName": "Christopher Fornesa",
      "userId": "11885562963716384029"
     },
     "user_tz": 300
    },
    "id": "KMCnA-ZGGbqn",
    "outputId": "03145f61-b27d-4642-cf4a-f01ddda16362"
   },
   "outputs": [
    {
     "data": {
      "text/html": [
       "<div>\n",
       "<style scoped>\n",
       "    .dataframe tbody tr th:only-of-type {\n",
       "        vertical-align: middle;\n",
       "    }\n",
       "\n",
       "    .dataframe tbody tr th {\n",
       "        vertical-align: top;\n",
       "    }\n",
       "\n",
       "    .dataframe thead th {\n",
       "        text-align: right;\n",
       "    }\n",
       "</style>\n",
       "<table border=\"1\" class=\"dataframe\">\n",
       "  <thead>\n",
       "    <tr style=\"text-align: right;\">\n",
       "      <th></th>\n",
       "      <th>Parent tweets</th>\n",
       "      <th>Replies to parents</th>\n",
       "      <th>Avg replies per parent</th>\n",
       "      <th>Parent tweets with replies</th>\n",
       "      <th>Avg replies per parent with replies</th>\n",
       "      <th>Toxic parent tweets</th>\n",
       "      <th>Non-toxic parent tweets</th>\n",
       "      <th>Toxic replies</th>\n",
       "      <th>Non-toxic replies</th>\n",
       "      <th>Toxic replies to non-toxic parents</th>\n",
       "      <th>...</th>\n",
       "      <th>Love</th>\n",
       "      <th>News</th>\n",
       "      <th>Account</th>\n",
       "      <th>Feminist</th>\n",
       "      <th>Official</th>\n",
       "      <th>Follow</th>\n",
       "      <th>Products</th>\n",
       "      <th>Tweets</th>\n",
       "      <th>Womens</th>\n",
       "      <th>Toxicity</th>\n",
       "    </tr>\n",
       "  </thead>\n",
       "  <tbody>\n",
       "    <tr>\n",
       "      <th>0</th>\n",
       "      <td>377.0</td>\n",
       "      <td>696.0</td>\n",
       "      <td>1.846154</td>\n",
       "      <td>102.0</td>\n",
       "      <td>6.823529</td>\n",
       "      <td>0.0</td>\n",
       "      <td>377.0</td>\n",
       "      <td>0.0</td>\n",
       "      <td>696.0</td>\n",
       "      <td>0.0</td>\n",
       "      <td>...</td>\n",
       "      <td>0</td>\n",
       "      <td>0</td>\n",
       "      <td>0</td>\n",
       "      <td>0</td>\n",
       "      <td>0</td>\n",
       "      <td>0</td>\n",
       "      <td>0</td>\n",
       "      <td>0</td>\n",
       "      <td>0</td>\n",
       "      <td>0.0</td>\n",
       "    </tr>\n",
       "    <tr>\n",
       "      <th>1</th>\n",
       "      <td>1171.0</td>\n",
       "      <td>252.0</td>\n",
       "      <td>0.215201</td>\n",
       "      <td>87.0</td>\n",
       "      <td>2.896552</td>\n",
       "      <td>67.0</td>\n",
       "      <td>1104.0</td>\n",
       "      <td>13.0</td>\n",
       "      <td>239.0</td>\n",
       "      <td>11.0</td>\n",
       "      <td>...</td>\n",
       "      <td>0</td>\n",
       "      <td>0</td>\n",
       "      <td>0</td>\n",
       "      <td>0</td>\n",
       "      <td>0</td>\n",
       "      <td>0</td>\n",
       "      <td>0</td>\n",
       "      <td>0</td>\n",
       "      <td>0</td>\n",
       "      <td>80.0</td>\n",
       "    </tr>\n",
       "    <tr>\n",
       "      <th>2</th>\n",
       "      <td>1009.0</td>\n",
       "      <td>1505.0</td>\n",
       "      <td>1.491576</td>\n",
       "      <td>444.0</td>\n",
       "      <td>3.389640</td>\n",
       "      <td>28.0</td>\n",
       "      <td>981.0</td>\n",
       "      <td>45.0</td>\n",
       "      <td>1460.0</td>\n",
       "      <td>38.0</td>\n",
       "      <td>...</td>\n",
       "      <td>0</td>\n",
       "      <td>0</td>\n",
       "      <td>0</td>\n",
       "      <td>0</td>\n",
       "      <td>0</td>\n",
       "      <td>0</td>\n",
       "      <td>0</td>\n",
       "      <td>0</td>\n",
       "      <td>0</td>\n",
       "      <td>73.0</td>\n",
       "    </tr>\n",
       "    <tr>\n",
       "      <th>3</th>\n",
       "      <td>1087.0</td>\n",
       "      <td>1303.0</td>\n",
       "      <td>1.198712</td>\n",
       "      <td>411.0</td>\n",
       "      <td>3.170316</td>\n",
       "      <td>47.0</td>\n",
       "      <td>1040.0</td>\n",
       "      <td>49.0</td>\n",
       "      <td>1254.0</td>\n",
       "      <td>43.0</td>\n",
       "      <td>...</td>\n",
       "      <td>0</td>\n",
       "      <td>0</td>\n",
       "      <td>0</td>\n",
       "      <td>0</td>\n",
       "      <td>0</td>\n",
       "      <td>0</td>\n",
       "      <td>0</td>\n",
       "      <td>0</td>\n",
       "      <td>0</td>\n",
       "      <td>96.0</td>\n",
       "    </tr>\n",
       "    <tr>\n",
       "      <th>4</th>\n",
       "      <td>1185.0</td>\n",
       "      <td>147.0</td>\n",
       "      <td>0.124051</td>\n",
       "      <td>58.0</td>\n",
       "      <td>2.534483</td>\n",
       "      <td>97.0</td>\n",
       "      <td>1088.0</td>\n",
       "      <td>7.0</td>\n",
       "      <td>140.0</td>\n",
       "      <td>7.0</td>\n",
       "      <td>...</td>\n",
       "      <td>0</td>\n",
       "      <td>0</td>\n",
       "      <td>0</td>\n",
       "      <td>0</td>\n",
       "      <td>0</td>\n",
       "      <td>0</td>\n",
       "      <td>0</td>\n",
       "      <td>0</td>\n",
       "      <td>0</td>\n",
       "      <td>104.0</td>\n",
       "    </tr>\n",
       "  </tbody>\n",
       "</table>\n",
       "<p>5 rows × 55 columns</p>\n",
       "</div>"
      ],
      "text/plain": [
       "   Parent tweets  Replies to parents  Avg replies per parent  \\\n",
       "0          377.0               696.0                1.846154   \n",
       "1         1171.0               252.0                0.215201   \n",
       "2         1009.0              1505.0                1.491576   \n",
       "3         1087.0              1303.0                1.198712   \n",
       "4         1185.0               147.0                0.124051   \n",
       "\n",
       "   Parent tweets with replies  Avg replies per parent with replies  \\\n",
       "0                       102.0                             6.823529   \n",
       "1                        87.0                             2.896552   \n",
       "2                       444.0                             3.389640   \n",
       "3                       411.0                             3.170316   \n",
       "4                        58.0                             2.534483   \n",
       "\n",
       "   Toxic parent tweets  Non-toxic parent tweets  Toxic replies  \\\n",
       "0                  0.0                    377.0            0.0   \n",
       "1                 67.0                   1104.0           13.0   \n",
       "2                 28.0                    981.0           45.0   \n",
       "3                 47.0                   1040.0           49.0   \n",
       "4                 97.0                   1088.0            7.0   \n",
       "\n",
       "   Non-toxic replies  Toxic replies to non-toxic parents  ...  Love  News  \\\n",
       "0              696.0                                 0.0  ...     0     0   \n",
       "1              239.0                                11.0  ...     0     0   \n",
       "2             1460.0                                38.0  ...     0     0   \n",
       "3             1254.0                                43.0  ...     0     0   \n",
       "4              140.0                                 7.0  ...     0     0   \n",
       "\n",
       "   Account  Feminist  Official  Follow  Products  Tweets  Womens  Toxicity  \n",
       "0        0         0         0       0         0       0       0       0.0  \n",
       "1        0         0         0       0         0       0       0      80.0  \n",
       "2        0         0         0       0         0       0       0      73.0  \n",
       "3        0         0         0       0         0       0       0      96.0  \n",
       "4        0         0         0       0         0       0       0     104.0  \n",
       "\n",
       "[5 rows x 55 columns]"
      ]
     },
     "execution_count": 8,
     "metadata": {},
     "output_type": "execute_result"
    }
   ],
   "source": [
    "online_abusive_attacks.head()"
   ]
  },
  {
   "cell_type": "code",
   "execution_count": 9,
   "metadata": {
    "executionInfo": {
     "elapsed": 37,
     "status": "ok",
     "timestamp": 1758696013638,
     "user": {
      "displayName": "Christopher Fornesa",
      "userId": "11885562963716384029"
     },
     "user_tz": 300
    },
    "id": "Mx3_qiUKGbNO"
   },
   "outputs": [],
   "source": [
    "online_abusive_attacks_X = online_abusive_attacks.drop(\"Toxicity\", axis=1)\n",
    "online_abusive_attacks_y = online_abusive_attacks[\"Toxicity\"]\n",
    "online_abusive_attacks_X_sample = online_abusive_attacks_sample.drop(\"Toxicity\", axis=1)\n",
    "online_abusive_attacks_y_sample = online_abusive_attacks_sample[\"Toxicity\"]"
   ]
  },
  {
   "cell_type": "code",
   "execution_count": 10,
   "metadata": {
    "colab": {
     "base_uri": "https://localhost:8080/",
     "height": 206
    },
    "executionInfo": {
     "elapsed": 62,
     "status": "ok",
     "timestamp": 1758695959343,
     "user": {
      "displayName": "Christopher Fornesa",
      "userId": "11885562963716384029"
     },
     "user_tz": 300
    },
    "id": "6RCrhbDpAKtI",
    "outputId": "e244164f-1d8b-4a7c-e0e3-8d30c5c7ffd3"
   },
   "outputs": [
    {
     "data": {
      "text/html": [
       "<div>\n",
       "<style scoped>\n",
       "    .dataframe tbody tr th:only-of-type {\n",
       "        vertical-align: middle;\n",
       "    }\n",
       "\n",
       "    .dataframe tbody tr th {\n",
       "        vertical-align: top;\n",
       "    }\n",
       "\n",
       "    .dataframe thead th {\n",
       "        text-align: right;\n",
       "    }\n",
       "</style>\n",
       "<table border=\"1\" class=\"dataframe\">\n",
       "  <thead>\n",
       "    <tr style=\"text-align: right;\">\n",
       "      <th></th>\n",
       "      <th>Trump</th>\n",
       "      <th>Biden</th>\n",
       "      <th>West</th>\n",
       "      <th>HOF</th>\n",
       "    </tr>\n",
       "  </thead>\n",
       "  <tbody>\n",
       "    <tr>\n",
       "      <th>0</th>\n",
       "      <td>-1</td>\n",
       "      <td>0</td>\n",
       "      <td>1</td>\n",
       "      <td>1</td>\n",
       "    </tr>\n",
       "    <tr>\n",
       "      <th>1</th>\n",
       "      <td>1</td>\n",
       "      <td>0</td>\n",
       "      <td>1</td>\n",
       "      <td>1</td>\n",
       "    </tr>\n",
       "    <tr>\n",
       "      <th>2</th>\n",
       "      <td>1</td>\n",
       "      <td>0</td>\n",
       "      <td>1</td>\n",
       "      <td>1</td>\n",
       "    </tr>\n",
       "    <tr>\n",
       "      <th>3</th>\n",
       "      <td>-1</td>\n",
       "      <td>0</td>\n",
       "      <td>1</td>\n",
       "      <td>1</td>\n",
       "    </tr>\n",
       "    <tr>\n",
       "      <th>4</th>\n",
       "      <td>0</td>\n",
       "      <td>-1</td>\n",
       "      <td>1</td>\n",
       "      <td>1</td>\n",
       "    </tr>\n",
       "  </tbody>\n",
       "</table>\n",
       "</div>"
      ],
      "text/plain": [
       "   Trump  Biden  West  HOF\n",
       "0     -1      0     1    1\n",
       "1      1      0     1    1\n",
       "2      1      0     1    1\n",
       "3     -1      0     1    1\n",
       "4      0     -1     1    1"
      ]
     },
     "execution_count": 10,
     "metadata": {},
     "output_type": "execute_result"
    }
   ],
   "source": [
    "us_elections_2020_hate_speech.head()"
   ]
  },
  {
   "cell_type": "code",
   "execution_count": 11,
   "metadata": {
    "executionInfo": {
     "elapsed": 34,
     "status": "ok",
     "timestamp": 1758696016435,
     "user": {
      "displayName": "Christopher Fornesa",
      "userId": "11885562963716384029"
     },
     "user_tz": 300
    },
    "id": "GBckq0eiA0T7"
   },
   "outputs": [],
   "source": [
    "us2020hs_X = us_elections_2020_hate_speech.drop(\"HOF\", axis=1)\n",
    "us2020hs_y = us_elections_2020_hate_speech[\"HOF\"]\n",
    "us2020hs_X_sample = us2020hs_sample.drop(\"HOF\", axis=1)\n",
    "us2020hs_y_sample = us2020hs_sample[\"HOF\"]"
   ]
  },
  {
   "cell_type": "code",
   "execution_count": 12,
   "metadata": {
    "colab": {
     "base_uri": "https://localhost:8080/",
     "height": 226
    },
    "executionInfo": {
     "elapsed": 81,
     "status": "ok",
     "timestamp": 1758696018279,
     "user": {
      "displayName": "Christopher Fornesa",
      "userId": "11885562963716384029"
     },
     "user_tz": 300
    },
    "id": "TlSiP2WEZRFQ",
    "outputId": "0ed5aa03-f60b-4e3f-9866-5a2b92161e00"
   },
   "outputs": [
    {
     "data": {
      "text/html": [
       "<div>\n",
       "<style scoped>\n",
       "    .dataframe tbody tr th:only-of-type {\n",
       "        vertical-align: middle;\n",
       "    }\n",
       "\n",
       "    .dataframe tbody tr th {\n",
       "        vertical-align: top;\n",
       "    }\n",
       "\n",
       "    .dataframe thead th {\n",
       "        text-align: right;\n",
       "    }\n",
       "</style>\n",
       "<table border=\"1\" class=\"dataframe\">\n",
       "  <thead>\n",
       "    <tr style=\"text-align: right;\">\n",
       "      <th></th>\n",
       "      <th>shock_annotator_sentiment</th>\n",
       "      <th>anger_annotator_sentiment</th>\n",
       "      <th>confusion_annotator_sentiment</th>\n",
       "      <th>sadness_annotator_sentiment</th>\n",
       "      <th>indifference_annotator_sentiment</th>\n",
       "      <th>disgust_annotator_sentiment</th>\n",
       "      <th>fear_annotator_sentiment</th>\n",
       "      <th>implicit</th>\n",
       "      <th>explicit</th>\n",
       "      <th>Abusive</th>\n",
       "      <th>Not Abusive</th>\n",
       "      <th>Very Abusive</th>\n",
       "      <th>Very Strongly Abusive</th>\n",
       "      <th>target_groups</th>\n",
       "    </tr>\n",
       "  </thead>\n",
       "  <tbody>\n",
       "    <tr>\n",
       "      <th>0</th>\n",
       "      <td>1</td>\n",
       "      <td>0</td>\n",
       "      <td>0</td>\n",
       "      <td>0</td>\n",
       "      <td>0</td>\n",
       "      <td>0</td>\n",
       "      <td>0</td>\n",
       "      <td>1</td>\n",
       "      <td>0</td>\n",
       "      <td>0</td>\n",
       "      <td>1</td>\n",
       "      <td>1</td>\n",
       "      <td>0</td>\n",
       "      <td>1</td>\n",
       "    </tr>\n",
       "    <tr>\n",
       "      <th>1</th>\n",
       "      <td>0</td>\n",
       "      <td>1</td>\n",
       "      <td>1</td>\n",
       "      <td>1</td>\n",
       "      <td>1</td>\n",
       "      <td>1</td>\n",
       "      <td>0</td>\n",
       "      <td>1</td>\n",
       "      <td>0</td>\n",
       "      <td>1</td>\n",
       "      <td>0</td>\n",
       "      <td>0</td>\n",
       "      <td>0</td>\n",
       "      <td>0</td>\n",
       "    </tr>\n",
       "    <tr>\n",
       "      <th>2</th>\n",
       "      <td>0</td>\n",
       "      <td>0</td>\n",
       "      <td>0</td>\n",
       "      <td>0</td>\n",
       "      <td>1</td>\n",
       "      <td>0</td>\n",
       "      <td>0</td>\n",
       "      <td>1</td>\n",
       "      <td>0</td>\n",
       "      <td>1</td>\n",
       "      <td>0</td>\n",
       "      <td>0</td>\n",
       "      <td>0</td>\n",
       "      <td>0</td>\n",
       "    </tr>\n",
       "    <tr>\n",
       "      <th>3</th>\n",
       "      <td>0</td>\n",
       "      <td>0</td>\n",
       "      <td>0</td>\n",
       "      <td>0</td>\n",
       "      <td>1</td>\n",
       "      <td>0</td>\n",
       "      <td>0</td>\n",
       "      <td>0</td>\n",
       "      <td>1</td>\n",
       "      <td>0</td>\n",
       "      <td>1</td>\n",
       "      <td>0</td>\n",
       "      <td>0</td>\n",
       "      <td>1</td>\n",
       "    </tr>\n",
       "    <tr>\n",
       "      <th>4</th>\n",
       "      <td>0</td>\n",
       "      <td>0</td>\n",
       "      <td>0</td>\n",
       "      <td>0</td>\n",
       "      <td>1</td>\n",
       "      <td>0</td>\n",
       "      <td>0</td>\n",
       "      <td>1</td>\n",
       "      <td>0</td>\n",
       "      <td>0</td>\n",
       "      <td>1</td>\n",
       "      <td>0</td>\n",
       "      <td>0</td>\n",
       "      <td>1</td>\n",
       "    </tr>\n",
       "  </tbody>\n",
       "</table>\n",
       "</div>"
      ],
      "text/plain": [
       "   shock_annotator_sentiment  anger_annotator_sentiment  \\\n",
       "0                          1                          0   \n",
       "1                          0                          1   \n",
       "2                          0                          0   \n",
       "3                          0                          0   \n",
       "4                          0                          0   \n",
       "\n",
       "   confusion_annotator_sentiment  sadness_annotator_sentiment  \\\n",
       "0                              0                            0   \n",
       "1                              1                            1   \n",
       "2                              0                            0   \n",
       "3                              0                            0   \n",
       "4                              0                            0   \n",
       "\n",
       "   indifference_annotator_sentiment  disgust_annotator_sentiment  \\\n",
       "0                                 0                            0   \n",
       "1                                 1                            1   \n",
       "2                                 1                            0   \n",
       "3                                 1                            0   \n",
       "4                                 1                            0   \n",
       "\n",
       "   fear_annotator_sentiment  implicit  explicit  Abusive  Not Abusive  \\\n",
       "0                         0         1         0        0            1   \n",
       "1                         0         1         0        1            0   \n",
       "2                         0         1         0        1            0   \n",
       "3                         0         0         1        0            1   \n",
       "4                         0         1         0        0            1   \n",
       "\n",
       "   Very Abusive  Very Strongly Abusive  target_groups  \n",
       "0             1                      0              1  \n",
       "1             0                      0              0  \n",
       "2             0                      0              0  \n",
       "3             0                      0              1  \n",
       "4             0                      0              1  "
      ]
     },
     "execution_count": 12,
     "metadata": {},
     "output_type": "execute_result"
    }
   ],
   "source": [
    "mlma_hate_speech.head()"
   ]
  },
  {
   "cell_type": "code",
   "execution_count": 13,
   "metadata": {
    "executionInfo": {
     "elapsed": 22,
     "status": "ok",
     "timestamp": 1758696061373,
     "user": {
      "displayName": "Christopher Fornesa",
      "userId": "11885562963716384029"
     },
     "user_tz": 300
    },
    "id": "If7zfR9hZQ39"
   },
   "outputs": [],
   "source": [
    "mlma_hate_speech_X = mlma_hate_speech.drop(\"target_groups\", axis=1)\n",
    "mlma_hate_speech_y = mlma_hate_speech[\"target_groups\"]\n",
    "mlma_hate_speech_X_sample = mlma_hate_speech_sample.drop(\"target_groups\", axis=1)\n",
    "mlma_hate_speech_y_sample = mlma_hate_speech_sample[\"target_groups\"]"
   ]
  },
  {
   "cell_type": "markdown",
   "metadata": {
    "id": "9B4u16U3v05L"
   },
   "source": [
    "# Linear Modeling"
   ]
  },
  {
   "cell_type": "code",
   "execution_count": 14,
   "metadata": {
    "executionInfo": {
     "elapsed": 135,
     "status": "ok",
     "timestamp": 1758696076481,
     "user": {
      "displayName": "Christopher Fornesa",
      "userId": "11885562963716384029"
     },
     "user_tz": 300
    },
    "id": "VeHxe12JDeUn"
   },
   "outputs": [],
   "source": [
    "# Get only the numeric features for each dataset\n",
    "convabuse_X_numeric = convabuse_X.select_dtypes(include=np.number)\n",
    "convabuse_X_numeric_sample = convabuse_X_sample.select_dtypes(include=np.number)\n",
    "dghs_X_numeric = dghs_X.select_dtypes(include=np.number)\n",
    "dghs_X_numeric_sample = dghs_X_sample.select_dtypes(include=np.number)\n",
    "online_abusive_attacks_X_numeric = online_abusive_attacks_X.select_dtypes(include=np.number)\n",
    "online_abusive_attacks_X_numeric_sample = online_abusive_attacks_X_sample.select_dtypes(include=np.number)\n",
    "us2020hs_X_numeric = us2020hs_X.select_dtypes(include=np.number)\n",
    "us2020hs_X_numeric_sample = us2020hs_X_sample.select_dtypes(include=np.number)\n",
    "mlma_hate_speech_X_numeric = mlma_hate_speech_X.select_dtypes(include=np.number)\n",
    "mlma_hate_speech_X_numeric_sample = mlma_hate_speech_X_sample.select_dtypes(include=np.number)"
   ]
  },
  {
   "cell_type": "code",
   "execution_count": 15,
   "metadata": {
    "executionInfo": {
     "elapsed": 48,
     "status": "ok",
     "timestamp": 1758696078458,
     "user": {
      "displayName": "Christopher Fornesa",
      "userId": "11885562963716384029"
     },
     "user_tz": 300
    },
    "id": "fEdA0shJGyWk"
   },
   "outputs": [],
   "source": [
    "# Use standard scaler on the Convabuse X data\n",
    "convabuse_scaler = StandardScaler()\n",
    "convabuse_X_scaled = convabuse_scaler.fit_transform(convabuse_X_numeric)\n",
    "convabuse_X_scaled = pd.DataFrame(convabuse_X_scaled, columns=convabuse_X_numeric.columns)"
   ]
  },
  {
   "cell_type": "code",
   "execution_count": 16,
   "metadata": {},
   "outputs": [],
   "source": [
    "# Use standard scaler on the Convabuse X sample data\n",
    "convabuse_sample_scaler = StandardScaler()\n",
    "convabuse_X_scaled_sample = convabuse_sample_scaler.fit_transform(convabuse_X_numeric_sample)\n",
    "convabuse_X_scaled_sample = pd.DataFrame(convabuse_X_scaled_sample, columns=convabuse_X_numeric_sample.columns)"
   ]
  },
  {
   "cell_type": "code",
   "execution_count": 17,
   "metadata": {
    "executionInfo": {
     "elapsed": 44,
     "status": "ok",
     "timestamp": 1758696079223,
     "user": {
      "displayName": "Christopher Fornesa",
      "userId": "11885562963716384029"
     },
     "user_tz": 300
    },
    "id": "eg-yqVgIuoHZ"
   },
   "outputs": [],
   "source": [
    "# Use standard scaler on the Dynamically Generated Hate Speech X data\n",
    "dghs_scaler = StandardScaler()\n",
    "dghs_X_scaled = dghs_scaler.fit_transform(dghs_X_numeric)\n",
    "dghs_X_scaled = pd.DataFrame(dghs_X_scaled, columns=dghs_X_numeric.columns)"
   ]
  },
  {
   "cell_type": "code",
   "execution_count": 18,
   "metadata": {},
   "outputs": [],
   "source": [
    "# Use standard scaler on the Dynamically Generated Hate Speech X sample data\n",
    "dghs_sample_scaler = StandardScaler()\n",
    "dghs_X_scaled_sample = dghs_sample_scaler.fit_transform(dghs_X_numeric_sample)\n",
    "dghs_X_scaled_sample = pd.DataFrame(dghs_X_scaled_sample, columns=dghs_X_numeric_sample.columns)"
   ]
  },
  {
   "cell_type": "code",
   "execution_count": 19,
   "metadata": {
    "executionInfo": {
     "elapsed": 59,
     "status": "ok",
     "timestamp": 1758696080063,
     "user": {
      "displayName": "Christopher Fornesa",
      "userId": "11885562963716384029"
     },
     "user_tz": 300
    },
    "id": "4qmkVG4iGzsv"
   },
   "outputs": [],
   "source": [
    "# Use standard scaler on the online abusive attacks X data\n",
    "oaa_scaler = StandardScaler()\n",
    "online_abusive_attacks_X_scaled = oaa_scaler.fit_transform(online_abusive_attacks_X_numeric)\n",
    "online_abusive_attacks_X_scaled = pd.DataFrame(online_abusive_attacks_X_scaled, columns=online_abusive_attacks_X_numeric.columns)"
   ]
  },
  {
   "cell_type": "code",
   "execution_count": 20,
   "metadata": {},
   "outputs": [],
   "source": [
    "# Use standard scaler on the online abusive attacks X sample data\n",
    "oaa_sample_scaler = StandardScaler()\n",
    "oaa_X_scaled_sample = oaa_sample_scaler.fit_transform(online_abusive_attacks_X_numeric_sample)\n",
    "oaa_X_scaled_sample = pd.DataFrame(oaa_X_scaled_sample, columns=online_abusive_attacks_X_numeric_sample.columns)"
   ]
  },
  {
   "cell_type": "code",
   "execution_count": 21,
   "metadata": {
    "executionInfo": {
     "elapsed": 49,
     "status": "ok",
     "timestamp": 1758696081620,
     "user": {
      "displayName": "Christopher Fornesa",
      "userId": "11885562963716384029"
     },
     "user_tz": 300
    },
    "id": "JVns2m_5vc9l"
   },
   "outputs": [],
   "source": [
    "# Use standard scaler on the US elections 2020 hate speech X data\n",
    "us2020hs_scaler = StandardScaler()\n",
    "us2020hs_X_scaled = us2020hs_scaler.fit_transform(us2020hs_X_numeric)\n",
    "us2020hs_X_scaled = pd.DataFrame(us2020hs_X_scaled, columns=us2020hs_X_numeric.columns)"
   ]
  },
  {
   "cell_type": "code",
   "execution_count": 22,
   "metadata": {},
   "outputs": [],
   "source": [
    "# Use standard scaler on the US elections 2020 hate speech X sample data\n",
    "us2020hs_sample_scaler = StandardScaler()\n",
    "us2020hs_X_scaled_sample = us2020hs_sample_scaler.fit_transform(us2020hs_X_numeric_sample)\n",
    "us2020hs_X_scaled_sample = pd.DataFrame(us2020hs_X_scaled_sample, columns=us2020hs_X_numeric_sample.columns)"
   ]
  },
  {
   "cell_type": "code",
   "execution_count": 23,
   "metadata": {
    "executionInfo": {
     "elapsed": 62,
     "status": "ok",
     "timestamp": 1758696093854,
     "user": {
      "displayName": "Christopher Fornesa",
      "userId": "11885562963716384029"
     },
     "user_tz": 300
    },
    "id": "NWl5Opa6Zk0Z"
   },
   "outputs": [],
   "source": [
    "# Use standard scaler on the MLMA hate speech X data\n",
    "mlma_hate_speech_scaler = StandardScaler()\n",
    "mlma_hate_speech_X_scaled = mlma_hate_speech_scaler.fit_transform(mlma_hate_speech_X_numeric)\n",
    "mlma_hate_speech_X_scaled = pd.DataFrame(mlma_hate_speech_X_scaled, columns=mlma_hate_speech_X_numeric.columns)"
   ]
  },
  {
   "cell_type": "code",
   "execution_count": 24,
   "metadata": {
    "executionInfo": {
     "elapsed": 29,
     "status": "ok",
     "timestamp": 1758696132364,
     "user": {
      "displayName": "Christopher Fornesa",
      "userId": "11885562963716384029"
     },
     "user_tz": 300
    },
    "id": "pl5uTYaydL_h"
   },
   "outputs": [],
   "source": [
    "# Use standard scaler on the MLMA hate speech X sample data\n",
    "mlma_hate_speech_sample_scaler = StandardScaler()\n",
    "mlma_hate_speech_X_sample_scaled = mlma_hate_speech_sample_scaler.fit_transform(mlma_hate_speech_X_numeric_sample)\n",
    "mlma_hate_speech_X_sample_scaled = pd.DataFrame(mlma_hate_speech_X_sample_scaled, columns=mlma_hate_speech_X_numeric_sample.columns)"
   ]
  },
  {
   "cell_type": "code",
   "execution_count": 25,
   "metadata": {
    "colab": {
     "base_uri": "https://localhost:8080/"
    },
    "executionInfo": {
     "elapsed": 40,
     "status": "ok",
     "timestamp": 1758696134946,
     "user": {
      "displayName": "Christopher Fornesa",
      "userId": "11885562963716384029"
     },
     "user_tz": 300
    },
    "id": "5LiRHThNElcI",
    "outputId": "44a86608-1f90-4e34-a4d5-0b67416395bd"
   },
   "outputs": [
    {
     "name": "stdout",
     "output_type": "stream",
     "text": [
      "Index(['annotator_id', 'bot', 'generalised', 'individual', 'system',\n",
      "       'explicit', 'implicit', 'target_groups'],\n",
      "      dtype='object')\n",
      "Index(['type', 'annotator', 'target_groups', 'original'], dtype='object')\n",
      "Index(['Parent tweets', 'Replies to parents', 'Avg replies per parent',\n",
      "       'Parent tweets with replies', 'Avg replies per parent with replies',\n",
      "       'Toxic parent tweets', 'Non-toxic parent tweets', 'Toxic replies',\n",
      "       'Non-toxic replies', 'Toxic replies to non-toxic parents',\n",
      "       'Non-toxic replies to non-toxic parents',\n",
      "       'Toxic replies to toxic parents', 'Non-toxic replies to toxic parents',\n",
      "       'Followers_count', 'Friends_count', 'Listed_count', 'Favourites_count',\n",
      "       'Verified', 'Statuses_count', 'Retweet_count min', 'Retweet_count avg',\n",
      "       'Retweet_count max', 'Favorite_count min', 'Favorite_count avg',\n",
      "       'Favorite_count max', 'Possibly_sensitive',\n",
      "       'Repliers with min 1 toxic reply', 'High toxicity parents',\n",
      "       'High severe_toxicity parents', 'High identity_attack parents',\n",
      "       'High insult parents', 'High profanity parents', 'High threat parents',\n",
      "       'High other attr parents', 'High toxicity replies',\n",
      "       'High severe_toxicity replies', 'High identity_attack replies',\n",
      "       'High insult replies', 'High profanity replies', 'High threat replies',\n",
      "       'High other attr replies', 'Repliers', '<3 replies parents',\n",
      "       '>=3 replies parents', 'Women', 'Love', 'News', 'Account', 'Feminist',\n",
      "       'Official', 'Follow', 'Products', 'Tweets', 'Womens'],\n",
      "      dtype='object')\n",
      "Index(['Trump', 'Biden', 'West'], dtype='object')\n",
      "Index(['shock_annotator_sentiment', 'anger_annotator_sentiment',\n",
      "       'confusion_annotator_sentiment', 'sadness_annotator_sentiment',\n",
      "       'indifference_annotator_sentiment', 'disgust_annotator_sentiment',\n",
      "       'fear_annotator_sentiment', 'implicit', 'explicit', 'Abusive',\n",
      "       'Not Abusive', 'Very Abusive', 'Very Strongly Abusive'],\n",
      "      dtype='object')\n"
     ]
    }
   ],
   "source": [
    "for columns in [convabuse_X_numeric.columns, dghs_X_numeric.columns, online_abusive_attacks_X_numeric.columns, us2020hs_X_numeric.columns, mlma_hate_speech_X_numeric.columns]:\n",
    "  print(columns)"
   ]
  },
  {
   "cell_type": "code",
   "execution_count": 26,
   "metadata": {
    "executionInfo": {
     "elapsed": 110,
     "status": "ok",
     "timestamp": 1758696181898,
     "user": {
      "displayName": "Christopher Fornesa",
      "userId": "11885562963716384029"
     },
     "user_tz": 300
    },
    "id": "cdjqnEV1_kpR"
   },
   "outputs": [],
   "source": [
    "# Train test split for each dataset\n",
    "convabuse_X_train, convabuse_X_test, convabuse_y_train, convabuse_y_test = train_test_split(convabuse_X_scaled, convabuse_y, test_size=0.2, random_state=42)\n",
    "convabuse_X_train_sample, convabuse_X_test_sample, convabuse_y_train_sample, convabuse_y_test_sample = train_test_split(convabuse_X_scaled_sample, convabuse_y_sample, test_size=0.2, random_state=42)\n",
    "\n",
    "dghs_X_train, dghs_X_test, dghs_y_train, dghs_y_test = train_test_split(dghs_X_scaled, dghs_y, test_size=0.2, random_state=42)\n",
    "dghs_X_train_sample, dghs_X_test_sample, dghs_y_train_sample, dghs_y_test_sample = train_test_split(dghs_X_scaled_sample, dghs_y_sample, test_size=0.2, random_state=42)\n",
    "\n",
    "online_abusive_attacks_X_train, online_abusive_attacks_X_test, online_abusive_attacks_y_train, online_abusive_attacks_y_test = train_test_split(online_abusive_attacks_X_scaled, online_abusive_attacks_y, test_size=0.2, random_state=42)\n",
    "online_abusive_attacks_X_train_sample, online_abusive_attacks_X_test_sample, online_abusive_attacks_y_train_sample, online_abusive_attacks_y_test_sample = train_test_split(oaa_X_scaled_sample, online_abusive_attacks_y_sample, test_size=0.2, random_state=42)\n",
    "\n",
    "us2020hs_X_train, us2020hs_X_test, us2020hs_y_train, us2020hs_y_test = train_test_split(us2020hs_X_scaled, us2020hs_y, test_size=0.2, random_state=42)\n",
    "us2020hs_X_train_sample, us2020hs_X_test_sample, us2020hs_y_train_sample, us2020hs_y_test_sample = train_test_split(us2020hs_X_scaled_sample, us2020hs_y_sample, test_size=0.2, random_state=42)\n",
    "\n",
    "mlma_hate_speech_X_train, mlma_hate_speech_X_test, mlma_hate_speech_y_train, mlma_hate_speech_y_test = train_test_split(mlma_hate_speech_X_scaled, mlma_hate_speech_y, test_size=0.2, random_state=42)\n",
    "mlma_hate_speech_X_train_sample, mlma_hate_speech_X_test_sample, mlma_hate_speech_y_train_sample, mlma_hate_speech_y_test_sample = train_test_split(mlma_hate_speech_X_sample_scaled, mlma_hate_speech_y_sample, test_size=0.2, random_state=42)"
   ]
  },
  {
   "cell_type": "code",
   "execution_count": 27,
   "metadata": {
    "executionInfo": {
     "elapsed": 78,
     "status": "ok",
     "timestamp": 1758696191325,
     "user": {
      "displayName": "Christopher Fornesa",
      "userId": "11885562963716384029"
     },
     "user_tz": 300
    },
    "id": "x5rgjLz_adYU"
   },
   "outputs": [],
   "source": [
    "# Get the length of each dataset\n",
    "convabuse_length = len(convabuse_X_train_sample)\n",
    "dghs_length = len(dghs_X_train_sample)\n",
    "online_abusive_attacks_length = len(online_abusive_attacks_X_train_sample)\n",
    "us2020hs_length = len(us2020hs_X_train_sample)\n",
    "mlma_hate_speech_length = len(mlma_hate_speech_X_train_sample)"
   ]
  },
  {
   "cell_type": "code",
   "execution_count": 28,
   "metadata": {
    "colab": {
     "base_uri": "https://localhost:8080/"
    },
    "executionInfo": {
     "elapsed": 75,
     "status": "ok",
     "timestamp": 1758696193722,
     "user": {
      "displayName": "Christopher Fornesa",
      "userId": "11885562963716384029"
     },
     "user_tz": 300
    },
    "id": "hVmzhoBpaq81",
    "outputId": "852b6a86-175f-4bd1-e52e-23fbb3bb13cf"
   },
   "outputs": [
    {
     "data": {
      "text/plain": [
       "(6036, 13, 61)"
      ]
     },
     "execution_count": 28,
     "metadata": {},
     "output_type": "execute_result"
    }
   ],
   "source": [
    "convabuse_log2 = math.ceil(log2(convabuse_length))\n",
    "convabuse_1_percent = math.ceil(convabuse_length * 0.01)\n",
    "convabuse_length, convabuse_log2, convabuse_1_percent"
   ]
  },
  {
   "cell_type": "code",
   "execution_count": 29,
   "metadata": {
    "colab": {
     "base_uri": "https://localhost:8080/"
    },
    "executionInfo": {
     "elapsed": 81,
     "status": "ok",
     "timestamp": 1758696195010,
     "user": {
      "displayName": "Christopher Fornesa",
      "userId": "11885562963716384029"
     },
     "user_tz": 300
    },
    "id": "cJjJ7ZKJbUL1",
    "outputId": "1aa81431-9a84-4197-e41a-fdaf1f156147"
   },
   "outputs": [
    {
     "data": {
      "text/plain": [
       "(9104, 14, 92)"
      ]
     },
     "execution_count": 29,
     "metadata": {},
     "output_type": "execute_result"
    }
   ],
   "source": [
    "dghs_log2 = math.ceil(log2(dghs_length))\n",
    "dghs_1_percent = math.ceil(dghs_length * 0.01)\n",
    "dghs_length, dghs_log2, dghs_1_percent"
   ]
  },
  {
   "cell_type": "code",
   "execution_count": 30,
   "metadata": {
    "colab": {
     "base_uri": "https://localhost:8080/"
    },
    "executionInfo": {
     "elapsed": 80,
     "status": "ok",
     "timestamp": 1758696196215,
     "user": {
      "displayName": "Christopher Fornesa",
      "userId": "11885562963716384029"
     },
     "user_tz": 300
    },
    "id": "4nE37RuebbbB",
    "outputId": "8d71c539-6038-479b-ef21-f02c236b5774"
   },
   "outputs": [
    {
     "data": {
      "text/plain": [
       "(555, 10, 6)"
      ]
     },
     "execution_count": 30,
     "metadata": {},
     "output_type": "execute_result"
    }
   ],
   "source": [
    "online_abusive_attacks_log2 = math.ceil(log2(online_abusive_attacks_length))\n",
    "online_abusive_attacks_1_percent = math.ceil(online_abusive_attacks_length * 0.01)\n",
    "online_abusive_attacks_length, online_abusive_attacks_log2, online_abusive_attacks_1_percent"
   ]
  },
  {
   "cell_type": "code",
   "execution_count": 31,
   "metadata": {
    "colab": {
     "base_uri": "https://localhost:8080/"
    },
    "executionInfo": {
     "elapsed": 71,
     "status": "ok",
     "timestamp": 1758696197180,
     "user": {
      "displayName": "Christopher Fornesa",
      "userId": "11885562963716384029"
     },
     "user_tz": 300
    },
    "id": "rwNym9JUbdmN",
    "outputId": "f943d318-afef-498a-80bf-eb3db9c908c0"
   },
   "outputs": [
    {
     "data": {
      "text/plain": [
       "(1266, 11, 13)"
      ]
     },
     "execution_count": 31,
     "metadata": {},
     "output_type": "execute_result"
    }
   ],
   "source": [
    "us2020hs_log2 = math.ceil(log2(us2020hs_length))\n",
    "us2020hs_1_percent = math.ceil(us2020hs_length * 0.01)\n",
    "us2020hs_length, us2020hs_log2, us2020hs_1_percent"
   ]
  },
  {
   "cell_type": "code",
   "execution_count": 32,
   "metadata": {
    "colab": {
     "base_uri": "https://localhost:8080/"
    },
    "executionInfo": {
     "elapsed": 90,
     "status": "ok",
     "timestamp": 1758696257786,
     "user": {
      "displayName": "Christopher Fornesa",
      "userId": "11885562963716384029"
     },
     "user_tz": 300
    },
    "id": "odBtJ30XdlQM",
    "outputId": "d712b14d-7a9b-452b-ac1a-a7a3e6314fc6"
   },
   "outputs": [
    {
     "data": {
      "text/plain": [
       "(4398, 13, 44)"
      ]
     },
     "execution_count": 32,
     "metadata": {},
     "output_type": "execute_result"
    }
   ],
   "source": [
    "mlma_hate_speech_log2 = math.ceil(log2(mlma_hate_speech_length))\n",
    "mlma_hate_speech_1_percent = math.ceil(mlma_hate_speech_length * 0.01)\n",
    "mlma_hate_speech_length, mlma_hate_speech_log2, mlma_hate_speech_1_percent"
   ]
  },
  {
   "cell_type": "code",
   "execution_count": 33,
   "metadata": {},
   "outputs": [
    {
     "data": {
      "text/plain": [
       "(20, 30, 1, 4, 14)"
      ]
     },
     "execution_count": 33,
     "metadata": {},
     "output_type": "execute_result"
    }
   ],
   "source": [
    "# Get the length of 1% of each dataset\n",
    "convabuse_1_percent = int((len(convabuse_X_train) * 0.01) / 10)\n",
    "dghs_1_percent = int((len(dghs_X_train) * 0.01) / 10)\n",
    "online_abusive_attacks_1_percent = int((len(online_abusive_attacks_X_train) * 0.01) / 10)\n",
    "us2020hs_1_percent = int((len(us2020hs_X_train) * 0.01) / 10)\n",
    "mlma_hate_speech_1_percent = int((len(mlma_hate_speech_X_train) * 0.01) / 10)\n",
    "convabuse_1_percent, dghs_1_percent, online_abusive_attacks_1_percent, us2020hs_1_percent, mlma_hate_speech_1_percent"
   ]
  },
  {
   "cell_type": "code",
   "execution_count": 34,
   "metadata": {},
   "outputs": [
    {
     "data": {
      "text/plain": [
       "([20, 40, 60, 80, 100, 120, 140, 160, 180, 200],\n",
       " [30, 60, 90, 120, 150, 180, 210, 240, 270, 300],\n",
       " [1, 2, 3, 4, 5, 6, 7, 8, 9, 10],\n",
       " [4, 8, 12, 16, 20, 24, 28, 32, 36, 40],\n",
       " [14, 28, 42, 56, 70, 84, 98, 112, 126, 140])"
      ]
     },
     "execution_count": 34,
     "metadata": {},
     "output_type": "execute_result"
    }
   ],
   "source": [
    "# Create ranges based on 1% of each dataset length times 10, starting from 1% to 11%\n",
    "convabuse_k_range = list(range(convabuse_1_percent, convabuse_1_percent * 11, convabuse_1_percent))\n",
    "dghs_k_range = list(range(dghs_1_percent, dghs_1_percent * 11, dghs_1_percent))\n",
    "online_abusive_attacks_k_range = list(range(online_abusive_attacks_1_percent, online_abusive_attacks_1_percent * 11, online_abusive_attacks_1_percent))\n",
    "us2020hs_k_range = list(range(us2020hs_1_percent, us2020hs_1_percent * 11, us2020hs_1_percent))\n",
    "mlma_hate_speech_k_range = list(range(mlma_hate_speech_1_percent, mlma_hate_speech_1_percent * 11, mlma_hate_speech_1_percent))\n",
    "convabuse_k_range, dghs_k_range, online_abusive_attacks_k_range, us2020hs_k_range, mlma_hate_speech_k_range"
   ]
  },
  {
   "cell_type": "code",
   "execution_count": 35,
   "metadata": {
    "executionInfo": {
     "elapsed": 38,
     "status": "ok",
     "timestamp": 1758696272020,
     "user": {
      "displayName": "Christopher Fornesa",
      "userId": "11885562963716384029"
     },
     "user_tz": 300
    },
    "id": "nGRzuO701GSj"
   },
   "outputs": [],
   "source": [
    "knn_regression_results_list = []"
   ]
  },
  {
   "cell_type": "code",
   "execution_count": 36,
   "metadata": {
    "executionInfo": {
     "elapsed": 15,
     "status": "ok",
     "timestamp": 1758696272736,
     "user": {
      "displayName": "Christopher Fornesa",
      "userId": "11885562963716384029"
     },
     "user_tz": 300
    },
    "id": "ybv_CVjb6IO6"
   },
   "outputs": [],
   "source": [
    "knn_classification_results_list = []"
   ]
  },
  {
   "cell_type": "markdown",
   "metadata": {
    "id": "uuljl5kAOIed"
   },
   "source": [
    "## Convabuse Decision Tree"
   ]
  },
  {
   "cell_type": "code",
   "execution_count": 37,
   "metadata": {
    "colab": {
     "base_uri": "https://localhost:8080/",
     "height": 272
    },
    "executionInfo": {
     "elapsed": 100,
     "status": "ok",
     "timestamp": 1758696277376,
     "user": {
      "displayName": "Christopher Fornesa",
      "userId": "11885562963716384029"
     },
     "user_tz": 300
    },
    "id": "0Ymtd8iRRL2X",
    "outputId": "e8444bdb-840a-4940-8b9e-d4142ee9875d"
   },
   "outputs": [
    {
     "data": {
      "text/plain": [
       "abuse_level\n",
       "1    1039\n",
       "0    1021\n",
       "4    1019\n",
       "2     977\n",
       "3     975\n",
       "Name: count, dtype: int64"
      ]
     },
     "execution_count": 37,
     "metadata": {},
     "output_type": "execute_result"
    }
   ],
   "source": [
    "convabuse_y_test.value_counts()"
   ]
  },
  {
   "cell_type": "code",
   "execution_count": 38,
   "metadata": {
    "executionInfo": {
     "elapsed": 57,
     "status": "ok",
     "timestamp": 1758696278969,
     "user": {
      "displayName": "Christopher Fornesa",
      "userId": "11885562963716384029"
     },
     "user_tz": 300
    },
    "id": "dvw-csO-N0XB"
   },
   "outputs": [],
   "source": [
    "# Instantiate the KNN classifier for convabuse\n",
    "convabuse_knn_classifier = KNeighborsClassifier()\n",
    "\n",
    "# Create the classifier scorer\n",
    "convabuse_class_scorer = make_scorer(accuracy_score)\n",
    "\n",
    "# KNN Classifier pipeline for Convabuse dataset\n",
    "convabuse_knn_pipeline = Pipeline([\n",
    "    ('knn_classifier', convabuse_knn_classifier)\n",
    "])\n",
    "\n",
    "# Set the parameters for Randomized Search for KNN Classifier on the Convabuse dataset\n",
    "convabuse_knn_param_grid = {\n",
    "    'knn_classifier__n_neighbors': convabuse_k_range,\n",
    "    'knn_classifier__weights': ['uniform', 'distance'],\n",
    "    'knn_classifier__metric': ['euclidean', 'manhattan', 'chebyshev', 'minkowski']\n",
    "}\n",
    "\n",
    "# Grid Search for KNN Classifier on the Convabuse dataset\n",
    "convabuse_knn_grid_search = GridSearchCV(convabuse_knn_pipeline,\n",
    "                                          param_grid=convabuse_knn_param_grid,\n",
    "                                          cv=2,\n",
    "                                          scoring=convabuse_class_scorer,\n",
    "                                          verbose=1,\n",
    "                                          n_jobs=-1, \n",
    "                                          error_score='raise')"
   ]
  },
  {
   "cell_type": "code",
   "execution_count": 39,
   "metadata": {
    "colab": {
     "base_uri": "https://localhost:8080/"
    },
    "executionInfo": {
     "elapsed": 2846,
     "status": "ok",
     "timestamp": 1758696282995,
     "user": {
      "displayName": "Christopher Fornesa",
      "userId": "11885562963716384029"
     },
     "user_tz": 300
    },
    "id": "aBX9qAEdN0XE",
    "outputId": "984a54b7-67a9-483a-a9a4-674c5c78ab61"
   },
   "outputs": [
    {
     "name": "stdout",
     "output_type": "stream",
     "text": [
      "Fitting 2 folds for each of 80 candidates, totalling 160 fits\n"
     ]
    }
   ],
   "source": [
    "start_time = time.time()\n",
    "convabuse_class_scorer = make_scorer(accuracy_score, greater_is_better=True)\n",
    "convabuse_knn_grid_search.fit(convabuse_X_train_sample, convabuse_y_train_sample)\n",
    "end_time = time.time()"
   ]
  },
  {
   "cell_type": "code",
   "execution_count": 40,
   "metadata": {},
   "outputs": [
    {
     "name": "stdout",
     "output_type": "stream",
     "text": [
      "Best parameters for Convabuse KNN Classifier: {'knn_classifier__metric': 'euclidean', 'knn_classifier__n_neighbors': 40, 'knn_classifier__weights': 'distance'}\n",
      "Best score for Convabuse KNN Classifier: 0.6163021868787276\n",
      "Time taken for Convabuse KNN Classifier Randomized Search: 3.7651190757751465\n"
     ]
    }
   ],
   "source": [
    "print(\"Best parameters for Convabuse KNN Classifier:\", convabuse_knn_grid_search.best_params_)\n",
    "print(\"Best score for Convabuse KNN Classifier:\", convabuse_knn_grid_search.best_score_)\n",
    "print(\"Time taken for Convabuse KNN Classifier Randomized Search:\", end_time - start_time)"
   ]
  },
  {
   "cell_type": "code",
   "execution_count": 41,
   "metadata": {},
   "outputs": [],
   "source": [
    "# Pickle the convabuse_knn_grid_search\n",
    "with open(f'{pickle_path}convabuse_knn_grid_search.pkl', 'wb') as f:\n",
    "    pickle.dump(convabuse_knn_grid_search, f)"
   ]
  },
  {
   "cell_type": "code",
   "execution_count": 42,
   "metadata": {},
   "outputs": [],
   "source": [
    "# Import the pickled convabuse_knn_grid_search\n",
    "with open(f'{pickle_path}convabuse_knn_grid_search.pkl', 'rb') as f:\n",
    "    convabuse_knn_grid_search = pickle.load(f)"
   ]
  },
  {
   "cell_type": "code",
   "execution_count": 43,
   "metadata": {
    "colab": {
     "base_uri": "https://localhost:8080/",
     "height": 564
    },
    "executionInfo": {
     "elapsed": 411,
     "status": "ok",
     "timestamp": 1758696283408,
     "user": {
      "displayName": "Christopher Fornesa",
      "userId": "11885562963716384029"
     },
     "user_tz": 300
    },
    "id": "HBD2Z1ZuJkZj",
    "outputId": "13d2c7b2-c6c5-49af-e61c-2b2ccc518b07"
   },
   "outputs": [
    {
     "data": {
      "image/png": "[encoded data removed]",
      "text/plain": [
       "<Figure size 1000x600 with 1 Axes>"
      ]
     },
     "metadata": {},
     "output_type": "display_data"
    }
   ],
   "source": [
    "# Plot the accuracy scores for the KNN Classifier on the Convabuse dataset for all iterations\n",
    "plt.figure(figsize=(10, 6))\n",
    "plt.plot(convabuse_knn_grid_search.cv_results_['mean_test_score'], marker='o', label='Mean Test Score')\n",
    "\n",
    "# Plot the best score as a red x\n",
    "convabuse_knn_best_score_index = np.argmax(convabuse_knn_grid_search.cv_results_['mean_test_score'])\n",
    "plt.scatter(convabuse_knn_best_score_index, convabuse_knn_grid_search.cv_results_['mean_test_score'][convabuse_knn_best_score_index], color='red', s=100, label='Best Score')\n",
    "\n",
    "plt.title('KNN Classifier - Convabuse Dataset')\n",
    "plt.xlabel('Iteration')\n",
    "plt.ylabel('Mean Test Score')\n",
    "plt.xticks(range(len(convabuse_knn_grid_search.cv_results_['mean_test_score'])),\n",
    "           [f\"Iter {i+1}\" for i in range(len(convabuse_knn_grid_search.cv_results_['mean_test_score']))])\n",
    "plt.legend()\n",
    "plt.grid()\n",
    "plt.show()"
   ]
  },
  {
   "cell_type": "code",
   "execution_count": 44,
   "metadata": {
    "executionInfo": {
     "elapsed": 56,
     "status": "ok",
     "timestamp": 1758696283485,
     "user": {
      "displayName": "Christopher Fornesa",
      "userId": "11885562963716384029"
     },
     "user_tz": 300
    },
    "id": "n7fDeICjJ-km"
   },
   "outputs": [],
   "source": [
    "# Predict on the test set\n",
    "convabuse_knn_y_pred = convabuse_knn_grid_search.predict(convabuse_X_test)"
   ]
  },
  {
   "cell_type": "code",
   "execution_count": 45,
   "metadata": {
    "colab": {
     "base_uri": "https://localhost:8080/"
    },
    "executionInfo": {
     "elapsed": 20,
     "status": "ok",
     "timestamp": 1758696284390,
     "user": {
      "displayName": "Christopher Fornesa",
      "userId": "11885562963716384029"
     },
     "user_tz": 300
    },
    "id": "QVeBxw2bKL-z",
    "outputId": "1f81fdf8-9926-4e7c-c379-641dc314619d"
   },
   "outputs": [
    {
     "name": "stdout",
     "output_type": "stream",
     "text": [
      "Convabuse KNN Classifier:\n",
      "Best Parameters: {'knn_classifier__metric': 'euclidean', 'knn_classifier__n_neighbors': 40, 'knn_classifier__weights': 'distance'}\n",
      "Accuracy: 0.6223\n",
      "F1 Score: 0.6207\n"
     ]
    }
   ],
   "source": [
    "# Evaluate the model\n",
    "convabuse_knn_accuracy = accuracy_score(convabuse_y_test, convabuse_knn_y_pred)\n",
    "convabuse_knn_f1 = f1_score(convabuse_y_test, convabuse_knn_y_pred, average='weighted')\n",
    "\n",
    "print(\"Convabuse KNN Classifier:\")\n",
    "print(f\"Best Parameters: {convabuse_knn_grid_search.best_params_}\")\n",
    "print(f\"Accuracy: {convabuse_knn_accuracy:.4f}\")\n",
    "print(f\"F1 Score: {convabuse_knn_f1:.4f}\")"
   ]
  },
  {
   "cell_type": "code",
   "execution_count": 46,
   "metadata": {
    "colab": {
     "base_uri": "https://localhost:8080/",
     "height": 564
    },
    "executionInfo": {
     "elapsed": 324,
     "status": "ok",
     "timestamp": 1758696285694,
     "user": {
      "displayName": "Christopher Fornesa",
      "userId": "11885562963716384029"
     },
     "user_tz": 300
    },
    "id": "2uqIfDFAKg9h",
    "outputId": "dc3076bd-72c1-4408-8b09-934d83cb9d4a"
   },
   "outputs": [
    {
     "data": {
      "image/png": "[encoded data removed]",
      "text/plain": [
       "<Figure size 1000x600 with 2 Axes>"
      ]
     },
     "metadata": {},
     "output_type": "display_data"
    }
   ],
   "source": [
    "# Plot the confusion matrix using seaborn\n",
    "plt.figure(figsize=(10, 6))\n",
    "sns.heatmap(pd.crosstab(convabuse_y_test, convabuse_knn_y_pred, rownames=['Actual'], colnames=['Predicted']), annot=True, fmt='d', cmap='Blues')\n",
    "plt.title('Confusion Matrix - Convabuse KNN Classifier')\n",
    "plt.xlabel('Predicted')\n",
    "plt.ylabel('Actual')\n",
    "plt.show()"
   ]
  },
  {
   "cell_type": "code",
   "execution_count": 47,
   "metadata": {
    "colab": {
     "base_uri": "https://localhost:8080/"
    },
    "executionInfo": {
     "elapsed": 48,
     "status": "ok",
     "timestamp": 1758696287023,
     "user": {
      "displayName": "Christopher Fornesa",
      "userId": "11885562963716384029"
     },
     "user_tz": 300
    },
    "id": "fDftHes5K4B2",
    "outputId": "97958bb7-4ecc-4539-8622-2ffcdb5fda3a"
   },
   "outputs": [
    {
     "name": "stdout",
     "output_type": "stream",
     "text": [
      "Classification Report for Convabuse KNN Classifier:\n",
      "              precision    recall  f1-score   support\n",
      "\n",
      "           0       0.71      0.60      0.65      1021\n",
      "           1       0.65      0.74      0.69      1039\n",
      "           2       0.67      0.53      0.59       977\n",
      "           3       0.52      0.52      0.52       975\n",
      "           4       0.58      0.71      0.64      1019\n",
      "\n",
      "    accuracy                           0.62      5031\n",
      "   macro avg       0.63      0.62      0.62      5031\n",
      "weighted avg       0.63      0.62      0.62      5031\n",
      "\n"
     ]
    }
   ],
   "source": [
    "# Generate a classification report for the KNN Classifier on the Convabuse dataset\n",
    "convabuse_knn_report = classification_report(convabuse_y_test, convabuse_knn_y_pred)\n",
    "print(\"Classification Report for Convabuse KNN Classifier:\")\n",
    "print(convabuse_knn_report)"
   ]
  },
  {
   "cell_type": "code",
   "execution_count": 48,
   "metadata": {},
   "outputs": [
    {
     "data": {
      "text/plain": [
       "{'annotator_id': np.float64(0.1456569270522759),\n",
       " 'bot': np.float64(0.034128403895845746),\n",
       " 'generalised': np.float64(0.0),\n",
       " 'individual': np.float64(0.0),\n",
       " 'system': np.float64(0.19149274498111707),\n",
       " 'explicit': np.float64(0.006976744186046491),\n",
       " 'implicit': np.float64(0.09793281653746769),\n",
       " 'target_groups': np.float64(0.029735639037964612)}"
      ]
     },
     "execution_count": 48,
     "metadata": {},
     "output_type": "execute_result"
    }
   ],
   "source": [
    "# Get permutation importance for the Convabuse KNN Classifier\n",
    "convabuse_knn_result = permutation_importance(convabuse_knn_grid_search, convabuse_X_test, convabuse_y_test, n_repeats=10, random_state=42, n_jobs=-1)\n",
    "\n",
    "# Analyze using feature importances\n",
    "convabuse_knn_feature_importances = np.sort(convabuse_knn_result.importances_mean)[::-1]\n",
    "convabuse_knn_feature_importances_dict = {}\n",
    "for i, col in enumerate(convabuse_X_test.columns):\n",
    "    convabuse_knn_feature_importances_dict[col] = convabuse_knn_result.importances_mean[i]\n",
    "\n",
    "convabuse_knn_feature_importances_dict"
   ]
  },
  {
   "cell_type": "code",
   "execution_count": 49,
   "metadata": {
    "executionInfo": {
     "elapsed": 28,
     "status": "ok",
     "timestamp": 1758696288485,
     "user": {
      "displayName": "Christopher Fornesa",
      "userId": "11885562963716384029"
     },
     "user_tz": 300
    },
    "id": "hSZ9HcYqOW4P"
   },
   "outputs": [],
   "source": [
    "# Append details to the results list\n",
    "knn_classification_results_list.append((\n",
    "    \"K-Nearest Neighbors\",\n",
    "    \"Convabuse\",\n",
    "    \"NA\",\n",
    "    \"NA\",\n",
    "    convabuse_knn_accuracy,\n",
    "    convabuse_knn_f1,\n",
    "    0.0,\n",
    "    convabuse_knn_grid_search.best_params_, \n",
    "    convabuse_knn_feature_importances_dict\n",
    "))"
   ]
  },
  {
   "cell_type": "markdown",
   "metadata": {
    "id": "GpmF5j71NsQL"
   },
   "source": [
    "## Dynamically Generated Hate Speech Decision Tree"
   ]
  },
  {
   "cell_type": "code",
   "execution_count": 50,
   "metadata": {
    "colab": {
     "base_uri": "https://localhost:8080/",
     "height": 178
    },
    "executionInfo": {
     "elapsed": 61,
     "status": "ok",
     "timestamp": 1758696291672,
     "user": {
      "displayName": "Christopher Fornesa",
      "userId": "11885562963716384029"
     },
     "user_tz": 300
    },
    "id": "yDEDqnAbRXfQ",
    "outputId": "9bba2958-8ba0-4e83-fed4-1ce06f04c0b2"
   },
   "outputs": [
    {
     "data": {
      "text/plain": [
       "label\n",
       "1.0    3800\n",
       "0.0    3788\n",
       "Name: count, dtype: int64"
      ]
     },
     "execution_count": 50,
     "metadata": {},
     "output_type": "execute_result"
    }
   ],
   "source": [
    "dghs_y_test.value_counts()"
   ]
  },
  {
   "cell_type": "code",
   "execution_count": 51,
   "metadata": {
    "executionInfo": {
     "elapsed": 38,
     "status": "ok",
     "timestamp": 1758696292685,
     "user": {
      "displayName": "Christopher Fornesa",
      "userId": "11885562963716384029"
     },
     "user_tz": 300
    },
    "id": "13c-xuZp356u"
   },
   "outputs": [],
   "source": [
    "# Instantiate the KNN classifier for the DGHS dataset\n",
    "dghs_knn_classifier = KNeighborsClassifier()\n",
    "\n",
    "# Create the classifier scorer\n",
    "dghs_class_scorer = make_scorer(accuracy_score)\n",
    "\n",
    "# KNN Classifier pipeline for DGHS dataset\n",
    "dghs_knn_pipeline = Pipeline([\n",
    "    ('knn_classifier', dghs_knn_classifier)\n",
    "])\n",
    "\n",
    "# Set the parameters for Randomized Search for KNN Classifier on the DGHS dataset\n",
    "dghs_knn_param_grid = {\n",
    "    'knn_classifier__n_neighbors': dghs_k_range,\n",
    "    'knn_classifier__weights': ['uniform', 'distance'],\n",
    "    'knn_classifier__metric': ['euclidean', 'manhattan', 'chebyshev', 'minkowski']\n",
    "}\n",
    "\n",
    "# Grid Search for KNN Classifier on the DGHS dataset\n",
    "dghs_knn_grid_search = GridSearchCV(dghs_knn_pipeline,\n",
    "                                   param_grid=dghs_knn_param_grid,\n",
    "                                   cv=5,\n",
    "                                   scoring=dghs_class_scorer,\n",
    "                                   verbose=1,\n",
    "                                   n_jobs=-1, \n",
    "                                   error_score='raise')"
   ]
  },
  {
   "cell_type": "code",
   "execution_count": 52,
   "metadata": {},
   "outputs": [
    {
     "name": "stdout",
     "output_type": "stream",
     "text": [
      "Fitting 5 folds for each of 80 candidates, totalling 400 fits\n"
     ]
    }
   ],
   "source": [
    "start_time = time.time()\n",
    "dghs_class_scorer = make_scorer(accuracy_score, greater_is_better=True)\n",
    "dghs_knn_grid_search.fit(dghs_X_train_sample, dghs_y_train_sample)\n",
    "end_time = time.time()"
   ]
  },
  {
   "cell_type": "code",
   "execution_count": 53,
   "metadata": {},
   "outputs": [
    {
     "name": "stdout",
     "output_type": "stream",
     "text": [
      "Best parameters for Dynamically Generated Hate Speech KNN Classifier: {'knn_classifier__metric': 'euclidean', 'knn_classifier__n_neighbors': 30, 'knn_classifier__weights': 'uniform'}\n",
      "Best score for Dynamically Generated Hate Speech KNN Classifier: 0.8483077164461019\n",
      "Time taken for Dynamically Generated Hate Speech KNN Classifier Randomized Search: 3.499114513397217\n"
     ]
    }
   ],
   "source": [
    "print(\"Best parameters for Dynamically Generated Hate Speech KNN Classifier:\", dghs_knn_grid_search.best_params_)\n",
    "print(\"Best score for Dynamically Generated Hate Speech KNN Classifier:\", dghs_knn_grid_search.best_score_)\n",
    "print(\"Time taken for Dynamically Generated Hate Speech KNN Classifier Randomized Search:\", end_time - start_time)"
   ]
  },
  {
   "cell_type": "code",
   "execution_count": 54,
   "metadata": {},
   "outputs": [],
   "source": [
    "# Pickle the dghs_knn_grid_search\n",
    "with open(f'{pickle_path}dghs_knn_grid_search.pkl', 'wb') as f:\n",
    "    pickle.dump(dghs_knn_grid_search, f)"
   ]
  },
  {
   "cell_type": "code",
   "execution_count": 55,
   "metadata": {},
   "outputs": [],
   "source": [
    "# Import the pickled dghs_knn_grid_search\n",
    "with open(f'{pickle_path}dghs_knn_grid_search.pkl', 'rb') as f:\n",
    "    dghs_knn_grid_search = pickle.load(f)"
   ]
  },
  {
   "cell_type": "code",
   "execution_count": 56,
   "metadata": {},
   "outputs": [
    {
     "data": {
      "image/png": "[encoded data removed]",
      "text/plain": [
       "<Figure size 1000x600 with 1 Axes>"
      ]
     },
     "metadata": {},
     "output_type": "display_data"
    }
   ],
   "source": [
    "# Plot the accuracy scores for the KNN Classifier on the DGHS dataset for all iterations\n",
    "plt.figure(figsize=(10, 6))\n",
    "plt.plot(dghs_knn_grid_search.cv_results_['mean_test_score'], marker='o', label='Mean Test Score')\n",
    "\n",
    "# Plot the best score as a red x\n",
    "dghs_knn_best_score_index = np.argmax(dghs_knn_grid_search.cv_results_['mean_test_score'])\n",
    "plt.scatter(dghs_knn_best_score_index, dghs_knn_grid_search.cv_results_['mean_test_score'][dghs_knn_best_score_index], color='red', s=100, label='Best Score')\n",
    "\n",
    "plt.title('KNN Classifier Mean Test Score for Dynamically Generated Hate Speech Dataset')\n",
    "plt.xlabel('Hyperparameter Iteration')\n",
    "plt.ylabel('Mean Test Score')\n",
    "plt.legend()\n",
    "plt.grid()\n",
    "plt.show()"
   ]
  },
  {
   "cell_type": "code",
   "execution_count": 57,
   "metadata": {},
   "outputs": [],
   "source": [
    "# Predict on the test set\n",
    "dghs_knn_y_pred = dghs_knn_grid_search.predict(dghs_X_test)"
   ]
  },
  {
   "cell_type": "code",
   "execution_count": 58,
   "metadata": {},
   "outputs": [
    {
     "name": "stdout",
     "output_type": "stream",
     "text": [
      "Dynamically Generated Hate Speech KNN Classifier:\n",
      "Best Parameters: {'knn_classifier__metric': 'euclidean', 'knn_classifier__n_neighbors': 30, 'knn_classifier__weights': 'uniform'}\n",
      "Accuracy: 0.8524\n",
      "F1 Score: 0.8513\n"
     ]
    }
   ],
   "source": [
    "# Evaluate the model\n",
    "dghs_knn_accuracy = accuracy_score(dghs_y_test, dghs_knn_y_pred)\n",
    "dghs_knn_f1 = f1_score(dghs_y_test, dghs_knn_y_pred, average='weighted')\n",
    "print(\"Dynamically Generated Hate Speech KNN Classifier:\")\n",
    "print(f\"Best Parameters: {dghs_knn_grid_search.best_params_}\")\n",
    "print(f\"Accuracy: {dghs_knn_accuracy:.4f}\")\n",
    "print(f\"F1 Score: {dghs_knn_f1:.4f}\")"
   ]
  },
  {
   "cell_type": "code",
   "execution_count": 59,
   "metadata": {},
   "outputs": [
    {
     "data": {
      "image/png": "[encoded data removed]",
      "text/plain": [
       "<Figure size 1000x600 with 2 Axes>"
      ]
     },
     "metadata": {},
     "output_type": "display_data"
    }
   ],
   "source": [
    "# Plot the confusion matrix using seaborn\n",
    "plt.figure(figsize=(10, 6))\n",
    "sns.heatmap(pd.crosstab(dghs_y_test, dghs_knn_y_pred, rownames=['Actual'], colnames=['Predicted']), annot=True, fmt='d', cmap='Blues')\n",
    "plt.title('Confusion Matrix - Dynamically Generated Hate Speech KNN Classifier')\n",
    "plt.xlabel('Predicted')\n",
    "plt.ylabel('Actual')\n",
    "plt.show()"
   ]
  },
  {
   "cell_type": "code",
   "execution_count": 60,
   "metadata": {},
   "outputs": [
    {
     "name": "stdout",
     "output_type": "stream",
     "text": [
      "Classification Report for Dynamically Generated Hate Speech KNN Classifier:\n",
      "              precision    recall  f1-score   support\n",
      "\n",
      "         0.0       0.80      0.94      0.86      3788\n",
      "         1.0       0.93      0.77      0.84      3800\n",
      "\n",
      "    accuracy                           0.85      7588\n",
      "   macro avg       0.86      0.85      0.85      7588\n",
      "weighted avg       0.86      0.85      0.85      7588\n",
      "\n"
     ]
    }
   ],
   "source": [
    "# Generate a classification report for the KNN Classifier on the DGHS dataset\n",
    "dghs_knn_report = classification_report(dghs_y_test, dghs_knn_y_pred)\n",
    "print(\"Classification Report for Dynamically Generated Hate Speech KNN Classifier:\")\n",
    "print(dghs_knn_report)"
   ]
  },
  {
   "cell_type": "code",
   "execution_count": 61,
   "metadata": {},
   "outputs": [
    {
     "data": {
      "text/plain": [
       "{'type': np.float64(0.1886136004217185),\n",
       " 'annotator': np.float64(0.02679230363732208),\n",
       " 'target_groups': np.float64(0.08191881918819187),\n",
       " 'original': np.float64(0.013099630996309952)}"
      ]
     },
     "execution_count": 61,
     "metadata": {},
     "output_type": "execute_result"
    }
   ],
   "source": [
    "# Get permutation importance for the DGHS KNN Classifier\n",
    "dghs_knn_result = permutation_importance(dghs_knn_grid_search, dghs_X_test, dghs_y_test, n_repeats=10, random_state=42, n_jobs=-1)\n",
    "\n",
    "# Analyze using feature importances\n",
    "dghs_knn_feature_importances = np.sort(dghs_knn_result.importances_mean)[::-1]\n",
    "dghs_knn_feature_importances_dict = {}\n",
    "for i, col in enumerate(dghs_X_test.columns):\n",
    "    dghs_knn_feature_importances_dict[col] = dghs_knn_result.importances_mean[i]\n",
    "dghs_knn_feature_importances_dict"
   ]
  },
  {
   "cell_type": "code",
   "execution_count": 62,
   "metadata": {},
   "outputs": [],
   "source": [
    "# Append details to the results list\n",
    "knn_classification_results_list.append((\n",
    "    \"K-Nearest Neighbors\",\n",
    "    \"Dynamically Generated Hate Speech\",\n",
    "    \"NA\",\n",
    "    \"NA\",\n",
    "    dghs_knn_accuracy,\n",
    "    dghs_knn_f1,\n",
    "    0.0,\n",
    "    dghs_knn_grid_search.best_params_, \n",
    "    dghs_knn_feature_importances_dict\n",
    "))"
   ]
  },
  {
   "cell_type": "markdown",
   "metadata": {
    "id": "9u39wuV3N6zV"
   },
   "source": []
  },
  {
   "cell_type": "code",
   "execution_count": 63,
   "metadata": {
    "colab": {
     "base_uri": "https://localhost:8080/",
     "height": 1000
    },
    "executionInfo": {
     "elapsed": 61,
     "status": "ok",
     "timestamp": 1758696310317,
     "user": {
      "displayName": "Christopher Fornesa",
      "userId": "11885562963716384029"
     },
     "user_tz": 300
    },
    "id": "hVNT_iI1Rfz-",
    "outputId": "5e00b1e3-9d3c-420a-fa46-847e56c1a163"
   },
   "outputs": [
    {
     "data": {
      "text/plain": [
       "Toxicity\n",
       "0.0      221\n",
       "1.0       36\n",
       "2.0       18\n",
       "5.0       14\n",
       "3.0       13\n",
       "        ... \n",
       "256.0      1\n",
       "83.0       1\n",
       "18.0       1\n",
       "119.0      1\n",
       "88.0       1\n",
       "Name: count, Length: 97, dtype: int64"
      ]
     },
     "execution_count": 63,
     "metadata": {},
     "output_type": "execute_result"
    }
   ],
   "source": [
    "online_abusive_attacks_y_test.value_counts()"
   ]
  },
  {
   "cell_type": "code",
   "execution_count": 64,
   "metadata": {
    "executionInfo": {
     "elapsed": 39,
     "status": "ok",
     "timestamp": 1758696312761,
     "user": {
      "displayName": "Christopher Fornesa",
      "userId": "11885562963716384029"
     },
     "user_tz": 300
    },
    "id": "kfKD09a9N7YA"
   },
   "outputs": [],
   "source": [
    "# Instantiate the KNN regressor for the Online Abusive Attacks dataset\n",
    "oaa_knn_regressor = KNeighborsRegressor()\n",
    "\n",
    "oaa_reg_scorer = make_scorer(r2_score, greater_is_better=True)\n",
    "\n",
    "# KNN Regressor pipeline for Online Abusive Attacks dataset\n",
    "oaa_knn_pipeline = Pipeline([\n",
    "    ('knn_regressor', oaa_knn_regressor)\n",
    "])\n",
    "\n",
    "# Set the parameters for Randomized Search for KNN Regressor on the Online Abusive Attacks dataset\n",
    "oaa_knn_param_grid = {\n",
    "    'knn_regressor__n_neighbors': online_abusive_attacks_k_range,\n",
    "    'knn_regressor__weights': ['uniform', 'distance'],\n",
    "    'knn_regressor__metric': ['euclidean', 'manhattan', 'chebyshev', 'minkowski']\n",
    "}\n",
    "\n",
    "# Grid Search for KNN Regressor on the Online Abusive Attacks dataset\n",
    "oaa_knn_grid_search = GridSearchCV(oaa_knn_pipeline,\n",
    "                                  param_grid=oaa_knn_param_grid,\n",
    "                                  cv=5,\n",
    "                                  scoring=oaa_reg_scorer,\n",
    "                                  verbose=1,\n",
    "                                  n_jobs=-1, \n",
    "                                  error_score='raise')"
   ]
  },
  {
   "cell_type": "code",
   "execution_count": 65,
   "metadata": {},
   "outputs": [
    {
     "name": "stdout",
     "output_type": "stream",
     "text": [
      "Fitting 5 folds for each of 80 candidates, totalling 400 fits\n"
     ]
    }
   ],
   "source": [
    "start_time = time.time()\n",
    "oaa_knn_grid_search.fit(online_abusive_attacks_X_train_sample, online_abusive_attacks_y_train_sample)\n",
    "end_time = time.time()"
   ]
  },
  {
   "cell_type": "code",
   "execution_count": 66,
   "metadata": {},
   "outputs": [
    {
     "name": "stdout",
     "output_type": "stream",
     "text": [
      "Best parameters for Online Abusive Attacks KNN Classifier: {'knn_regressor__metric': 'euclidean', 'knn_regressor__n_neighbors': 2, 'knn_regressor__weights': 'distance'}\n",
      "Best score for Online Abusive Attacks KNN Classifier: 0.8815101112675302\n",
      "Time taken for Online Abusive Attacks KNN Classifier Randomized Search: 0.34276866912841797\n"
     ]
    }
   ],
   "source": [
    "print(\"Best parameters for Online Abusive Attacks KNN Classifier:\", oaa_knn_grid_search.best_params_)\n",
    "print(\"Best score for Online Abusive Attacks KNN Classifier:\", oaa_knn_grid_search.best_score_)\n",
    "print(\"Time taken for Online Abusive Attacks KNN Classifier Randomized Search:\", end_time - start_time)"
   ]
  },
  {
   "cell_type": "code",
   "execution_count": 67,
   "metadata": {},
   "outputs": [],
   "source": [
    "# Pickle the oaa_knn_grid_search\n",
    "with open(f'{pickle_path}oaa_knn_grid_search.pkl', 'wb') as f:\n",
    "    pickle.dump(oaa_knn_grid_search, f)"
   ]
  },
  {
   "cell_type": "code",
   "execution_count": 68,
   "metadata": {},
   "outputs": [],
   "source": [
    "# Import the pickled oaa_knn_grid_search\n",
    "with open(f'{pickle_path}oaa_knn_grid_search.pkl', 'rb') as f:\n",
    "    oaa_knn_grid_search = pickle.load(f)"
   ]
  },
  {
   "cell_type": "code",
   "execution_count": 69,
   "metadata": {},
   "outputs": [
    {
     "data": {
      "image/png": "[encoded data removed]",
      "text/plain": [
       "<Figure size 1000x600 with 1 Axes>"
      ]
     },
     "metadata": {},
     "output_type": "display_data"
    }
   ],
   "source": [
    "# Plot the accuracy scores for the KNN Classifier on the Online Abusive Attacks dataset for all iterations\n",
    "plt.figure(figsize=(10, 6))\n",
    "plt.plot(oaa_knn_grid_search.cv_results_['mean_test_score'], marker='o', label='Mean Test Score')\n",
    "\n",
    "# Plot the best score as a red x\n",
    "oaa_knn_best_score_index = np.argmax(oaa_knn_grid_search.cv_results_['mean_test_score'])\n",
    "plt.scatter(oaa_knn_best_score_index, oaa_knn_grid_search.cv_results_['mean_test_score'][oaa_knn_best_score_index], color='red', s=100, label='Best Score')\n",
    "\n",
    "plt.title('KNN Classifier Mean Test Score for Online Abusive Attacks Dataset')\n",
    "plt.xlabel('Hyperparameter Iteration')\n",
    "plt.ylabel('Mean Test Score')\n",
    "plt.legend()\n",
    "plt.grid()\n",
    "plt.show()"
   ]
  },
  {
   "cell_type": "code",
   "execution_count": 70,
   "metadata": {},
   "outputs": [
    {
     "name": "stderr",
     "output_type": "stream",
     "text": [
      "  File \"c:\\Users\\Fornesus Powered\\AppData\\Local\\Programs\\Python\\Python313\\Lib\\site-packages\\joblib\\externals\\loky\\backend\\context.py\", line 257, in _count_physical_cores\n",
      "    cpu_info = subprocess.run(\n",
      "        \"wmic CPU Get NumberOfCores /Format:csv\".split(),\n",
      "        capture_output=True,\n",
      "        text=True,\n",
      "    )\n",
      "  File \"c:\\Users\\Fornesus Powered\\AppData\\Local\\Programs\\Python\\Python313\\Lib\\subprocess.py\", line 554, in run\n",
      "    with Popen(*popenargs, **kwargs) as process:\n",
      "         ~~~~~^^^^^^^^^^^^^^^^^^^^^^\n",
      "  File \"c:\\Users\\Fornesus Powered\\AppData\\Local\\Programs\\Python\\Python313\\Lib\\subprocess.py\", line 1039, in __init__\n",
      "    self._execute_child(args, executable, preexec_fn, close_fds,\n",
      "    ~~~~~~~~~~~~~~~~~~~^^^^^^^^^^^^^^^^^^^^^^^^^^^^^^^^^^^^^^^^^\n",
      "                        pass_fds, cwd, env,\n",
      "                        ^^^^^^^^^^^^^^^^^^^\n",
      "    ...<5 lines>...\n",
      "                        gid, gids, uid, umask,\n",
      "                        ^^^^^^^^^^^^^^^^^^^^^^\n",
      "                        start_new_session, process_group)\n",
      "                        ^^^^^^^^^^^^^^^^^^^^^^^^^^^^^^^^^\n",
      "  File \"c:\\Users\\Fornesus Powered\\AppData\\Local\\Programs\\Python\\Python313\\Lib\\subprocess.py\", line 1551, in _execute_child\n",
      "    hp, ht, pid, tid = _winapi.CreateProcess(executable, args,\n",
      "                       ~~~~~~~~~~~~~~~~~~~~~^^^^^^^^^^^^^^^^^^\n",
      "                             # no special security\n",
      "                             ^^^^^^^^^^^^^^^^^^^^^\n",
      "    ...<4 lines>...\n",
      "                             cwd,\n",
      "                             ^^^^\n",
      "                             startupinfo)\n",
      "                             ^^^^^^^^^^^^\n"
     ]
    }
   ],
   "source": [
    "# Predict on the test set\n",
    "oaa_knn_y_pred = oaa_knn_grid_search.predict(online_abusive_attacks_X_test)"
   ]
  },
  {
   "cell_type": "code",
   "execution_count": 71,
   "metadata": {},
   "outputs": [
    {
     "name": "stdout",
     "output_type": "stream",
     "text": [
      "Online Abusive Attacks KNN Classifier:\n",
      "Best Parameters: {'knn_regressor__metric': 'euclidean', 'knn_regressor__n_neighbors': 2, 'knn_regressor__weights': 'distance'}\n",
      "RMSE: 12.5225\n",
      "R2 Score: 0.9595\n"
     ]
    }
   ],
   "source": [
    "# Evaluate the model\n",
    "oaa_knn_rmse = root_mean_squared_error(online_abusive_attacks_y_test, oaa_knn_y_pred)\n",
    "oaa_knn_r2 = r2_score(online_abusive_attacks_y_test, oaa_knn_y_pred)\n",
    "print(\"Online Abusive Attacks KNN Classifier:\")\n",
    "print(f\"Best Parameters: {oaa_knn_grid_search.best_params_}\")\n",
    "print(f\"RMSE: {oaa_knn_rmse:.4f}\")\n",
    "print(f\"R2 Score: {oaa_knn_r2:.4f}\")"
   ]
  },
  {
   "cell_type": "code",
   "execution_count": 72,
   "metadata": {},
   "outputs": [
    {
     "data": {
      "text/plain": [
       "{'Parent tweets': np.float64(0.004320409611475784),\n",
       " 'Replies to parents': np.float64(0.001017885111278205),\n",
       " 'Avg replies per parent': np.float64(0.0009420196813945348),\n",
       " 'Parent tweets with replies': np.float64(0.004535099257500097),\n",
       " 'Avg replies per parent with replies': np.float64(-0.00526917509897018),\n",
       " 'Toxic parent tweets': np.float64(0.06671008403307097),\n",
       " 'Non-toxic parent tweets': np.float64(0.0030696695611902467),\n",
       " 'Toxic replies': np.float64(0.0025830882931800136),\n",
       " 'Non-toxic replies': np.float64(0.0009854429836912092),\n",
       " 'Toxic replies to non-toxic parents': np.float64(0.0029989591792056957),\n",
       " 'Non-toxic replies to non-toxic parents': np.float64(0.0009681523232915823),\n",
       " 'Toxic replies to toxic parents': np.float64(0.008059415873242937),\n",
       " 'Non-toxic replies to toxic parents': np.float64(0.005715440659741122),\n",
       " 'Followers_count': np.float64(0.001933502208932747),\n",
       " 'Friends_count': np.float64(0.001359594854133095),\n",
       " 'Listed_count': np.float64(0.0017269700325956206),\n",
       " 'Favourites_count': np.float64(0.0013866572606953786),\n",
       " 'Verified': np.float64(0.003923506069533789),\n",
       " 'Statuses_count': np.float64(0.0044970517823688105),\n",
       " 'Retweet_count min': np.float64(0.0001138803403262334),\n",
       " 'Retweet_count avg': np.float64(0.005147409192414276),\n",
       " 'Retweet_count max': np.float64(0.001526732499036898),\n",
       " 'Favorite_count min': np.float64(0.0016836560137860502),\n",
       " 'Favorite_count avg': np.float64(0.0019402735824437523),\n",
       " 'Favorite_count max': np.float64(0.004672068789056927),\n",
       " 'Possibly_sensitive': np.float64(0.004462320248400131),\n",
       " 'Repliers with min 1 toxic reply': np.float64(0.0025004875093571077),\n",
       " 'High toxicity parents': np.float64(0.015001039546251305),\n",
       " 'High severe_toxicity parents': np.float64(0.0),\n",
       " 'High identity_attack parents': np.float64(0.17168282117505237),\n",
       " 'High insult parents': np.float64(0.009341552319184876),\n",
       " 'High profanity parents': np.float64(0.12866684931278777),\n",
       " 'High threat parents': np.float64(0.029220644552409736),\n",
       " 'High other attr parents': np.float64(0.0),\n",
       " 'High toxicity replies': np.float64(0.0003759174737074433),\n",
       " 'High severe_toxicity replies': np.float64(0.0),\n",
       " 'High identity_attack replies': np.float64(0.010198027503506568),\n",
       " 'High insult replies': np.float64(-0.002002055897362076),\n",
       " 'High profanity replies': np.float64(0.00514090852989868),\n",
       " 'High threat replies': np.float64(0.0036607696660319487),\n",
       " 'High other attr replies': np.float64(0.0),\n",
       " 'Repliers': np.float64(0.0009960205761064378),\n",
       " '<3 replies parents': np.float64(0.004319903052854535),\n",
       " '>=3 replies parents': np.float64(0.0026450830645251997),\n",
       " 'Women': np.float64(0.006290478605712013),\n",
       " 'Love': np.float64(0.006415917127559479),\n",
       " 'News': np.float64(0.005035420490919151),\n",
       " 'Account': np.float64(0.0029661528599113527),\n",
       " 'Feminist': np.float64(0.005722034952087252),\n",
       " 'Official': np.float64(0.006276130440570671),\n",
       " 'Follow': np.float64(0.004849353047294514),\n",
       " 'Products': np.float64(0.003840017094657577),\n",
       " 'Tweets': np.float64(0.005870540654194267),\n",
       " 'Womens': np.float64(0.007071512875816521)}"
      ]
     },
     "execution_count": 72,
     "metadata": {},
     "output_type": "execute_result"
    }
   ],
   "source": [
    "# Get permutation importance for the Online Abusive Attacks KNN Classifier\n",
    "oaa_knn_result = permutation_importance(oaa_knn_grid_search, online_abusive_attacks_X_test, online_abusive_attacks_y_test, n_repeats=10, random_state=42, n_jobs=-1)\n",
    "\n",
    "# Analyze using feature importances\n",
    "oaa_knn_feature_importances = np.sort(oaa_knn_result.importances_mean)[::-1]\n",
    "oaa_knn_feature_importances_dict = {}\n",
    "for i, col in enumerate(online_abusive_attacks_X_test.columns):\n",
    "    oaa_knn_feature_importances_dict[col] = oaa_knn_result.importances_mean[i]\n",
    "oaa_knn_feature_importances_dict"
   ]
  },
  {
   "cell_type": "code",
   "execution_count": 75,
   "metadata": {},
   "outputs": [],
   "source": [
    "# Append details to the results list\n",
    "knn_regression_results_list.append((\n",
    "    \"K-Nearest Neighbors\",\n",
    "    \"Online Abusive Attacks\",\n",
    "    oaa_knn_rmse,\n",
    "    oaa_knn_r2,\n",
    "    oaa_knn_grid_search.best_params_, \n",
    "    oaa_knn_feature_importances_dict\n",
    "))"
   ]
  },
  {
   "cell_type": "markdown",
   "metadata": {
    "id": "RdURyKnhN8oQ"
   },
   "source": []
  },
  {
   "cell_type": "code",
   "execution_count": 76,
   "metadata": {
    "colab": {
     "base_uri": "https://localhost:8080/",
     "height": 178
    },
    "executionInfo": {
     "elapsed": 46,
     "status": "ok",
     "timestamp": 1758696328165,
     "user": {
      "displayName": "Christopher Fornesa",
      "userId": "11885562963716384029"
     },
     "user_tz": 300
    },
    "id": "cYtKCDKWRqM7",
    "outputId": "f5d1e45d-17af-4331-91df-f8fdd8370514"
   },
   "outputs": [
    {
     "data": {
      "text/plain": [
       "HOF\n",
       "1    538\n",
       "0    518\n",
       "Name: count, dtype: int64"
      ]
     },
     "execution_count": 76,
     "metadata": {},
     "output_type": "execute_result"
    }
   ],
   "source": [
    "us2020hs_y_test.value_counts()"
   ]
  },
  {
   "cell_type": "code",
   "execution_count": 77,
   "metadata": {
    "executionInfo": {
     "elapsed": 27,
     "status": "ok",
     "timestamp": 1758696329292,
     "user": {
      "displayName": "Christopher Fornesa",
      "userId": "11885562963716384029"
     },
     "user_tz": 300
    },
    "id": "umgqUMl6N-jf"
   },
   "outputs": [],
   "source": [
    "# Instantiate the KNN classifier for the US Elections 2020 Hate Speech dataset\n",
    "us2020hs_knn_classifier = KNeighborsClassifier()\n",
    "\n",
    "# Create the classifier scorer\n",
    "us2020hs_class_scorer = make_scorer(accuracy_score)\n",
    "\n",
    "# KNN Classifier pipeline for US Elections 2020 Hate Speech dataset\n",
    "us2020hs_knn_pipeline = Pipeline([\n",
    "    ('knn_classifier', us2020hs_knn_classifier)\n",
    "])\n",
    "\n",
    "# Set the parameters for Randomized Search for KNN Classifier on the US Elections 2020 Hate Speech dataset\n",
    "us2020hs_knn_param_grid = {\n",
    "    'knn_classifier__n_neighbors': us2020hs_k_range,\n",
    "    'knn_classifier__weights': ['uniform', 'distance'],\n",
    "    'knn_classifier__metric': ['euclidean', 'manhattan', 'chebyshev', 'minkowski']\n",
    "}\n",
    "\n",
    "# Grid Search for KNN Classifier on the US Elections 2020 Hate Speech dataset\n",
    "us2020hs_knn_grid_search = GridSearchCV(us2020hs_knn_pipeline,\n",
    "                                       param_grid=us2020hs_knn_param_grid,\n",
    "                                       cv=5,\n",
    "                                       scoring=us2020hs_class_scorer,\n",
    "                                       verbose=1,\n",
    "                                       n_jobs=-1, \n",
    "                                       error_score='raise')"
   ]
  },
  {
   "cell_type": "code",
   "execution_count": 78,
   "metadata": {},
   "outputs": [
    {
     "name": "stdout",
     "output_type": "stream",
     "text": [
      "Fitting 5 folds for each of 80 candidates, totalling 400 fits\n"
     ]
    }
   ],
   "source": [
    "start_time = time.time()\n",
    "us2020hs_class_scorer = make_scorer(accuracy_score, greater_is_better=True)\n",
    "us2020hs_knn_grid_search.fit(us2020hs_X_train_sample, us2020hs_y_train_sample)\n",
    "end_time = time.time()"
   ]
  },
  {
   "cell_type": "code",
   "execution_count": 79,
   "metadata": {},
   "outputs": [
    {
     "name": "stdout",
     "output_type": "stream",
     "text": [
      "Best parameters for US Elections 2020 Hate Speech KNN Classifier: {'knn_classifier__metric': 'euclidean', 'knn_classifier__n_neighbors': 20, 'knn_classifier__weights': 'uniform'}\n",
      "Best score for US Elections 2020 Hate Speech KNN Classifier: 0.7045936945628831\n",
      "Time taken for US Elections 2020 Hate Speech KNN Classifier Randomized Search: 0.3417799472808838\n"
     ]
    }
   ],
   "source": [
    "print(\"Best parameters for US Elections 2020 Hate Speech KNN Classifier:\", us2020hs_knn_grid_search.best_params_)\n",
    "print(\"Best score for US Elections 2020 Hate Speech KNN Classifier:\", us2020hs_knn_grid_search.best_score_)\n",
    "print(\"Time taken for US Elections 2020 Hate Speech KNN Classifier Randomized Search:\", end_time - start_time)"
   ]
  },
  {
   "cell_type": "code",
   "execution_count": 80,
   "metadata": {},
   "outputs": [],
   "source": [
    "# Pickle the us2020hs_knn_grid_search\n",
    "with open(f'{pickle_path}us2020hs_knn_grid_search.pkl', 'wb') as f:\n",
    "    pickle.dump(us2020hs_knn_grid_search, f)"
   ]
  },
  {
   "cell_type": "code",
   "execution_count": 81,
   "metadata": {},
   "outputs": [],
   "source": [
    "# Import the pickled us2020hs_knn_grid_search\n",
    "with open(f'{pickle_path}us2020hs_knn_grid_search.pkl', 'rb') as f:\n",
    "    us2020hs_knn_grid_search = pickle.load(f)"
   ]
  },
  {
   "cell_type": "code",
   "execution_count": 82,
   "metadata": {},
   "outputs": [
    {
     "data": {
      "image/png": "[encoded data removed]",
      "text/plain": [
       "<Figure size 1000x600 with 1 Axes>"
      ]
     },
     "metadata": {},
     "output_type": "display_data"
    }
   ],
   "source": [
    "# Plot the accuracy scores for the KNN Classifier on the US Elections 2020 Hate Speech dataset for all iterations\n",
    "plt.figure(figsize=(10, 6))\n",
    "plt.plot(us2020hs_knn_grid_search.cv_results_['mean_test_score'], marker='o', label='Mean Test Score')\n",
    "\n",
    "# Plot the best score as a red x\n",
    "us2020hs_knn_best_score_index = np.argmax(us2020hs_knn_grid_search.cv_results_['mean_test_score'])\n",
    "plt.scatter(us2020hs_knn_best_score_index, us2020hs_knn_grid_search.cv_results_['mean_test_score'][us2020hs_knn_best_score_index], color='red', s=100, label='Best Score')\n",
    "\n",
    "plt.title('KNN Classifier Mean Test Score for US Elections 2020 Hate Speech Dataset')\n",
    "plt.xlabel('Hyperparameter Iteration')\n",
    "plt.ylabel('Mean Test Score')\n",
    "plt.legend()\n",
    "plt.grid()\n",
    "plt.show()"
   ]
  },
  {
   "cell_type": "code",
   "execution_count": 83,
   "metadata": {},
   "outputs": [],
   "source": [
    "# Predict on the test set\n",
    "us2020hs_knn_y_pred = us2020hs_knn_grid_search.predict(us2020hs_X_test)"
   ]
  },
  {
   "cell_type": "code",
   "execution_count": 84,
   "metadata": {},
   "outputs": [
    {
     "name": "stdout",
     "output_type": "stream",
     "text": [
      "US Elections 2020 Hate Speech KNN Classifier:\n",
      "Best Parameters: {'knn_classifier__metric': 'euclidean', 'knn_classifier__n_neighbors': 20, 'knn_classifier__weights': 'uniform'}\n",
      "Accuracy: 0.7036\n",
      "F1 Score: 0.7026\n"
     ]
    }
   ],
   "source": [
    "# Evaluate the model\n",
    "us2020hs_knn_accuracy = accuracy_score(us2020hs_y_test, us2020hs_knn_y_pred)\n",
    "us2020hs_knn_f1 = f1_score(us2020hs_y_test, us2020hs_knn_y_pred, average='weighted')\n",
    "print(\"US Elections 2020 Hate Speech KNN Classifier:\")\n",
    "print(f\"Best Parameters: {us2020hs_knn_grid_search.best_params_}\")\n",
    "print(f\"Accuracy: {us2020hs_knn_accuracy:.4f}\")\n",
    "print(f\"F1 Score: {us2020hs_knn_f1:.4f}\")"
   ]
  },
  {
   "cell_type": "code",
   "execution_count": 85,
   "metadata": {},
   "outputs": [
    {
     "data": {
      "image/png": "[encoded data removed]",
      "text/plain": [
       "<Figure size 1000x600 with 2 Axes>"
      ]
     },
     "metadata": {},
     "output_type": "display_data"
    }
   ],
   "source": [
    "# Plot the confusion matrix using seaborn\n",
    "plt.figure(figsize=(10, 6))\n",
    "sns.heatmap(pd.crosstab(us2020hs_y_test, us2020hs_knn_y_pred, rownames=['Actual'], colnames=['Predicted']), annot=True, fmt='d', cmap='Blues')\n",
    "plt.title('Confusion Matrix - US Elections 2020 Hate Speech KNN Classifier')\n",
    "plt.xlabel('Predicted')\n",
    "plt.ylabel('Actual')\n",
    "plt.show()"
   ]
  },
  {
   "cell_type": "code",
   "execution_count": 86,
   "metadata": {},
   "outputs": [
    {
     "name": "stdout",
     "output_type": "stream",
     "text": [
      "Classification Report for US Elections 2020 Hate Speech KNN Classifier:\n",
      "              precision    recall  f1-score   support\n",
      "\n",
      "           0       0.72      0.65      0.68       518\n",
      "           1       0.69      0.76      0.72       538\n",
      "\n",
      "    accuracy                           0.70      1056\n",
      "   macro avg       0.71      0.70      0.70      1056\n",
      "weighted avg       0.70      0.70      0.70      1056\n",
      "\n"
     ]
    }
   ],
   "source": [
    "# Generate a classification report for the KNN Classifier on the US Elections 2020 Hate Speech dataset\n",
    "us2020hs_knn_report = classification_report(us2020hs_y_test, us2020hs_knn_y_pred)\n",
    "print(\"Classification Report for US Elections 2020 Hate Speech KNN Classifier:\")\n",
    "print(us2020hs_knn_report)"
   ]
  },
  {
   "cell_type": "code",
   "execution_count": 87,
   "metadata": {},
   "outputs": [
    {
     "data": {
      "text/plain": [
       "{'Trump': np.float64(0.13617424242424242),\n",
       " 'Biden': np.float64(0.12462121212121213),\n",
       " 'West': np.float64(0.0)}"
      ]
     },
     "execution_count": 87,
     "metadata": {},
     "output_type": "execute_result"
    }
   ],
   "source": [
    "# Get permutation importance for the US Elections 2020 Hate Speech KNN Classifier\n",
    "us_elections_knn_result = permutation_importance(us2020hs_knn_grid_search, us2020hs_X_test, us2020hs_y_test, n_repeats=10, random_state=42, n_jobs=-1)\n",
    "\n",
    "# Analyze using feature importances\n",
    "us_elections_knn_feature_importances = np.sort(us_elections_knn_result.importances_mean)[::-1]\n",
    "us_elections_knn_feature_importances_dict = {}\n",
    "for i, col in enumerate(us2020hs_X_test.columns):\n",
    "    us_elections_knn_feature_importances_dict[col] = us_elections_knn_result.importances_mean[i]\n",
    "us_elections_knn_feature_importances_dict"
   ]
  },
  {
   "cell_type": "code",
   "execution_count": 88,
   "metadata": {},
   "outputs": [],
   "source": [
    "# Append details to the results list\n",
    "knn_classification_results_list.append((\n",
    "    \"K-Nearest Neighbors\",\n",
    "    \"US Elections 2020 Hate Speech\",\n",
    "    \"NA\",\n",
    "    \"NA\",\n",
    "    us2020hs_knn_accuracy,\n",
    "    us2020hs_knn_f1,\n",
    "    0.0,\n",
    "    us2020hs_knn_grid_search.best_params_, \n",
    "    us_elections_knn_feature_importances_dict\n",
    "))"
   ]
  },
  {
   "cell_type": "markdown",
   "metadata": {
    "id": "oUGZ0hfleWFE"
   },
   "source": []
  },
  {
   "cell_type": "code",
   "execution_count": 89,
   "metadata": {
    "colab": {
     "base_uri": "https://localhost:8080/",
     "height": 489
    },
    "executionInfo": {
     "elapsed": 79,
     "status": "ok",
     "timestamp": 1758696653234,
     "user": {
      "displayName": "Christopher Fornesa",
      "userId": "11885562963716384029"
     },
     "user_tz": 300
    },
    "id": "AKQAY3GeeWpH",
    "outputId": "f9905e83-1962-4f1c-8f7a-fa72350c4672"
   },
   "outputs": [
    {
     "data": {
      "text/plain": [
       "target_groups\n",
       "1    2115\n",
       "0     834\n",
       "2     628\n",
       "3      89\n",
       "Name: count, dtype: int64"
      ]
     },
     "execution_count": 89,
     "metadata": {},
     "output_type": "execute_result"
    }
   ],
   "source": [
    "mlma_hate_speech_y_test.value_counts()"
   ]
  },
  {
   "cell_type": "code",
   "execution_count": 90,
   "metadata": {
    "executionInfo": {
     "elapsed": 15,
     "status": "ok",
     "timestamp": 1758696680613,
     "user": {
      "displayName": "Christopher Fornesa",
      "userId": "11885562963716384029"
     },
     "user_tz": 300
    },
    "id": "6itPm7egeWpH"
   },
   "outputs": [],
   "source": [
    "# Instantiate the KNN classifier for the MLMA Hate Speech dataset\n",
    "mlma_hate_speech_knn_classifier = KNeighborsClassifier()\n",
    "\n",
    "# Create the classifier scorer\n",
    "mlma_hate_speech_class_scorer = make_scorer(accuracy_score)\n",
    "\n",
    "# KNN Classifier pipeline for MLMA Hate Speech dataset\n",
    "mlma_hate_speech_knn_pipeline = Pipeline([\n",
    "    ('knn_classifier', mlma_hate_speech_knn_classifier)\n",
    "])\n",
    "\n",
    "# Set the parameters for Randomized Search for KNN Classifier on the MLMA Hate Speech dataset\n",
    "mlma_hate_speech_knn_param_grid = {\n",
    "    'knn_classifier__n_neighbors': mlma_hate_speech_k_range,\n",
    "    'knn_classifier__weights': ['uniform', 'distance'],\n",
    "    'knn_classifier__metric': ['euclidean', 'manhattan', 'chebyshev', 'minkowski']\n",
    "}\n",
    "\n",
    "# Grid Search for KNN Classifier on the MLMA Hate Speech dataset\n",
    "mlma_hate_speech_knn_grid_search = GridSearchCV(mlma_hate_speech_knn_pipeline,\n",
    "                                                param_grid=mlma_hate_speech_knn_param_grid,\n",
    "                                                cv=5,\n",
    "                                                scoring=mlma_hate_speech_class_scorer,\n",
    "                                                verbose=1,\n",
    "                                                n_jobs=-1, \n",
    "                                                error_score='raise')\n"
   ]
  },
  {
   "cell_type": "code",
   "execution_count": 91,
   "metadata": {},
   "outputs": [
    {
     "name": "stdout",
     "output_type": "stream",
     "text": [
      "Fitting 5 folds for each of 80 candidates, totalling 400 fits\n"
     ]
    }
   ],
   "source": [
    "start_time = time.time()\n",
    "mlma_hate_speech_class_scorer = make_scorer(accuracy_score, greater_is_better=True)\n",
    "mlma_hate_speech_knn_grid_search.fit(mlma_hate_speech_X_train_sample, mlma_hate_speech_y_train_sample)\n",
    "end_time = time.time()"
   ]
  },
  {
   "cell_type": "code",
   "execution_count": 92,
   "metadata": {},
   "outputs": [
    {
     "name": "stdout",
     "output_type": "stream",
     "text": [
      "Best parameters for MLMA Hate Speech KNN Classifier: {'knn_classifier__metric': 'chebyshev', 'knn_classifier__n_neighbors': 42, 'knn_classifier__weights': 'uniform'}\n",
      "Best score for MLMA Hate Speech KNN Classifier: 0.6018636880752921\n",
      "Time taken for MLMA Hate Speech KNN Classifier Randomized Search: 2.740346908569336\n"
     ]
    }
   ],
   "source": [
    "print(\"Best parameters for MLMA Hate Speech KNN Classifier:\", mlma_hate_speech_knn_grid_search.best_params_)\n",
    "print(\"Best score for MLMA Hate Speech KNN Classifier:\", mlma_hate_speech_knn_grid_search.best_score_)\n",
    "print(\"Time taken for MLMA Hate Speech KNN Classifier Randomized Search:\", end_time - start_time)"
   ]
  },
  {
   "cell_type": "code",
   "execution_count": 93,
   "metadata": {},
   "outputs": [],
   "source": [
    "# Pickle the mlma_hate_speech_knn_grid_search\n",
    "with open(f'{pickle_path}mlma_hate_speech_knn_grid_search.pkl', 'wb') as f:\n",
    "    pickle.dump(mlma_hate_speech_knn_grid_search, f)"
   ]
  },
  {
   "cell_type": "code",
   "execution_count": 94,
   "metadata": {},
   "outputs": [],
   "source": [
    "# Import the pickled mlma_hate_speech_knn_grid_search\n",
    "with open(f'{pickle_path}mlma_hate_speech_knn_grid_search.pkl', 'rb') as f:\n",
    "    mlma_hate_speech_knn_grid_search = pickle.load(f)"
   ]
  },
  {
   "cell_type": "code",
   "execution_count": 95,
   "metadata": {},
   "outputs": [
    {
     "data": {
      "image/png": "[encoded data removed]",
      "text/plain": [
       "<Figure size 1000x600 with 1 Axes>"
      ]
     },
     "metadata": {},
     "output_type": "display_data"
    }
   ],
   "source": [
    "# Plot the accuracy scores for the KNN Classifier on the MLMA Hate Speech dataset for all iterations\n",
    "plt.figure(figsize=(10, 6))\n",
    "plt.plot(mlma_hate_speech_knn_grid_search.cv_results_['mean_test_score'], marker='o', label='Mean Test Score')\n",
    "\n",
    "# Plot the best score as a red x\n",
    "mlma_hate_speech_knn_best_score_index = np.argmax(mlma_hate_speech_knn_grid_search.cv_results_['mean_test_score'])\n",
    "plt.scatter(mlma_hate_speech_knn_best_score_index, mlma_hate_speech_knn_grid_search.cv_results_['mean_test_score'][mlma_hate_speech_knn_best_score_index], color='red', s=100, label='Best Score')\n",
    "\n",
    "plt.title('KNN Classifier Mean Test Score for MLMA Hate Speech Dataset')\n",
    "plt.xlabel('Hyperparameter Iteration')\n",
    "plt.ylabel('Mean Test Score')\n",
    "plt.legend()\n",
    "plt.grid()\n",
    "plt.show()"
   ]
  },
  {
   "cell_type": "code",
   "execution_count": 96,
   "metadata": {},
   "outputs": [],
   "source": [
    "# Predict on the test set\n",
    "mlma_hate_speech_knn_y_pred = mlma_hate_speech_knn_grid_search.predict(mlma_hate_speech_X_test)"
   ]
  },
  {
   "cell_type": "code",
   "execution_count": 97,
   "metadata": {},
   "outputs": [
    {
     "name": "stdout",
     "output_type": "stream",
     "text": [
      "MLMA Hate Speech KNN Classifier:\n",
      "Best Parameters: {'knn_classifier__metric': 'chebyshev', 'knn_classifier__n_neighbors': 42, 'knn_classifier__weights': 'uniform'}\n",
      "Accuracy: 0.6028\n",
      "F1 Score: 0.5081\n"
     ]
    }
   ],
   "source": [
    "# Evaluate the model\n",
    "mlma_hate_speech_knn_accuracy = accuracy_score(mlma_hate_speech_y_test, mlma_hate_speech_knn_y_pred)\n",
    "mlma_hate_speech_knn_f1 = f1_score(mlma_hate_speech_y_test, mlma_hate_speech_knn_y_pred, average='weighted')\n",
    "print(\"MLMA Hate Speech KNN Classifier:\")\n",
    "print(f\"Best Parameters: {mlma_hate_speech_knn_grid_search.best_params_}\")\n",
    "print(f\"Accuracy: {mlma_hate_speech_knn_accuracy:.4f}\")\n",
    "print(f\"F1 Score: {mlma_hate_speech_knn_f1:.4f}\")"
   ]
  },
  {
   "cell_type": "code",
   "execution_count": 98,
   "metadata": {},
   "outputs": [
    {
     "data": {
      "image/png": "[encoded data removed]",
      "text/plain": [
       "<Figure size 1000x600 with 2 Axes>"
      ]
     },
     "metadata": {},
     "output_type": "display_data"
    }
   ],
   "source": [
    "# Plot the confusion matrix using seaborn\n",
    "plt.figure(figsize=(10, 6))\n",
    "sns.heatmap(pd.crosstab(mlma_hate_speech_y_test, mlma_hate_speech_knn_y_pred, rownames=['Actual'], colnames=['Predicted']), annot=True, fmt='d', cmap='Blues')\n",
    "plt.title('Confusion Matrix - MLMA Hate Speech KNN Classifier')\n",
    "plt.xlabel('Predicted')\n",
    "plt.ylabel('Actual')\n",
    "plt.show()"
   ]
  },
  {
   "cell_type": "code",
   "execution_count": 99,
   "metadata": {},
   "outputs": [
    {
     "name": "stdout",
     "output_type": "stream",
     "text": [
      "Classification Report for MLMA Hate Speech KNN Classifier:\n",
      "              precision    recall  f1-score   support\n",
      "\n",
      "           0       0.58      0.27      0.37       834\n",
      "           1       0.61      0.94      0.74      2115\n",
      "           2       0.00      0.00      0.00       628\n",
      "           3       0.00      0.00      0.00        89\n",
      "\n",
      "    accuracy                           0.60      3666\n",
      "   macro avg       0.30      0.30      0.28      3666\n",
      "weighted avg       0.48      0.60      0.51      3666\n",
      "\n"
     ]
    }
   ],
   "source": [
    "# Generate a classification report for the KNN Classifier on the MLMA Hate Speech dataset\n",
    "mlma_hate_speech_knn_report = classification_report(mlma_hate_speech_y_test, mlma_hate_speech_knn_y_pred)\n",
    "print(\"Classification Report for MLMA Hate Speech KNN Classifier:\")\n",
    "print(mlma_hate_speech_knn_report)  "
   ]
  },
  {
   "cell_type": "code",
   "execution_count": 100,
   "metadata": {},
   "outputs": [
    {
     "data": {
      "text/plain": [
       "{'shock_annotator_sentiment': np.float64(0.012193126022913248),\n",
       " 'anger_annotator_sentiment': np.float64(0.022749590834697207),\n",
       " 'confusion_annotator_sentiment': np.float64(0.008101472995089998),\n",
       " 'sadness_annotator_sentiment': np.float64(0.021112929623567877),\n",
       " 'indifference_annotator_sentiment': np.float64(0.007446808510638281),\n",
       " 'disgust_annotator_sentiment': np.float64(0.0159574468085106),\n",
       " 'fear_annotator_sentiment': np.float64(0.00379159847244952),\n",
       " 'implicit': np.float64(0.00870158210583739),\n",
       " 'explicit': np.float64(0.00870158210583739),\n",
       " 'Abusive': np.float64(0.006246590289143461),\n",
       " 'Not Abusive': np.float64(0.018030551009274386),\n",
       " 'Very Abusive': np.float64(0.005019094380796485),\n",
       " 'Very Strongly Abusive': np.float64(0.0010911074740861837)}"
      ]
     },
     "execution_count": 100,
     "metadata": {},
     "output_type": "execute_result"
    }
   ],
   "source": [
    "# Get permutation importance for the MLMA Hate Speech KNN Classifier\n",
    "mlma_hate_speech_knn_result = permutation_importance(mlma_hate_speech_knn_grid_search, mlma_hate_speech_X_test, mlma_hate_speech_y_test, n_repeats=10, random_state=42, n_jobs=-1)\n",
    "\n",
    "# Analyze using feature importances\n",
    "mlma_hate_speech_knn_feature_importances = np.sort(mlma_hate_speech_knn_result.importances_mean)[::-1]\n",
    "mlma_hate_speech_knn_feature_importances_dict = {}\n",
    "for i, col in enumerate(mlma_hate_speech_X_test.columns):\n",
    "    mlma_hate_speech_knn_feature_importances_dict[col] = mlma_hate_speech_knn_result.importances_mean[i]\n",
    "mlma_hate_speech_knn_feature_importances_dict"
   ]
  },
  {
   "cell_type": "code",
   "execution_count": 101,
   "metadata": {},
   "outputs": [],
   "source": [
    "# Append details to the results list\n",
    "knn_classification_results_list.append((\n",
    "    \"K-Nearest Neighbors\",\n",
    "    \"MLMA Hate Speech\",\n",
    "    \"NA\",\n",
    "    \"NA\",\n",
    "    mlma_hate_speech_knn_accuracy,\n",
    "    mlma_hate_speech_knn_f1,\n",
    "    0.0,\n",
    "    mlma_hate_speech_knn_grid_search.best_params_, \n",
    "    mlma_hate_speech_knn_feature_importances_dict\n",
    "))"
   ]
  },
  {
   "cell_type": "markdown",
   "metadata": {
    "id": "IkUH-1Sam5l_"
   },
   "source": [
    "## Support Vector Machine Conclusions"
   ]
  },
  {
   "cell_type": "code",
   "execution_count": 102,
   "metadata": {
    "colab": {
     "base_uri": "https://localhost:8080/"
    },
    "executionInfo": {
     "elapsed": 85,
     "status": "ok",
     "timestamp": 1758696985245,
     "user": {
      "displayName": "Christopher Fornesa",
      "userId": "11885562963716384029"
     },
     "user_tz": 300
    },
    "id": "FNwlLZ8P0X7n",
    "outputId": "70db6202-b297-4aee-baf8-18912642f122"
   },
   "outputs": [
    {
     "data": {
      "text/plain": [
       "[('K-Nearest Neighbors',\n",
       "  'Online Abusive Attacks',\n",
       "  12.522529390277027,\n",
       "  0.9594925042869058,\n",
       "  {'knn_regressor__metric': 'euclidean',\n",
       "   'knn_regressor__n_neighbors': 2,\n",
       "   'knn_regressor__weights': 'distance'},\n",
       "  {'Parent tweets': np.float64(0.004320409611475784),\n",
       "   'Replies to parents': np.float64(0.001017885111278205),\n",
       "   'Avg replies per parent': np.float64(0.0009420196813945348),\n",
       "   'Parent tweets with replies': np.float64(0.004535099257500097),\n",
       "   'Avg replies per parent with replies': np.float64(-0.00526917509897018),\n",
       "   'Toxic parent tweets': np.float64(0.06671008403307097),\n",
       "   'Non-toxic parent tweets': np.float64(0.0030696695611902467),\n",
       "   'Toxic replies': np.float64(0.0025830882931800136),\n",
       "   'Non-toxic replies': np.float64(0.0009854429836912092),\n",
       "   'Toxic replies to non-toxic parents': np.float64(0.0029989591792056957),\n",
       "   'Non-toxic replies to non-toxic parents': np.float64(0.0009681523232915823),\n",
       "   'Toxic replies to toxic parents': np.float64(0.008059415873242937),\n",
       "   'Non-toxic replies to toxic parents': np.float64(0.005715440659741122),\n",
       "   'Followers_count': np.float64(0.001933502208932747),\n",
       "   'Friends_count': np.float64(0.001359594854133095),\n",
       "   'Listed_count': np.float64(0.0017269700325956206),\n",
       "   'Favourites_count': np.float64(0.0013866572606953786),\n",
       "   'Verified': np.float64(0.003923506069533789),\n",
       "   'Statuses_count': np.float64(0.0044970517823688105),\n",
       "   'Retweet_count min': np.float64(0.0001138803403262334),\n",
       "   'Retweet_count avg': np.float64(0.005147409192414276),\n",
       "   'Retweet_count max': np.float64(0.001526732499036898),\n",
       "   'Favorite_count min': np.float64(0.0016836560137860502),\n",
       "   'Favorite_count avg': np.float64(0.0019402735824437523),\n",
       "   'Favorite_count max': np.float64(0.004672068789056927),\n",
       "   'Possibly_sensitive': np.float64(0.004462320248400131),\n",
       "   'Repliers with min 1 toxic reply': np.float64(0.0025004875093571077),\n",
       "   'High toxicity parents': np.float64(0.015001039546251305),\n",
       "   'High severe_toxicity parents': np.float64(0.0),\n",
       "   'High identity_attack parents': np.float64(0.17168282117505237),\n",
       "   'High insult parents': np.float64(0.009341552319184876),\n",
       "   'High profanity parents': np.float64(0.12866684931278777),\n",
       "   'High threat parents': np.float64(0.029220644552409736),\n",
       "   'High other attr parents': np.float64(0.0),\n",
       "   'High toxicity replies': np.float64(0.0003759174737074433),\n",
       "   'High severe_toxicity replies': np.float64(0.0),\n",
       "   'High identity_attack replies': np.float64(0.010198027503506568),\n",
       "   'High insult replies': np.float64(-0.002002055897362076),\n",
       "   'High profanity replies': np.float64(0.00514090852989868),\n",
       "   'High threat replies': np.float64(0.0036607696660319487),\n",
       "   'High other attr replies': np.float64(0.0),\n",
       "   'Repliers': np.float64(0.0009960205761064378),\n",
       "   '<3 replies parents': np.float64(0.004319903052854535),\n",
       "   '>=3 replies parents': np.float64(0.0026450830645251997),\n",
       "   'Women': np.float64(0.006290478605712013),\n",
       "   'Love': np.float64(0.006415917127559479),\n",
       "   'News': np.float64(0.005035420490919151),\n",
       "   'Account': np.float64(0.0029661528599113527),\n",
       "   'Feminist': np.float64(0.005722034952087252),\n",
       "   'Official': np.float64(0.006276130440570671),\n",
       "   'Follow': np.float64(0.004849353047294514),\n",
       "   'Products': np.float64(0.003840017094657577),\n",
       "   'Tweets': np.float64(0.005870540654194267),\n",
       "   'Womens': np.float64(0.007071512875816521)})]"
      ]
     },
     "execution_count": 102,
     "metadata": {},
     "output_type": "execute_result"
    }
   ],
   "source": [
    "knn_regression_results_list"
   ]
  },
  {
   "cell_type": "code",
   "execution_count": 103,
   "metadata": {
    "colab": {
     "base_uri": "https://localhost:8080/"
    },
    "executionInfo": {
     "elapsed": 47,
     "status": "ok",
     "timestamp": 1758696987888,
     "user": {
      "displayName": "Christopher Fornesa",
      "userId": "11885562963716384029"
     },
     "user_tz": 300
    },
    "id": "CDAeIA8avla2",
    "outputId": "11c9d573-2a7b-40e7-fac7-3ccddb6978a1"
   },
   "outputs": [
    {
     "data": {
      "text/plain": [
       "[('K-Nearest Neighbors',\n",
       "  'Convabuse',\n",
       "  'NA',\n",
       "  'NA',\n",
       "  0.6223414828065991,\n",
       "  0.6206799562371177,\n",
       "  0.0,\n",
       "  {'knn_classifier__metric': 'euclidean',\n",
       "   'knn_classifier__n_neighbors': 40,\n",
       "   'knn_classifier__weights': 'distance'},\n",
       "  {'annotator_id': np.float64(0.1456569270522759),\n",
       "   'bot': np.float64(0.034128403895845746),\n",
       "   'generalised': np.float64(0.0),\n",
       "   'individual': np.float64(0.0),\n",
       "   'system': np.float64(0.19149274498111707),\n",
       "   'explicit': np.float64(0.006976744186046491),\n",
       "   'implicit': np.float64(0.09793281653746769),\n",
       "   'target_groups': np.float64(0.029735639037964612)}),\n",
       " ('K-Nearest Neighbors',\n",
       "  'Dynamically Generated Hate Speech',\n",
       "  'NA',\n",
       "  'NA',\n",
       "  0.8523985239852399,\n",
       "  0.8513076732384929,\n",
       "  0.0,\n",
       "  {'knn_classifier__metric': 'euclidean',\n",
       "   'knn_classifier__n_neighbors': 30,\n",
       "   'knn_classifier__weights': 'uniform'},\n",
       "  {'type': np.float64(0.1886136004217185),\n",
       "   'annotator': np.float64(0.02679230363732208),\n",
       "   'target_groups': np.float64(0.08191881918819187),\n",
       "   'original': np.float64(0.013099630996309952)}),\n",
       " ('K-Nearest Neighbors',\n",
       "  'US Elections 2020 Hate Speech',\n",
       "  'NA',\n",
       "  'NA',\n",
       "  0.7035984848484849,\n",
       "  0.7026316577874102,\n",
       "  0.0,\n",
       "  {'knn_classifier__metric': 'euclidean',\n",
       "   'knn_classifier__n_neighbors': 20,\n",
       "   'knn_classifier__weights': 'uniform'},\n",
       "  {'Trump': np.float64(0.13617424242424242),\n",
       "   'Biden': np.float64(0.12462121212121213),\n",
       "   'West': np.float64(0.0)}),\n",
       " ('K-Nearest Neighbors',\n",
       "  'MLMA Hate Speech',\n",
       "  'NA',\n",
       "  'NA',\n",
       "  0.6028368794326241,\n",
       "  0.5081221431667367,\n",
       "  0.0,\n",
       "  {'knn_classifier__metric': 'chebyshev',\n",
       "   'knn_classifier__n_neighbors': 42,\n",
       "   'knn_classifier__weights': 'uniform'},\n",
       "  {'shock_annotator_sentiment': np.float64(0.012193126022913248),\n",
       "   'anger_annotator_sentiment': np.float64(0.022749590834697207),\n",
       "   'confusion_annotator_sentiment': np.float64(0.008101472995089998),\n",
       "   'sadness_annotator_sentiment': np.float64(0.021112929623567877),\n",
       "   'indifference_annotator_sentiment': np.float64(0.007446808510638281),\n",
       "   'disgust_annotator_sentiment': np.float64(0.0159574468085106),\n",
       "   'fear_annotator_sentiment': np.float64(0.00379159847244952),\n",
       "   'implicit': np.float64(0.00870158210583739),\n",
       "   'explicit': np.float64(0.00870158210583739),\n",
       "   'Abusive': np.float64(0.006246590289143461),\n",
       "   'Not Abusive': np.float64(0.018030551009274386),\n",
       "   'Very Abusive': np.float64(0.005019094380796485),\n",
       "   'Very Strongly Abusive': np.float64(0.0010911074740861837)})]"
      ]
     },
     "execution_count": 103,
     "metadata": {},
     "output_type": "execute_result"
    }
   ],
   "source": [
    "knn_classification_results_list"
   ]
  },
  {
   "cell_type": "code",
   "execution_count": 104,
   "metadata": {
    "colab": {
     "base_uri": "https://localhost:8080/",
     "height": 174
    },
    "executionInfo": {
     "elapsed": 62,
     "status": "ok",
     "timestamp": 1758696993887,
     "user": {
      "displayName": "Christopher Fornesa",
      "userId": "11885562963716384029"
     },
     "user_tz": 300
    },
    "id": "STCGZaiwOYLo",
    "outputId": "ab6e67a4-1de2-4748-a830-47a67a096d19"
   },
   "outputs": [
    {
     "data": {
      "text/html": [
       "<div>\n",
       "<style scoped>\n",
       "    .dataframe tbody tr th:only-of-type {\n",
       "        vertical-align: middle;\n",
       "    }\n",
       "\n",
       "    .dataframe tbody tr th {\n",
       "        vertical-align: top;\n",
       "    }\n",
       "\n",
       "    .dataframe thead th {\n",
       "        text-align: right;\n",
       "    }\n",
       "</style>\n",
       "<table border=\"1\" class=\"dataframe\">\n",
       "  <thead>\n",
       "    <tr style=\"text-align: right;\">\n",
       "      <th></th>\n",
       "      <th>Model</th>\n",
       "      <th>Dataset</th>\n",
       "      <th>Kernel</th>\n",
       "      <th>Regularization</th>\n",
       "      <th>Accuracy</th>\n",
       "      <th>F1-score</th>\n",
       "      <th>Ratio</th>\n",
       "      <th>Best Parameters</th>\n",
       "      <th>Feature Importances</th>\n",
       "    </tr>\n",
       "  </thead>\n",
       "  <tbody>\n",
       "    <tr>\n",
       "      <th>0</th>\n",
       "      <td>K-Nearest Neighbors</td>\n",
       "      <td>Convabuse</td>\n",
       "      <td>NA</td>\n",
       "      <td>NA</td>\n",
       "      <td>0.622341</td>\n",
       "      <td>0.620680</td>\n",
       "      <td>0.0</td>\n",
       "      <td>{'knn_classifier__metric': 'euclidean', 'knn_c...</td>\n",
       "      <td>{'annotator_id': 0.1456569270522759, 'bot': 0....</td>\n",
       "    </tr>\n",
       "    <tr>\n",
       "      <th>1</th>\n",
       "      <td>K-Nearest Neighbors</td>\n",
       "      <td>Dynamically Generated Hate Speech</td>\n",
       "      <td>NA</td>\n",
       "      <td>NA</td>\n",
       "      <td>0.852399</td>\n",
       "      <td>0.851308</td>\n",
       "      <td>0.0</td>\n",
       "      <td>{'knn_classifier__metric': 'euclidean', 'knn_c...</td>\n",
       "      <td>{'type': 0.1886136004217185, 'annotator': 0.02...</td>\n",
       "    </tr>\n",
       "    <tr>\n",
       "      <th>2</th>\n",
       "      <td>K-Nearest Neighbors</td>\n",
       "      <td>US Elections 2020 Hate Speech</td>\n",
       "      <td>NA</td>\n",
       "      <td>NA</td>\n",
       "      <td>0.703598</td>\n",
       "      <td>0.702632</td>\n",
       "      <td>0.0</td>\n",
       "      <td>{'knn_classifier__metric': 'euclidean', 'knn_c...</td>\n",
       "      <td>{'Trump': 0.13617424242424242, 'Biden': 0.1246...</td>\n",
       "    </tr>\n",
       "    <tr>\n",
       "      <th>3</th>\n",
       "      <td>K-Nearest Neighbors</td>\n",
       "      <td>MLMA Hate Speech</td>\n",
       "      <td>NA</td>\n",
       "      <td>NA</td>\n",
       "      <td>0.602837</td>\n",
       "      <td>0.508122</td>\n",
       "      <td>0.0</td>\n",
       "      <td>{'knn_classifier__metric': 'chebyshev', 'knn_c...</td>\n",
       "      <td>{'shock_annotator_sentiment': 0.01219312602291...</td>\n",
       "    </tr>\n",
       "  </tbody>\n",
       "</table>\n",
       "</div>"
      ],
      "text/plain": [
       "                 Model                            Dataset Kernel  \\\n",
       "0  K-Nearest Neighbors                          Convabuse     NA   \n",
       "1  K-Nearest Neighbors  Dynamically Generated Hate Speech     NA   \n",
       "2  K-Nearest Neighbors      US Elections 2020 Hate Speech     NA   \n",
       "3  K-Nearest Neighbors                   MLMA Hate Speech     NA   \n",
       "\n",
       "  Regularization  Accuracy  F1-score  Ratio  \\\n",
       "0             NA  0.622341  0.620680    0.0   \n",
       "1             NA  0.852399  0.851308    0.0   \n",
       "2             NA  0.703598  0.702632    0.0   \n",
       "3             NA  0.602837  0.508122    0.0   \n",
       "\n",
       "                                     Best Parameters  \\\n",
       "0  {'knn_classifier__metric': 'euclidean', 'knn_c...   \n",
       "1  {'knn_classifier__metric': 'euclidean', 'knn_c...   \n",
       "2  {'knn_classifier__metric': 'euclidean', 'knn_c...   \n",
       "3  {'knn_classifier__metric': 'chebyshev', 'knn_c...   \n",
       "\n",
       "                                 Feature Importances  \n",
       "0  {'annotator_id': 0.1456569270522759, 'bot': 0....  \n",
       "1  {'type': 0.1886136004217185, 'annotator': 0.02...  \n",
       "2  {'Trump': 0.13617424242424242, 'Biden': 0.1246...  \n",
       "3  {'shock_annotator_sentiment': 0.01219312602291...  "
      ]
     },
     "execution_count": 104,
     "metadata": {},
     "output_type": "execute_result"
    }
   ],
   "source": [
    "# Convert the knn_classification_results_list to a DataFrame\n",
    "knn_classification_summary = pd.DataFrame(knn_classification_results_list, columns=[\"Model\", \"Dataset\", \"Kernel\", \"Regularization\", \"Accuracy\", \"F1-score\", \"Ratio\", \"Best Parameters\", \"Feature Importances\"])\n",
    "knn_classification_summary"
   ]
  },
  {
   "cell_type": "code",
   "execution_count": 105,
   "metadata": {},
   "outputs": [
    {
     "data": {
      "text/plain": [
       "[('K-Nearest Neighbors',\n",
       "  'Online Abusive Attacks',\n",
       "  12.522529390277027,\n",
       "  0.9594925042869058,\n",
       "  {'knn_regressor__metric': 'euclidean',\n",
       "   'knn_regressor__n_neighbors': 2,\n",
       "   'knn_regressor__weights': 'distance'},\n",
       "  {'Parent tweets': np.float64(0.004320409611475784),\n",
       "   'Replies to parents': np.float64(0.001017885111278205),\n",
       "   'Avg replies per parent': np.float64(0.0009420196813945348),\n",
       "   'Parent tweets with replies': np.float64(0.004535099257500097),\n",
       "   'Avg replies per parent with replies': np.float64(-0.00526917509897018),\n",
       "   'Toxic parent tweets': np.float64(0.06671008403307097),\n",
       "   'Non-toxic parent tweets': np.float64(0.0030696695611902467),\n",
       "   'Toxic replies': np.float64(0.0025830882931800136),\n",
       "   'Non-toxic replies': np.float64(0.0009854429836912092),\n",
       "   'Toxic replies to non-toxic parents': np.float64(0.0029989591792056957),\n",
       "   'Non-toxic replies to non-toxic parents': np.float64(0.0009681523232915823),\n",
       "   'Toxic replies to toxic parents': np.float64(0.008059415873242937),\n",
       "   'Non-toxic replies to toxic parents': np.float64(0.005715440659741122),\n",
       "   'Followers_count': np.float64(0.001933502208932747),\n",
       "   'Friends_count': np.float64(0.001359594854133095),\n",
       "   'Listed_count': np.float64(0.0017269700325956206),\n",
       "   'Favourites_count': np.float64(0.0013866572606953786),\n",
       "   'Verified': np.float64(0.003923506069533789),\n",
       "   'Statuses_count': np.float64(0.0044970517823688105),\n",
       "   'Retweet_count min': np.float64(0.0001138803403262334),\n",
       "   'Retweet_count avg': np.float64(0.005147409192414276),\n",
       "   'Retweet_count max': np.float64(0.001526732499036898),\n",
       "   'Favorite_count min': np.float64(0.0016836560137860502),\n",
       "   'Favorite_count avg': np.float64(0.0019402735824437523),\n",
       "   'Favorite_count max': np.float64(0.004672068789056927),\n",
       "   'Possibly_sensitive': np.float64(0.004462320248400131),\n",
       "   'Repliers with min 1 toxic reply': np.float64(0.0025004875093571077),\n",
       "   'High toxicity parents': np.float64(0.015001039546251305),\n",
       "   'High severe_toxicity parents': np.float64(0.0),\n",
       "   'High identity_attack parents': np.float64(0.17168282117505237),\n",
       "   'High insult parents': np.float64(0.009341552319184876),\n",
       "   'High profanity parents': np.float64(0.12866684931278777),\n",
       "   'High threat parents': np.float64(0.029220644552409736),\n",
       "   'High other attr parents': np.float64(0.0),\n",
       "   'High toxicity replies': np.float64(0.0003759174737074433),\n",
       "   'High severe_toxicity replies': np.float64(0.0),\n",
       "   'High identity_attack replies': np.float64(0.010198027503506568),\n",
       "   'High insult replies': np.float64(-0.002002055897362076),\n",
       "   'High profanity replies': np.float64(0.00514090852989868),\n",
       "   'High threat replies': np.float64(0.0036607696660319487),\n",
       "   'High other attr replies': np.float64(0.0),\n",
       "   'Repliers': np.float64(0.0009960205761064378),\n",
       "   '<3 replies parents': np.float64(0.004319903052854535),\n",
       "   '>=3 replies parents': np.float64(0.0026450830645251997),\n",
       "   'Women': np.float64(0.006290478605712013),\n",
       "   'Love': np.float64(0.006415917127559479),\n",
       "   'News': np.float64(0.005035420490919151),\n",
       "   'Account': np.float64(0.0029661528599113527),\n",
       "   'Feminist': np.float64(0.005722034952087252),\n",
       "   'Official': np.float64(0.006276130440570671),\n",
       "   'Follow': np.float64(0.004849353047294514),\n",
       "   'Products': np.float64(0.003840017094657577),\n",
       "   'Tweets': np.float64(0.005870540654194267),\n",
       "   'Womens': np.float64(0.007071512875816521)})]"
      ]
     },
     "execution_count": 105,
     "metadata": {},
     "output_type": "execute_result"
    }
   ],
   "source": [
    "knn_regression_results_list"
   ]
  },
  {
   "cell_type": "code",
   "execution_count": 106,
   "metadata": {
    "colab": {
     "base_uri": "https://localhost:8080/",
     "height": 89
    },
    "executionInfo": {
     "elapsed": 63,
     "status": "ok",
     "timestamp": 1758697000548,
     "user": {
      "displayName": "Christopher Fornesa",
      "userId": "11885562963716384029"
     },
     "user_tz": 300
    },
    "id": "_BlKXU7R2FfB",
    "outputId": "0a15d526-6123-4cc1-e8ab-4006f6f7671b"
   },
   "outputs": [
    {
     "data": {
      "text/html": [
       "<div>\n",
       "<style scoped>\n",
       "    .dataframe tbody tr th:only-of-type {\n",
       "        vertical-align: middle;\n",
       "    }\n",
       "\n",
       "    .dataframe tbody tr th {\n",
       "        vertical-align: top;\n",
       "    }\n",
       "\n",
       "    .dataframe thead th {\n",
       "        text-align: right;\n",
       "    }\n",
       "</style>\n",
       "<table border=\"1\" class=\"dataframe\">\n",
       "  <thead>\n",
       "    <tr style=\"text-align: right;\">\n",
       "      <th></th>\n",
       "      <th>Model</th>\n",
       "      <th>Dataset</th>\n",
       "      <th>RMSE</th>\n",
       "      <th>R2</th>\n",
       "      <th>Best Parameters</th>\n",
       "      <th>Coefficients</th>\n",
       "    </tr>\n",
       "  </thead>\n",
       "  <tbody>\n",
       "    <tr>\n",
       "      <th>0</th>\n",
       "      <td>K-Nearest Neighbors</td>\n",
       "      <td>Online Abusive Attacks</td>\n",
       "      <td>12.522529</td>\n",
       "      <td>0.959493</td>\n",
       "      <td>{'knn_regressor__metric': 'euclidean', 'knn_re...</td>\n",
       "      <td>{'Parent tweets': 0.004320409611475784, 'Repli...</td>\n",
       "    </tr>\n",
       "  </tbody>\n",
       "</table>\n",
       "</div>"
      ],
      "text/plain": [
       "                 Model                 Dataset       RMSE        R2  \\\n",
       "0  K-Nearest Neighbors  Online Abusive Attacks  12.522529  0.959493   \n",
       "\n",
       "                                     Best Parameters  \\\n",
       "0  {'knn_regressor__metric': 'euclidean', 'knn_re...   \n",
       "\n",
       "                                        Coefficients  \n",
       "0  {'Parent tweets': 0.004320409611475784, 'Repli...  "
      ]
     },
     "execution_count": 106,
     "metadata": {},
     "output_type": "execute_result"
    }
   ],
   "source": [
    "# Convert the knn_regression_results_list to a DataFrame\n",
    "knn_regression_summary = pd.DataFrame(knn_regression_results_list, columns=[\"Model\", \"Dataset\", \"RMSE\", \"R2\", \"Best Parameters\", \"Coefficients\"])\n",
    "knn_regression_summary"
   ]
  },
  {
   "cell_type": "code",
   "execution_count": 107,
   "metadata": {
    "executionInfo": {
     "elapsed": 658,
     "status": "ok",
     "timestamp": 1758697008010,
     "user": {
      "displayName": "Christopher Fornesa",
      "userId": "11885562963716384029"
     },
     "user_tz": 300
    },
    "id": "4cFmILjTOjLn"
   },
   "outputs": [],
   "source": [
    "knn_classification_summary.to_csv(f\"{results_path}/model8_knn-classification-summary.csv\", index=False)\n",
    "knn_regression_summary.to_csv(f\"{results_path}/model8_knn-regression-summary.csv\", index=False)"
   ]
  }
 ],
 "metadata": {
  "colab": {
   "authorship_tag": "ABX9TyP3biAIa/j66AJZR+Mv8fmI",
   "provenance": []
  },
  "kernelspec": {
   "display_name": "Python 3",
   "name": "python3"
  },
  "language_info": {
   "codemirror_mode": {
    "name": "ipython",
    "version": 3
   },
   "file_extension": ".py",
   "mimetype": "text/x-python",
   "name": "python",
   "nbconvert_exporter": "python",
   "pygments_lexer": "ipython3",
   "version": "3.13.3"
  }
 },
 "nbformat": 4,
 "nbformat_minor": 0
}
